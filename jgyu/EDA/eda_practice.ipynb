{
 "cells": [
  {
   "cell_type": "code",
   "execution_count": 156,
   "id": "caa62962-be46-42a0-9f70-4f4392b4402f",
   "metadata": {},
   "outputs": [],
   "source": [
    "import torch\n",
    "import torchvision\n",
    "import torch.nn as nn\n",
    "import torch.nn.functional as F\n",
    "from torch.utils.data import Dataset, DataLoader\n",
    "from torchvision.transforms import Resize, ToTensor, Normalize\n",
    "import os\n",
    "import glob\n",
    "import PIL\n",
    "import pandas as pd\n",
    "import numpy as np\n",
    "import matplotlib.pyplot as plt\n",
    "import matplotlib.image as mpimg\n",
    "import matplotlib.patches as patches\n",
    "%matplotlib inline"
   ]
  },
  {
   "cell_type": "code",
   "execution_count": 157,
   "id": "d4ce24a2-692b-4473-b758-adf210043d78",
   "metadata": {},
   "outputs": [],
   "source": [
    "train_dir = \"/opt/ml/input/data/train/\""
   ]
  },
  {
   "cell_type": "code",
   "execution_count": 158,
   "id": "3f5f9689-729f-4e86-9ed4-19f9b77ce746",
   "metadata": {},
   "outputs": [
    {
     "name": "stdout",
     "output_type": "stream",
     "text": [
      "/opt/ml/input/data/train/images\n",
      "id        object\n",
      "gender    object\n",
      "race      object\n",
      "age        int64\n",
      "path      object\n",
      "dtype: object\n"
     ]
    }
   ],
   "source": [
    "data = pd.read_csv(os.path.join(train_dir, 'train.csv'))\n",
    "image_dir = os.path.join(train_dir,'images')\n",
    "\n",
    "print(image_dir)\n",
    "print(data.dtypes)"
   ]
  },
  {
   "cell_type": "code",
   "execution_count": 159,
   "id": "f47692b6-d792-4abc-8fbc-a8e0b2b4dfb5",
   "metadata": {},
   "outputs": [
    {
     "data": {
      "text/html": [
       "<div>\n",
       "<style scoped>\n",
       "    .dataframe tbody tr th:only-of-type {\n",
       "        vertical-align: middle;\n",
       "    }\n",
       "\n",
       "    .dataframe tbody tr th {\n",
       "        vertical-align: top;\n",
       "    }\n",
       "\n",
       "    .dataframe thead th {\n",
       "        text-align: right;\n",
       "    }\n",
       "</style>\n",
       "<table border=\"1\" class=\"dataframe\">\n",
       "  <thead>\n",
       "    <tr style=\"text-align: right;\">\n",
       "      <th></th>\n",
       "      <th>id</th>\n",
       "      <th>gender</th>\n",
       "      <th>race</th>\n",
       "      <th>age</th>\n",
       "      <th>path</th>\n",
       "    </tr>\n",
       "  </thead>\n",
       "  <tbody>\n",
       "    <tr>\n",
       "      <th>0</th>\n",
       "      <td>000001</td>\n",
       "      <td>female</td>\n",
       "      <td>Asian</td>\n",
       "      <td>45</td>\n",
       "      <td>000001_female_Asian_45</td>\n",
       "    </tr>\n",
       "    <tr>\n",
       "      <th>1</th>\n",
       "      <td>000002</td>\n",
       "      <td>female</td>\n",
       "      <td>Asian</td>\n",
       "      <td>52</td>\n",
       "      <td>000002_female_Asian_52</td>\n",
       "    </tr>\n",
       "    <tr>\n",
       "      <th>2</th>\n",
       "      <td>000004</td>\n",
       "      <td>male</td>\n",
       "      <td>Asian</td>\n",
       "      <td>54</td>\n",
       "      <td>000004_male_Asian_54</td>\n",
       "    </tr>\n",
       "    <tr>\n",
       "      <th>3</th>\n",
       "      <td>000005</td>\n",
       "      <td>female</td>\n",
       "      <td>Asian</td>\n",
       "      <td>58</td>\n",
       "      <td>000005_female_Asian_58</td>\n",
       "    </tr>\n",
       "    <tr>\n",
       "      <th>4</th>\n",
       "      <td>000006</td>\n",
       "      <td>female</td>\n",
       "      <td>Asian</td>\n",
       "      <td>59</td>\n",
       "      <td>000006_female_Asian_59</td>\n",
       "    </tr>\n",
       "  </tbody>\n",
       "</table>\n",
       "</div>"
      ],
      "text/plain": [
       "       id  gender   race  age                    path\n",
       "0  000001  female  Asian   45  000001_female_Asian_45\n",
       "1  000002  female  Asian   52  000002_female_Asian_52\n",
       "2  000004    male  Asian   54    000004_male_Asian_54\n",
       "3  000005  female  Asian   58  000005_female_Asian_58\n",
       "4  000006  female  Asian   59  000006_female_Asian_59"
      ]
     },
     "execution_count": 159,
     "metadata": {},
     "output_type": "execute_result"
    }
   ],
   "source": [
    "data.head()"
   ]
  },
  {
   "cell_type": "code",
   "execution_count": 160,
   "id": "d691466f-3532-41c7-a9ec-651c6ee12002",
   "metadata": {},
   "outputs": [
    {
     "name": "stdout",
     "output_type": "stream",
     "text": [
      "/opt/ml/input/data/train/images/000001_female_Asian_45/\n"
     ]
    }
   ],
   "source": [
    "image_dirs=[]\n",
    "for img_path in data.path:\n",
    "    image_dirs.append(image_dir+'/'+ img_path+'/')\n",
    "\n",
    "print(image_dirs[0])"
   ]
  },
  {
   "cell_type": "code",
   "execution_count": 161,
   "id": "75efa523-bce1-4b00-baf8-3a2a22596bdf",
   "metadata": {},
   "outputs": [],
   "source": [
    "image_paths=[]\n",
    "\n",
    "for i_dir in image_dirs:\n",
    "    image_paths.append(glob.glob(f'{i_dir}/**'))\n",
    "\n",
    "tf = torchvision.transforms.ToTensor()\n",
    "cnt=0\n",
    "\n",
    "dataset_path=[]\n",
    "dataset_label=[]\n",
    "\n",
    "for img_path in image_paths:\n",
    "    for image in img_path:\n",
    "        dataset_path.append(image)\n",
    "        if 'normal' in image:\n",
    "            cnt+=1\n",
    "            dataset_label.append(2)\n",
    "        elif 'incorrect' in image:\n",
    "            dataset_label.append(1)\n",
    "        else:\n",
    "            dataset_label.append(0)\n",
    "            \n",
    "        #img = PIL.Image.open(image)\n",
    "        #plt.imshow(img)\n",
    "        #plt.show()\n",
    "        #img_t = tf(img)\n",
    "        #print(img_t.size(), img_t[0][0][0]+img_t[1][0][0]+img_t[2][0][0])\n",
    "        "
   ]
  },
  {
   "cell_type": "code",
   "execution_count": 162,
   "id": "c3e74e2a-2d10-44a1-81cc-6d40390e18d4",
   "metadata": {},
   "outputs": [
    {
     "data": {
      "text/plain": [
       "2700"
      ]
     },
     "execution_count": 162,
     "metadata": {},
     "output_type": "execute_result"
    }
   ],
   "source": [
    "cnt"
   ]
  },
  {
   "cell_type": "code",
   "execution_count": 163,
   "id": "db9b138b-e75e-4905-a37f-c64a342d8dac",
   "metadata": {},
   "outputs": [],
   "source": [
    "class TrainDataset(Dataset):\n",
    "    def __init__(self, img_paths, transform):\n",
    "        self.img_paths = img_paths\n",
    "        self.transform = transform\n",
    "        \n",
    "    def __getitem__(self, index):\n",
    "        image = PIL.Image.open(self.img_paths[index])\n",
    "        \n",
    "        if self.transform:\n",
    "            image = self.transform(image)\n",
    "        return image\n",
    "    \n",
    "    def __len__(self):\n",
    "        return len(self.img_paths)"
   ]
  },
  {
   "cell_type": "code",
   "execution_count": 176,
   "id": "2db335e8-8a7c-479e-8054-922d435e0965",
   "metadata": {},
   "outputs": [],
   "source": [
    "transform = torchvision.transforms.Compose([Resize((512,384), PIL.Image.BILINEAR), ToTensor(), Normalize(mean=(0.5, 0.5, 0.5), std=(0.2, 0.2, 0.2)),])\n",
    "dataset = TrainDataset(dataset_path, transform)\n",
    "\n",
    "loader = DataLoader(dataset, shuffle=False)"
   ]
  },
  {
   "cell_type": "code",
   "execution_count": 177,
   "id": "dd44007a-e29c-4f18-ae6c-cb58d9590159",
   "metadata": {},
   "outputs": [],
   "source": [
    "class MyModel(nn.Module):\n",
    "    def __init__(self, num_classes: int = 1000):\n",
    "        super(MyModel, self).__init__()\n",
    "        self.features = nn.Sequential(\n",
    "            nn.Conv2d(3, 64, kernel_size=11, stride=4, padding=2),\n",
    "            nn.BatchNorm2d(64),\n",
    "            nn.ReLU(inplace=True),\n",
    "        )\n",
    "        self.avgpool = nn.AdaptiveAvgPool2d((1, 1))\n",
    "        self.classifier = nn.Sequential(\n",
    "            nn.Dropout(),\n",
    "            nn.Linear(64, 32),\n",
    "            nn.ReLU(inplace=True),\n",
    "            nn.Linear(32, num_classes),\n",
    "        )\n",
    "\n",
    "    def forward(self, x: torch.Tensor) -> torch.Tensor:\n",
    "        x = self.features(x)\n",
    "        x = self.avgpool(x)\n",
    "        x = torch.flatten(x, 1)\n",
    "        x = self.classifier(x)\n",
    "        return x"
   ]
  },
  {
   "cell_type": "code",
   "execution_count": 166,
   "id": "b33e5334-c571-42e8-a1cf-16e3089c722e",
   "metadata": {},
   "outputs": [],
   "source": [
    "f = open(train_dir+\"/isthisright.csv\",\"w\")\n",
    "f.write(\"ImageID\"+','+ \"ans\"+\"\\n\")\n",
    "for i in range(len(dataset_path)):\n",
    "    f.write(dataset_path[i]+','+str(dataset_label[i])+'\\n')\n",
    "f.close()"
   ]
  },
  {
   "cell_type": "code",
   "execution_count": 167,
   "id": "834757dd-a8db-454b-a81d-95604b78f313",
   "metadata": {},
   "outputs": [],
   "source": [
    "submission = pd.read_csv(os.path.join(train_dir, 'isthisright.csv'))                                      "
   ]
  },
  {
   "cell_type": "code",
   "execution_count": 170,
   "id": "0247d215-8910-405e-91a3-8d4762a4e397",
   "metadata": {},
   "outputs": [
    {
     "name": "stdout",
     "output_type": "stream",
     "text": [
      "test inference is done!\n"
     ]
    }
   ],
   "source": [
    "device = torch.device('cuda')\n",
    "model = MyModel(num_classes=18).to(device)\n",
    "model.eval()\n",
    "\n",
    "# 모델이 테스트 데이터셋을 예측하고 결과를 저장합니다.\n",
    "all_predictions = []\n",
    "for images in loader:\n",
    "    with torch.no_grad():\n",
    "        images = images.to(device)\n",
    "        pred = model(images)\n",
    "        pred = pred.argmax(dim=-1)\n",
    "        all_predictions.extend(pred.cpu().numpy())\n",
    "submission['ans'] = all_predictions\n",
    "\n",
    "submission.to_csv(os.path.join(train_dir, 'submission.csv'), index=False)\n",
    "print('test inference is done!')"
   ]
  },
  {
   "cell_type": "code",
   "execution_count": null,
   "id": "2c2cc492-de7f-4d10-92eb-457a158aa54a",
   "metadata": {},
   "outputs": [],
   "source": []
  },
  {
   "cell_type": "code",
   "execution_count": null,
   "id": "d5f30a2b-89a6-417a-9889-c7f83a2160eb",
   "metadata": {},
   "outputs": [],
   "source": []
  },
  {
   "cell_type": "code",
   "execution_count": null,
   "id": "dd1a26f8-33fe-481b-961d-603e5f3a9839",
   "metadata": {},
   "outputs": [],
   "source": []
  },
  {
   "cell_type": "code",
   "execution_count": null,
   "id": "1b903cad-4e26-40b7-b70a-ffdb4c0a1067",
   "metadata": {},
   "outputs": [],
   "source": []
  },
  {
   "cell_type": "code",
   "execution_count": null,
   "id": "0c74da46-11ae-4f2f-bb7d-ef18c98b6f82",
   "metadata": {},
   "outputs": [],
   "source": []
  }
 ],
 "metadata": {
  "kernelspec": {
   "display_name": "Python 3 (ipykernel)",
   "language": "python",
   "name": "python3"
  },
  "language_info": {
   "codemirror_mode": {
    "name": "ipython",
    "version": 3
   },
   "file_extension": ".py",
   "mimetype": "text/x-python",
   "name": "python",
   "nbconvert_exporter": "python",
   "pygments_lexer": "ipython3",
   "version": "3.8.5"
  }
 },
 "nbformat": 4,
 "nbformat_minor": 5
}
