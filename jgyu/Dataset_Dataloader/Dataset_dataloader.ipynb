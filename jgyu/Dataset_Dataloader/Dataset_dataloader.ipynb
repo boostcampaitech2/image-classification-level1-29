{
 "cells": [
  {
   "cell_type": "code",
   "execution_count": 90,
   "id": "e2865c46-eca8-40e5-acde-09f6d9793d3f",
   "metadata": {},
   "outputs": [],
   "source": [
    "import torch\n",
    "import torchvision\n",
    "from torchvision import transforms\n",
    "import PIL\n",
    "from PIL import Image\n",
    "import os\n",
    "import glob\n",
    "from glob import glob\n",
    "import pandas as pd\n",
    "import numpy as np\n",
    "import torch.optim as optm\n",
    "import matplotlib.pyplot as plt\n",
    "import torch.nn as nn\n",
    "import torch.nn.functional as F\n",
    "from tqdm.auto import tqdm\n",
    "from sklearn.metrics import f1_score\n",
    "from torch.utils.data import Dataset, DataLoader\n",
    "from torchvision.transforms import Resize, ToTensor, Normalize, CenterCrop\n",
    "\n",
    "device = torch.device('cuda:0' if torch.cuda.is_available() else 'cpu')"
   ]
  },
  {
   "cell_type": "code",
   "execution_count": 112,
   "id": "279a33a7-47f5-4bb2-af56-37a13f4b0b7c",
   "metadata": {},
   "outputs": [],
   "source": [
    "class cfg:\n",
    "    data_dir = \"/opt/ml/input/data/train/\"\n",
    "    img_dir = f\"{data_dir}/images\"\n",
    "    df_path = f\"{data_dir}/train.csv\"\n",
    "    img_height = 512\n",
    "    img_width = 384\n",
    "    batch_size = 128\n",
    "    lr = 0.001\n",
    "    epoch = 10"
   ]
  },
  {
   "cell_type": "code",
   "execution_count": 184,
   "id": "80f1796e-1edc-477d-bc8a-eb0c800434ed",
   "metadata": {},
   "outputs": [],
   "source": [
    "def ans_labeling():\n",
    "    \n",
    "    \"\"\"\n",
    "    mask_labels, gender_labels, age_labels\n",
    "    0 wear,male, <30\n",
    "    1 wear,male, >=30 and <60\n",
    "    2 wear,male, >=60\n",
    "    3 wear,female, <30\n",
    "    4 wear,female, >=30 and <60\n",
    "    5 wear,female, >=60\n",
    "    \n",
    "    6 incorrect,male, <30\n",
    "    7 incorrect,male, >=30 and <60\n",
    "    8 incorrect,male, >=60\n",
    "    9 incorrect,female, <30\n",
    "    10 incorrect,female, >=30 and <60\n",
    "    11 incorrect,female, >=60\n",
    "    \n",
    "    12 not wear,male, <30\n",
    "    13 not wear,male, >=30 and <60\n",
    "    14 not wear,male, >=60\n",
    "    15 not wear,female, <30\n",
    "    16 not wear,female, >=30 and <60\n",
    "    17 not wear,female, >=60\n",
    "    \"\"\"\n",
    "    \n",
    "    result = []\n",
    "    for idx in range(len(mask_labels)):\n",
    "        result.append(mask_labels[idx]*6 + gender_labels[idx]*3 + age_labels[idx])\n",
    "    \n",
    "    return result\n",
    "\n",
    "ans_labels = ans_labeling()\n",
    "# for i in range(len(ans_labels)):\n",
    "#     print(imgs[i], ans_labels[i])"
   ]
  },
  {
   "cell_type": "code",
   "execution_count": 155,
   "id": "31dcef84-a37c-4184-a697-9f8081f417fa",
   "metadata": {},
   "outputs": [
    {
     "data": {
      "text/html": [
       "<div>\n",
       "<style scoped>\n",
       "    .dataframe tbody tr th:only-of-type {\n",
       "        vertical-align: middle;\n",
       "    }\n",
       "\n",
       "    .dataframe tbody tr th {\n",
       "        vertical-align: top;\n",
       "    }\n",
       "\n",
       "    .dataframe thead th {\n",
       "        text-align: right;\n",
       "    }\n",
       "</style>\n",
       "<table border=\"1\" class=\"dataframe\">\n",
       "  <thead>\n",
       "    <tr style=\"text-align: right;\">\n",
       "      <th></th>\n",
       "      <th>id</th>\n",
       "      <th>gender</th>\n",
       "      <th>race</th>\n",
       "      <th>age</th>\n",
       "      <th>path</th>\n",
       "    </tr>\n",
       "  </thead>\n",
       "  <tbody>\n",
       "    <tr>\n",
       "      <th>0</th>\n",
       "      <td>000001</td>\n",
       "      <td>1</td>\n",
       "      <td>Asian</td>\n",
       "      <td>1</td>\n",
       "      <td>000001_female_Asian_45</td>\n",
       "    </tr>\n",
       "    <tr>\n",
       "      <th>1</th>\n",
       "      <td>000002</td>\n",
       "      <td>1</td>\n",
       "      <td>Asian</td>\n",
       "      <td>1</td>\n",
       "      <td>000002_female_Asian_52</td>\n",
       "    </tr>\n",
       "    <tr>\n",
       "      <th>2</th>\n",
       "      <td>000004</td>\n",
       "      <td>0</td>\n",
       "      <td>Asian</td>\n",
       "      <td>1</td>\n",
       "      <td>000004_male_Asian_54</td>\n",
       "    </tr>\n",
       "    <tr>\n",
       "      <th>3</th>\n",
       "      <td>000005</td>\n",
       "      <td>1</td>\n",
       "      <td>Asian</td>\n",
       "      <td>1</td>\n",
       "      <td>000005_female_Asian_58</td>\n",
       "    </tr>\n",
       "    <tr>\n",
       "      <th>4</th>\n",
       "      <td>000006</td>\n",
       "      <td>1</td>\n",
       "      <td>Asian</td>\n",
       "      <td>1</td>\n",
       "      <td>000006_female_Asian_59</td>\n",
       "    </tr>\n",
       "  </tbody>\n",
       "</table>\n",
       "</div>"
      ],
      "text/plain": [
       "       id  gender   race  age                    path\n",
       "0  000001       1  Asian    1  000001_female_Asian_45\n",
       "1  000002       1  Asian    1  000002_female_Asian_52\n",
       "2  000004       0  Asian    1    000004_male_Asian_54\n",
       "3  000005       1  Asian    1  000005_female_Asian_58\n",
       "4  000006       1  Asian    1  000006_female_Asian_59"
      ]
     },
     "execution_count": 155,
     "metadata": {},
     "output_type": "execute_result"
    }
   ],
   "source": [
    "num2class = ['incorrect_mask', 'mask1', 'mask2', 'mask3', 'mask4', 'mask5', 'normal']\n",
    "class2num = {k : v for v, k in enumerate(num2class)}\n",
    "\n",
    "df = pd.read_csv(cfg.df_path)\n",
    "\n",
    "df['gender'] = df['gender'].map({'female':1, 'male':0})\n",
    "df['age'] = df['age'].map(age_label_func)\n",
    "df.head()"
   ]
  },
  {
   "cell_type": "code",
   "execution_count": 156,
   "id": "c471b04c-8f86-440f-8a3e-26d70800cbaa",
   "metadata": {},
   "outputs": [],
   "source": [
    "def get_ext(img_dir, img_id):\n",
    "    filename = os.listdir(os.path.join(img_dir, img_id))[0]\n",
    "    ext = os.path.splitext(filename)[-1].lower()\n",
    "    \n",
    "    return ext"
   ]
  },
  {
   "cell_type": "code",
   "execution_count": 157,
   "id": "5f723617-ba8c-4f19-b3c3-13c96727c144",
   "metadata": {},
   "outputs": [],
   "source": [
    "image_dirs=[]\n",
    "for path in df.path:\n",
    "    image_dirs.append(os.path.join(cfg.img_dir, path))"
   ]
  },
  {
   "cell_type": "code",
   "execution_count": 158,
   "id": "e4bdfab6-2c68-45eb-b50a-d70f52cb3b88",
   "metadata": {},
   "outputs": [],
   "source": [
    "#mask labeling\n",
    "imgs=[]\n",
    "mask_labels=[]\n",
    "for path in image_dirs:\n",
    "    for image in glob(f'{path}/**'):\n",
    "        if 'normal' in image:\n",
    "            mask_labels.append(2)\n",
    "        elif 'incorrect' in image:\n",
    "            mask_labels.append(1)\n",
    "        else:\n",
    "            mask_labels.append(0)\n",
    "        imgs.append(image)"
   ]
  },
  {
   "cell_type": "code",
   "execution_count": 159,
   "id": "ba4dfda7-c232-4bbc-af8b-7c043e026a45",
   "metadata": {},
   "outputs": [],
   "source": [
    "def age_label_func(x):\n",
    "    if x<30: return 0\n",
    "    elif 30<=x<60: return 1\n",
    "    else: return 2\n",
    "\n",
    "def labeling():\n",
    "    result=[]\n",
    "    genders=[]\n",
    "    ages=[]\n",
    "    \n",
    "    for gender in df['gender']:\n",
    "        genders.extend([gender] * 7)\n",
    "        \n",
    "    for age in df['age']:\n",
    "        ages.extend([age] * 7)\n",
    "        \n",
    "    result.append(ages)\n",
    "    result.append(genders)\n",
    "\n",
    "    return result\n",
    "\n",
    "age_labels, gender_labels = labeling()"
   ]
  },
  {
   "cell_type": "code",
   "execution_count": 166,
   "id": "1c92a2c9-86d1-47fe-86f0-f9df70b16d40",
   "metadata": {},
   "outputs": [],
   "source": [
    "class BaseDataset(Dataset):\n",
    "    def __init__(self, img_paths, transform):\n",
    "        super().__init__()\n",
    "        self.img_paths = img_paths\n",
    "        self.transform = transform\n",
    "    \n",
    "    def __len__(self):\n",
    "        return len(self.img_paths)"
   ]
  },
  {
   "cell_type": "code",
   "execution_count": 172,
   "id": "db3f3fb1-e070-4262-b06d-b20f7a828fec",
   "metadata": {},
   "outputs": [],
   "source": [
    "class MaskDataset(BaseDataset):\n",
    "    def __init__(self, img_paths, transform):\n",
    "        super().__init__(img_paths, transform)\n",
    "    \n",
    "    def __getitem__(self,index):\n",
    "        image = Image.open(self.img_paths[index])\n",
    "        if self.transform:\n",
    "            image=self.transform(image)\n",
    "        \n",
    "        return image, mask_labels[index]"
   ]
  },
  {
   "cell_type": "code",
   "execution_count": 173,
   "id": "1e09c196-0f20-467d-809b-fc12a9bb7689",
   "metadata": {},
   "outputs": [],
   "source": [
    "class AgeDataset(BaseDataset):\n",
    "    def __init__(self, img_paths, transform):\n",
    "        super().__init__(img_paths, transform)\n",
    "        \n",
    "    def __getitem__(self,index):\n",
    "        image = Image.open(self.img_paths[index])\n",
    "        if self.transform:\n",
    "            image=self.transform(image)\n",
    "        \n",
    "        return image, age_labels[index]"
   ]
  },
  {
   "cell_type": "code",
   "execution_count": 174,
   "id": "8eedab4c-e773-42fd-b7a5-7a6065fd2219",
   "metadata": {},
   "outputs": [],
   "source": [
    "class GenderDataset(BaseDataset):\n",
    "    def __init__(self):\n",
    "        super().__init__(img_paths, transform)\n",
    "        \n",
    "    def __getitem__(self,index):\n",
    "        image = Image.open(self.img_paths[index])\n",
    "        if self.transform:\n",
    "            image=self.transform(image)\n",
    "        \n",
    "        return image, gender_labels[index]"
   ]
  },
  {
   "cell_type": "code",
   "execution_count": 175,
   "id": "6c710c96-5bcd-4dd7-9098-7419f6a82458",
   "metadata": {},
   "outputs": [],
   "source": [
    "transform = transforms.Compose([\n",
    "    Resize((int(cfg.img_height/2), int(cfg.img_width/2)),Image.BILINEAR),\n",
    "    CenterCrop(int(cfg.img_height/4)),\n",
    "    ToTensor(),\n",
    "    Normalize(mean=[0.485, 0.456, 0.406], std=[0.229, 0.224, 0.225])\n",
    "])\n",
    "\n",
    "mask_dataset = MaskDataset(imgs, transform)\n",
    "mask_dataloader = DataLoader(mask_dataset, batch_size=64, shuffle=True)\n",
    "\n",
    "# batch_iterator = iter(mask_dataloader)\n",
    "# images = next(batch_iterator)\n",
    "# plt.imshow(torchvision.utils.make_grid(images, nrow=5).permute(1, 2, 0))\n",
    "# plt.show()"
   ]
  },
  {
   "cell_type": "code",
   "execution_count": 176,
   "id": "d71b3bd6-e31f-47c9-9bbc-7388292f4d5f",
   "metadata": {},
   "outputs": [],
   "source": [
    "class Gyudel(nn.Module):\n",
    "    def __init__(self, class_num):\n",
    "        super().__init__()\n",
    "        self.model = torchvision.models.resnext101_32x8d(pretrained=True)\n",
    "        self.model.fc=torch.nn.Linear(in_features=2048, out_features=class_num, bias=True)\n",
    "        \n",
    "    def forward(self, x):\n",
    "        x=self.model(x)\n",
    "        \n",
    "        return x"
   ]
  },
  {
   "cell_type": "code",
   "execution_count": 177,
   "id": "9e59cede-9896-468e-ba3a-d5fb7f97fad2",
   "metadata": {},
   "outputs": [],
   "source": [
    "mask_model = Gyudel(3)\n",
    "gender_model = Gyudel(2)\n",
    "age_model = Gyudel(3)\n",
    "\n",
    "optim = optm.Adam(model.parameters(), lr=cfg.lr)\n",
    "loss_fn = nn.CrossEntropyLoss()"
   ]
  },
  {
   "cell_type": "code",
   "execution_count": null,
   "id": "83b67b0b-0b62-454a-a391-61360b52c294",
   "metadata": {},
   "outputs": [],
   "source": []
  },
  {
   "cell_type": "code",
   "execution_count": 179,
   "id": "a39899b2-f98c-4309-8256-904d30aa2b34",
   "metadata": {},
   "outputs": [
    {
     "data": {
      "application/vnd.jupyter.widget-view+json": {
       "model_id": "9a44acd2a5e1472ab86ac0097f702686",
       "version_major": 2,
       "version_minor": 0
      },
      "text/plain": [
       "HBox(children=(HTML(value=''), FloatProgress(value=0.0, max=296.0), HTML(value='')))"
      ]
     },
     "metadata": {},
     "output_type": "display_data"
    },
    {
     "name": "stdout",
     "output_type": "stream",
     "text": [
      "\n",
      "현재 epoch-1의 평균 Loss : 0.024, 평균 Accuracy : 0.994, F1 score : 0.951851851851852\n"
     ]
    }
   ],
   "source": [
    "model.to(device)\n",
    "model_dir=os.path.join(os.getcwd(),'saved/total_model/')\n",
    "\n",
    "with tqdm(mask_dataloader) as pbar:\n",
    "    running_loss=0.\n",
    "    running_acc=0.\n",
    "    \n",
    "    tot_pred=torch.tensor([]).to(device)\n",
    "    tot_label=torch.tensor([]).to(device)\n",
    "    \n",
    "    for n,(image,label) in enumerate(pbar):\n",
    "        image=image.to(device)\n",
    "        label=label.to(device)\n",
    "            \n",
    "        logit=model(image)\n",
    "        _,pred=torch.max(logit,1)\n",
    "        \n",
    "        optim.zero_grad()\n",
    "        loss=loss_fn(logit,label)\n",
    "        loss.backward()\n",
    "        optim.step()\n",
    "        running_loss+=loss.item()*image.size(0)\n",
    "        running_acc+=torch.sum(pred==label)\n",
    "        pbar.set_postfix({'epoch' : epoch+1, 'loss' : running_loss/(n+1), 'accuracy' : float(running_acc)/(n+1),'F1 score':f1_score(label.cpu(),pred.cpu(),average='weighted')})\n",
    "            \n",
    "    tot_pred=torch.hstack((tot_pred,pred))\n",
    "    tot_label=torch.hstack((tot_label,label))\n",
    "    epoch_loss=running_loss/len(mask_dataloader.dataset)\n",
    "    epoch_acc=running_acc/len(mask_dataloader.dataset)\n",
    "        \n",
    "    print(f\"현재 epoch-{epoch+1}의 평균 Loss : {epoch_loss:.3f}, 평균 Accuracy : {epoch_acc:.3f}, F1 score : {f1_score(tot_label.cpu(),tot_pred.cpu(),average='weighted')}\" )\n",
    "        "
   ]
  },
  {
   "cell_type": "code",
   "execution_count": null,
   "id": "d5c1de85-7bc7-4775-9267-313db5245b05",
   "metadata": {},
   "outputs": [],
   "source": []
  }
 ],
 "metadata": {
  "kernelspec": {
   "display_name": "Python 3 (ipykernel)",
   "language": "python",
   "name": "python3"
  },
  "language_info": {
   "codemirror_mode": {
    "name": "ipython",
    "version": 3
   },
   "file_extension": ".py",
   "mimetype": "text/x-python",
   "name": "python",
   "nbconvert_exporter": "python",
   "pygments_lexer": "ipython3",
   "version": "3.8.5"
  }
 },
 "nbformat": 4,
 "nbformat_minor": 5
}
