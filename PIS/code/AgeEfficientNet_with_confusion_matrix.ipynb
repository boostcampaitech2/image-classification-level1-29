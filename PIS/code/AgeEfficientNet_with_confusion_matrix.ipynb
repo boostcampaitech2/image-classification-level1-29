{
 "cells": [
  {
   "cell_type": "code",
   "execution_count": 1,
   "id": "cubic-scoop",
   "metadata": {},
   "outputs": [],
   "source": [
    "import os\n",
    "import numpy as np\n",
    "import pandas as pd\n",
    "from PIL import Image\n",
    "import random\n",
    "import wandb\n",
    "import copy\n",
    "import time\n",
    "from datetime import datetime\n",
    "from pytz import timezone\n",
    "import seaborn as sns\n",
    "\n",
    "import cv2\n",
    "\n",
    "from torchvision.transforms import ToTensor,Compose,ColorJitter,RandomRotation,RandomHorizontalFlip,Resize,CenterCrop,Normalize,GaussianBlur,RandomCrop\n",
    "\n",
    "import timm\n",
    "\n",
    "import torch\n",
    "import torch.nn as nn\n",
    "import torch.optim as optm\n",
    "import torch.nn.functional as F\n",
    "from torch.utils.data import Dataset, DataLoader\n",
    "\n",
    "import torchvision\n",
    "\n",
    "from sklearn.metrics import f1_score\n",
    "from sklearn.model_selection import train_test_split\n",
    "from sklearn.metrics import confusion_matrix\n",
    "\n",
    "import matplotlib.pyplot as plt\n",
    "from matplotlib.pyplot import imshow\n",
    "from matplotlib import gridspec\n",
    "\n",
    "from torchinfo import summary\n",
    "from tqdm.auto import tqdm\n",
    "\n",
    "%matplotlib inline\n",
    "device = 'cuda' if torch.cuda.is_available() else 'cpu'\n",
    "cwd=os.path.dirname(os.getcwd())\n",
    "KST=timezone('Asia/Seoul')\n",
    "date=str(datetime.now().astimezone(KST))[:10]"
   ]
  },
  {
   "cell_type": "code",
   "execution_count": 2,
   "id": "5ee68bde-02bc-45c4-afaa-bf90cbf7f4ee",
   "metadata": {},
   "outputs": [],
   "source": [
    "#프로젝트 이름 설정과 저장경로\n",
    "project_name='AgeEfficientNet_with_confusion_matrix'\n"
   ]
  },
  {
   "cell_type": "code",
   "execution_count": 3,
   "id": "1af0aee3-bfc0-4aa0-b724-9a9f10b62cb8",
   "metadata": {},
   "outputs": [],
   "source": [
    "#Randomness 제어\n",
    "random_seed=2021\n",
    "torch.manual_seed(random_seed)\n",
    "torch.cuda.manual_seed(random_seed)\n",
    "torch.backends.cudnn.deterministic = True\n",
    "torch.backends.cudnn.benchmark = False\n",
    "np.random.seed(random_seed)\n",
    "random.seed(random_seed)"
   ]
  },
  {
   "cell_type": "code",
   "execution_count": 4,
   "id": "667bcb95-ce17-4d41-b2cc-107c72c9c785",
   "metadata": {},
   "outputs": [],
   "source": [
    "transform={'trans':Compose([\n",
    "    Resize((256*512//384,256)),\n",
    "    CenterCrop(224),\n",
    "    ToTensor(),\n",
    "    Normalize(mean=(0.485, 0.456, 0.406), std=(0.229, 0.224, 0.225)),\n",
    "]),'regtrans':Compose([\n",
    "    Resize((256*512//384,256)),\n",
    "    GaussianBlur(3),\n",
    "    ColorJitter(brightness=0.2, contrast=0.2, saturation=0.2, hue=0.2),\n",
    "    RandomCrop(224),\n",
    "    ToTensor(),\n",
    "    Normalize(mean=(0.485, 0.456, 0.406), std=(0.229, 0.224, 0.225)),\n",
    "]),\n",
    "'uptrans':Compose([\n",
    "    Resize((256*512//384,256)),\n",
    "    ColorJitter(brightness=0.25, contrast=0),\n",
    "    RandomHorizontalFlip(),\n",
    "    RandomRotation(20),\n",
    "    CenterCrop(224),\n",
    "    ToTensor(),\n",
    "    Normalize(mean=(0.485, 0.456, 0.406), std=(0.229, 0.224, 0.225)),\n",
    "])}\n",
    "\n",
    "def make_images(meta,img_dir,train):\n",
    "    images=[]\n",
    "    labels=[]\n",
    "    data=pd.DataFrame({'images':[],'labels':[]})\n",
    "    if train:\n",
    "        for idx in range(len(meta)):\n",
    "            folder_path=os.path.join(img_dir, meta.path.iloc[idx])\n",
    "            for img in os.listdir(folder_path):\n",
    "                if '._' in img:\n",
    "                    continue\n",
    "                images.append(Image.open(os.path.join(folder_path,img)))\n",
    "                labels.append((('incorrect' in img)+('normal' in img)*2)*6+(meta.gender.iloc[idx]=='female')*3+(30<=meta.age.iloc[idx])+(60<=meta.age.iloc[idx]))\n",
    "    else:\n",
    "        for img_id in meta.ImageID:\n",
    "            images.append(Image.open(os.path.join(img_dir, img_id)))\n",
    "        labels=[0 for _ in range(len(images))]\n",
    "    data['images']=images\n",
    "    data['labels']=labels\n",
    "    return data\n",
    "\n",
    "class ImageDataset(Dataset):\n",
    "    def __init__(self,transform=transform,mod='train'):\n",
    "        self.mod=mod\n",
    "        self.train=mod!='test'\n",
    "        self.md=['info','train']\n",
    "        self.path=[os.path.join(cwd,'input/data/eval'),os.path.join(cwd,'input/data/train')]\n",
    "        self.meta=pd.read_csv(os.path.join(self.path[self.train], f'{self.md[self.train]}.csv'))\n",
    "        self.img_dir=os.path.join(self.path[self.train],'images')\n",
    "        self.classes=[('Wear','Incorrect','Not Wear'),('남','여'),('<30','>=30 and <60','>=60')]\n",
    "        self.trans=transform\n",
    "        self.criteria=1*(self.meta['age']>=30)+1*(self.meta['age']>=60)+3*(self.meta['gender']=='female')\n",
    "        if self.train:\n",
    "            self.train_data,self.val_data=train_test_split(self.meta,test_size=0.2,stratify=self.criteria)\n",
    "            self.train_data=make_images(self.train_data,self.img_dir,self.train)\n",
    "            self.val_data=make_images(self.val_data,self.img_dir,self.train)\n",
    "    \n",
    "    def __len__(self):\n",
    "        return len(self.train_data) if self.mod=='train' else len(self.val_data)\n",
    "        \n",
    "    \n",
    "    def __getitem__(self, idx):\n",
    "        if self.mod=='valid':\n",
    "            images=self.val_data['images']\n",
    "            labels=self.val_data['labels']\n",
    "        elif self.mod=='train':\n",
    "            images=self.train_data['images']\n",
    "            labels=self.train_data['labels']\n",
    "\n",
    "        label=labels.iloc[idx]\n",
    "        image=images.iloc[idx]\n",
    "        \n",
    "        if self.mod=='train':\n",
    "            if label%3==2:\n",
    "                image=self.trans['uptrans'](image)\n",
    "                return image,label\n",
    "            else:\n",
    "                image=self.trans['regtrans'](image)\n",
    "        else:\n",
    "            image=self.trans['trans'](image)\n",
    "        return image,label\n",
    "\n",
    "def conf_mat(y_true,y_pred):\n",
    "    cm=confusion_matrix(y_true,y_pred)\n",
    "    norm_cm=cm/np.sum(cm, axis=1)[:,None]\n",
    "    cm=pd.DataFrame(norm_cm,index=['mask<30','mask<>','mask60','inc<30','inc<>','inc60','nom<30','nom<>','nom60'],columns=['mask<30','mask45','mask60','inc<30','inc<>','inc60','nom<30','nom<>','nom60'])\n",
    "    fig=plt.figure(figsize=(18,16))\n",
    "    sns.heatmap(cm,annot=True)\n",
    "    return fig\n"
   ]
  },
  {
   "cell_type": "markdown",
   "id": "746a4f67-c4d1-4b99-90f2-ecc873149784",
   "metadata": {},
   "source": [
    "# 부분 모델 학습과 모델저장"
   ]
  },
  {
   "cell_type": "code",
   "execution_count": 5,
   "id": "587e4613-547a-415e-8532-5c2e51a96670",
   "metadata": {},
   "outputs": [],
   "source": [
    "#사용할 부분 모델 불러오기\n",
    "net_mask = timm.create_model('efficientnet_b3a', pretrained=True, num_classes=3)\n",
    "net_gender = timm.create_model('efficientnet_b3a', pretrained=True, num_classes=2)\n",
    "net_age = timm.create_model('efficientnet_b3a', pretrained=True, num_classes=3)"
   ]
  },
  {
   "cell_type": "code",
   "execution_count": 6,
   "id": "642357d7-6199-47e1-bcc7-9682e5efe8b7",
   "metadata": {},
   "outputs": [],
   "source": [
    "#학습 설정하기\n",
    "num_epochs=1000\n",
    "batch_size=60\n",
    "learning_rate=0.001\n",
    "loss_fn=nn.CrossEntropyLoss()\n",
    "models={'mask':net_mask,'gender':net_gender,'age':net_age}\n",
    "classes_num=torch.tensor([6405/12, 6135/30, 960, 1281/12, 1227/30, 192, 1281/12, 1227/30, 192])\n",
    "weight=(torch.tensor([2100. for _ in range(9)])/classes_num).to(device)\n",
    "config={'epochs':num_epochs,'batch_size':batch_size,'learning_rate':learning_rate}"
   ]
  },
  {
   "cell_type": "code",
   "execution_count": 7,
   "id": "4a1a0082-d99a-468a-80f5-8a2706ccb91f",
   "metadata": {},
   "outputs": [
    {
     "name": "stderr",
     "output_type": "stream",
     "text": [
      "\u001b[34m\u001b[1mwandb\u001b[0m: Currently logged in as: \u001b[33mtentoto\u001b[0m (use `wandb login --relogin` to force relogin)\n",
      "\u001b[34m\u001b[1mwandb\u001b[0m: wandb version 0.12.1 is available!  To upgrade, please run:\n",
      "\u001b[34m\u001b[1mwandb\u001b[0m:  $ pip install wandb --upgrade\n",
      "\n",
      "CondaEnvException: Unable to determine environment\n",
      "\n",
      "Please re-run this command with one of the following options:\n",
      "\n",
      "* Provide an environment name via --name or -n\n",
      "* Re-run this command inside an activated conda environment.\n",
      "\n"
     ]
    },
    {
     "data": {
      "text/html": [
       "\n",
       "                Tracking run with wandb version 0.12.0<br/>\n",
       "                Syncing run <strong style=\"color:#cdcd00\">solar-sea-8</strong> to <a href=\"https://wandb.ai\" target=\"_blank\">Weights & Biases</a> <a href=\"https://docs.wandb.com/integrations/jupyter.html\" target=\"_blank\">(Documentation)</a>.<br/>\n",
       "                Project page: <a href=\"https://wandb.ai/tentoto/EfficientNet_with_label_smoothing_age_2021-08-27\" target=\"_blank\">https://wandb.ai/tentoto/EfficientNet_with_label_smoothing_age_2021-08-27</a><br/>\n",
       "                Run page: <a href=\"https://wandb.ai/tentoto/EfficientNet_with_label_smoothing_age_2021-08-27/runs/180km43w\" target=\"_blank\">https://wandb.ai/tentoto/EfficientNet_with_label_smoothing_age_2021-08-27/runs/180km43w</a><br/>\n",
       "                Run data is saved locally in <code>./saved/EfficientNet_with_label_smoothing/2021-08-27/Runned 17_45/wandb/run-20210827_084505-180km43w</code><br/><br/>\n",
       "            "
      ],
      "text/plain": [
       "<IPython.core.display.HTML object>"
      ]
     },
     "metadata": {},
     "output_type": "display_data"
    },
    {
     "name": "stdout",
     "output_type": "stream",
     "text": [
      "training: age\n",
      "mod: train\n"
     ]
    },
    {
     "data": {
      "application/vnd.jupyter.widget-view+json": {
       "model_id": "43b3c799ea9549df90c15d7b4789fb2a",
       "version_major": 2,
       "version_minor": 0
      },
      "text/plain": [
       "HBox(children=(HTML(value=''), FloatProgress(value=0.0, max=252.0), HTML(value='')))"
      ]
     },
     "metadata": {},
     "output_type": "display_data"
    },
    {
     "name": "stdout",
     "output_type": "stream",
     "text": [
      "\n",
      "현재 epoch-0의 평균 Loss : 0.266, 평균 Accuracy : 0.914, F1 score : 0.897\n",
      "mod: valid\n"
     ]
    },
    {
     "data": {
      "application/vnd.jupyter.widget-view+json": {
       "model_id": "9aa341c01b95493a90ef49e87fac298f",
       "version_major": 2,
       "version_minor": 0
      },
      "text/plain": [
       "HBox(children=(HTML(value=''), FloatProgress(value=0.0, max=3780.0), HTML(value='')))"
      ]
     },
     "metadata": {},
     "output_type": "display_data"
    },
    {
     "name": "stdout",
     "output_type": "stream",
     "text": [
      "\n",
      "현재 epoch-0의 평균 Loss : 0.516, 평균 Accuracy : 0.885, F1 score : 0.683\n"
     ]
    },
    {
     "ename": "AttributeError",
     "evalue": "'int' object has no attribute 'zfill'",
     "output_type": "error",
     "traceback": [
      "\u001b[0;31m---------------------------------------------------------------------------\u001b[0m",
      "\u001b[0;31mAttributeError\u001b[0m                            Traceback (most recent call last)",
      "\u001b[0;32m<ipython-input-7-6ebd963b5aae>\u001b[0m in \u001b[0;36m<module>\u001b[0;34m\u001b[0m\n\u001b[1;32m     85\u001b[0m                 \u001b[0mstopper\u001b[0m\u001b[0;34m=\u001b[0m\u001b[0;36m0\u001b[0m\u001b[0;34m\u001b[0m\u001b[0;34m\u001b[0m\u001b[0m\n\u001b[1;32m     86\u001b[0m                 \u001b[0mbest_f1\u001b[0m\u001b[0;34m=\u001b[0m\u001b[0mepoch_f1\u001b[0m\u001b[0;34m\u001b[0m\u001b[0;34m\u001b[0m\u001b[0m\n\u001b[0;32m---> 87\u001b[0;31m                 \u001b[0mtorch\u001b[0m\u001b[0;34m.\u001b[0m\u001b[0msave\u001b[0m\u001b[0;34m(\u001b[0m\u001b[0;34m{\u001b[0m\u001b[0;34m'epoch'\u001b[0m\u001b[0;34m:\u001b[0m\u001b[0me\u001b[0m\u001b[0;34m,\u001b[0m\u001b[0;34m'loss'\u001b[0m\u001b[0;34m:\u001b[0m\u001b[0mloss\u001b[0m\u001b[0;34m,\u001b[0m\u001b[0;34m'model_state_dict'\u001b[0m\u001b[0;34m:\u001b[0m\u001b[0mmodel\u001b[0m\u001b[0;34m.\u001b[0m\u001b[0mstate_dict\u001b[0m\u001b[0;34m(\u001b[0m\u001b[0;34m)\u001b[0m\u001b[0;34m,\u001b[0m\u001b[0;34m'optimizer_state_dict'\u001b[0m\u001b[0;34m:\u001b[0m\u001b[0moptim\u001b[0m\u001b[0;34m.\u001b[0m\u001b[0mstate_dict\u001b[0m\u001b[0;34m(\u001b[0m\u001b[0;34m)\u001b[0m\u001b[0;34m}\u001b[0m\u001b[0;34m,\u001b[0m\u001b[0;34mf\"{dirs['checkpoint']}/checkpoint_{key}_{e.zfill(3)}_{epoch_loss:.3f}_{epoch_acc:.3f}_{epoch_f1:.3f}.pt\"\u001b[0m\u001b[0;34m)\u001b[0m\u001b[0;34m\u001b[0m\u001b[0;34m\u001b[0m\u001b[0m\n\u001b[0m\u001b[1;32m     88\u001b[0m             \u001b[0;32melif\u001b[0m \u001b[0mstopper\u001b[0m\u001b[0;34m==\u001b[0m\u001b[0;36m10\u001b[0m\u001b[0;34m:\u001b[0m\u001b[0;34m\u001b[0m\u001b[0;34m\u001b[0m\u001b[0m\n\u001b[1;32m     89\u001b[0m                 \u001b[0;32mbreak\u001b[0m\u001b[0;34m\u001b[0m\u001b[0;34m\u001b[0m\u001b[0m\n",
      "\u001b[0;31mAttributeError\u001b[0m: 'int' object has no attribute 'zfill'"
     ]
    },
    {
     "data": {
      "image/png": "[encoded data removed]",
      "text/plain": [
       "<Figure size 1296x1152 with 2 Axes>"
      ]
     },
     "metadata": {
      "needs_background": "light"
     },
     "output_type": "display_data"
    }
   ],
   "source": [
    "#실행 파일 저장 경로\n",
    "now='Runned'+'_'.join(str(datetime.now().astimezone(KST))[10:16].split(':'))\n",
    "base_dir=os.path.join('.',f'saved/{project_name}/{date}/{now}')\n",
    "wandb_dir=base_dir\n",
    "checkpoint_dir=''\n",
    "model_dir=''\n",
    "result_dir=''\n",
    "dirs={'model':model_dir,'checkpoint':checkpoint_dir,'result':result_dir}\n",
    "for pth in ['model','checkpoint','result']:\n",
    "    dirs[pth]=os.path.join(base_dir,pth)\n",
    "    if not os.path.isdir(dirs[pth]):\n",
    "        os.makedirs(dirs[pth])\n",
    "\n",
    "#부분 모델 사전 학습\n",
    "for key in ['age']:\n",
    "    data=ImageDataset()\n",
    "    wandb.init(project=project_name+'_'+key+'_'+date,config=config,dir=wandb_dir)\n",
    "    print('training:',key)\n",
    "    model=models[key]\n",
    "    model.to(device)\n",
    "    optim=optm.Adam(model.parameters())\n",
    "    scheduler = optm.lr_scheduler.StepLR(optim, step_size=1, gamma=0.75)\n",
    "    loss_fn=nn.CrossEntropyLoss(weight=weight)\n",
    "    best_f1=0.\n",
    "    stopper=0\n",
    "    for e in range(num_epochs):   \n",
    "        for mod in ['train','valid']:\n",
    "            print('mod:',mod)\n",
    "            data.mod=mod\n",
    "\n",
    "            if mod=='train':\n",
    "                dataloader=DataLoader(data,batch_size=batch_size,shuffle=True)\n",
    "                model.train()\n",
    "            else:\n",
    "                dataloader=DataLoader(data,shuffle=False)\n",
    "                model.eval()\n",
    "\n",
    "            with tqdm(dataloader) as pbar:\n",
    "                running_loss=0.\n",
    "                running_acc=0.\n",
    "                tot_pred=torch.tensor([]).to(device)\n",
    "                tot_label=torch.tensor([]).to(device)\n",
    "                cm_pred=torch.tensor([]).to(device)\n",
    "                cm_label=torch.tensor([]).to(device)\n",
    "                for n,(image,label) in enumerate(pbar):\n",
    "                    image=image.to(device)\n",
    "                    label=label.to(device)\n",
    "                    classes={'mask':label//6,'gender':(label//3)%2,'age':label%3}\n",
    "                    class_ind=classes['mask']\n",
    "                    label=classes[key]+3*class_ind\n",
    "                    \n",
    "                    logit=model(image).view(image.size(0),1,3)\n",
    "                    class_sep=torch.tensor([[i==ind for i in range(3)] for ind in class_ind]).to(device)\n",
    "                    logit=(class_sep.view(image.size(0),3,1)*logit).view(image.size(0),-1)\n",
    "                    _,pred=torch.max(logit,1)\n",
    "                    \n",
    "                    if data.train:\n",
    "                        loss=loss_fn(logit,label)\n",
    "                        running_loss+=loss.item()*image.size(0)\n",
    "                        running_acc+=torch.sum(pred==label)/image.size(0)\n",
    "                        \n",
    "                    if mod=='train':\n",
    "                        optim.zero_grad()\n",
    "                        loss.backward()\n",
    "                        optim.step()\n",
    "                        \n",
    "                    tot_pred=torch.hstack((tot_pred,pred))\n",
    "                    tot_label=torch.hstack((tot_label,label))\n",
    "                    cm_pred=torch.hstack((cm_pred,pred))\n",
    "                    cm_label=torch.hstack((cm_label,label))\n",
    "                    if data.train:\n",
    "                        pbar.set_postfix({'epoch' : e, 'loss' : running_loss/(n+1), 'accuracy' : float(running_acc)/(n+1),'F1 score':f1_score(tot_label.cpu(),tot_pred.cpu(),average='macro')})\n",
    "                        if mod=='train':\n",
    "                            wandb.log({f'running loss {e}' : running_loss/(n+1), f'running accuracy {e}' : float(running_acc)/(n+1),f'running f1 score {e}':f1_score(tot_label.cpu(),tot_pred.cpu(),average='macro')})\n",
    "                if data.train:\n",
    "                    epoch_loss=running_loss/len(dataloader.dataset)\n",
    "                    epoch_acc=running_acc*image.size(0)/len(dataloader.dataset)\n",
    "                    epoch_f1=f1_score(tot_label.cpu(),tot_pred.cpu(),average='macro')\n",
    "                    print(f\"현재 epoch-{e}의 평균 Loss : {epoch_loss:.3f}, 평균 Accuracy : {epoch_acc:.3f}, F1 score : {epoch_f1:.3f}\")\n",
    "        if mod=='valid':\n",
    "            cm=conf_mat(cm_label.cpu(),cm_pred.cpu())\n",
    "            cm.savefig(f'./saved/{project_name}/{date}/{now}/checkpoint/checkpoint_{key}_{e}.jpg')\n",
    "            wandb.log({f'confusion_matrix_{e}':wandb.Image(cm),'loss' : epoch_loss, 'accuracy' : epoch_acc,'f1 score':f1_score(tot_label.cpu(),tot_pred.cpu(),average='macro')})\n",
    "            if best_f1<epoch_f1:\n",
    "                stopper=0\n",
    "                best_f1=epoch_f1\n",
    "                torch.save({'epoch':e,'loss':loss,'model_state_dict':model.state_dict(),'optimizer_state_dict':optim.state_dict()},f\"{dirs['checkpoint']}/checkpoint_{key}_{str(e).zfill(3)}_{epoch_loss:.3f}_{epoch_acc:.3f}_{epoch_f1:.3f}.pt\")\n",
    "            elif stopper==10:\n",
    "                break\n",
    "            else:\n",
    "                stopper+=1\n",
    "    wandb.finish()"
   ]
  },
  {
   "cell_type": "code",
   "execution_count": null,
   "id": "7e348f05-2e9b-48ee-af2e-e58e1b38a68c",
   "metadata": {},
   "outputs": [],
   "source": []
  },
  {
   "cell_type": "code",
   "execution_count": null,
   "id": "b74f6580-5993-4238-9341-700e7e76c99c",
   "metadata": {},
   "outputs": [],
   "source": []
  }
 ],
 "metadata": {
  "kernelspec": {
   "display_name": "Python 3 (ipykernel)",
   "language": "python",
   "name": "python3"
  },
  "language_info": {
   "codemirror_mode": {
    "name": "ipython",
    "version": 3
   },
   "file_extension": ".py",
   "mimetype": "text/x-python",
   "name": "python",
   "nbconvert_exporter": "python",
   "pygments_lexer": "ipython3",
   "version": "3.8.5"
  }
 },
 "nbformat": 4,
 "nbformat_minor": 5
}
