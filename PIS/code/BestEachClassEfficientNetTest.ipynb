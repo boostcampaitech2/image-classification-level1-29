{
 "cells": [
  {
   "cell_type": "code",
   "execution_count": 1,
   "id": "cubic-scoop",
   "metadata": {},
   "outputs": [],
   "source": [
    "import os\n",
    "import numpy as np\n",
    "import pandas as pd\n",
    "from PIL import Image\n",
    "import random\n",
    "import wandb\n",
    "import copy\n",
    "import time\n",
    "from datetime import datetime\n",
    "from pytz import timezone\n",
    "import seaborn as sns\n",
    "import torch.distributions.normal.Normal as Normal\n",
    "import cv2\n",
    "\n",
    "from torchvision.transforms import ToTensor,Compose,ColorJitter,RandomRotation,RandomHorizontalFlip,Resize,CenterCrop,Normalize,GaussianBlur,RandomCrop\n",
    "\n",
    "import timm\n",
    "\n",
    "import torch\n",
    "import torch.nn as nn\n",
    "import torch.optim as optm\n",
    "import torch.nn.functional as F\n",
    "from torch.utils.data import Dataset, DataLoader\n",
    "\n",
    "import torchvision\n",
    "\n",
    "from sklearn.metrics import f1_score\n",
    "from sklearn.model_selection import train_test_split\n",
    "from sklearn.metrics import confusion_matrix\n",
    "\n",
    "import matplotlib.pyplot as plt\n",
    "from matplotlib.pyplot import imshow\n",
    "from matplotlib import gridspec\n",
    "\n",
    "from torchinfo import summary\n",
    "from tqdm.auto import tqdm\n",
    "\n",
    "%matplotlib inline\n",
    "device = 'cuda' if torch.cuda.is_available() else 'cpu'\n",
    "cwd=os.path.dirname(os.getcwd())\n",
    "KST=timezone('Asia/Seoul')"
   ]
  },
  {
   "cell_type": "code",
   "execution_count": 3,
   "id": "5ee68bde-02bc-45c4-afaa-bf90cbf7f4ee",
   "metadata": {},
   "outputs": [],
   "source": [
    "#프로젝트 이름 설정과 저장경로\n",
    "project_name='BestEachClassEfficientNetTest'\n",
    "target_name='EachClassEfficientNet'\n",
    "target_dir=os.path.join(os.getcwd(),f'saved/{target_name}/model')\n",
    "model_dir=os.path.join(os.getcwd(),f'saved/{project_name}/model')\n",
    "checkpoint_dir=os.path.join(os.getcwd(),f'saved/{project_name}/checkpoint')\n",
    "result_dir=os.path.join(os.path.dirname(checkpoint_dir),'result')\n",
    "wandb_dir=os.path.dirname(checkpoint_dir)\n",
    "if not os.path.isdir(checkpoint_dir):\n",
    "    os.makedirs(checkpoint_dir)\n",
    "if not os.path.isdir(result_dir):\n",
    "    os.makedirs(result_dir)\n",
    "if not os.path.isdir(model_dir):\n",
    "    os.makedirs(model_dir)"
   ]
  },
  {
   "cell_type": "code",
   "execution_count": 4,
   "id": "1af0aee3-bfc0-4aa0-b724-9a9f10b62cb8",
   "metadata": {},
   "outputs": [],
   "source": [
    "#Randomness 제어\n",
    "random_seed=2021\n",
    "torch.manual_seed(random_seed)\n",
    "torch.cuda.manual_seed(random_seed)\n",
    "torch.backends.cudnn.deterministic = True\n",
    "torch.backends.cudnn.benchmark = False\n",
    "np.random.seed(random_seed)\n",
    "random.seed(random_seed)"
   ]
  },
  {
   "cell_type": "code",
   "execution_count": 43,
   "id": "667bcb95-ce17-4d41-b2cc-107c72c9c785",
   "metadata": {},
   "outputs": [],
   "source": [
    "transform={'trans':Compose([\n",
    "    Resize((256*512//384,256)),\n",
    "    CenterCrop(224),\n",
    "    ToTensor(),\n",
    "    Normalize(mean=(0.485, 0.456, 0.406), std=(0.229, 0.224, 0.225)),\n",
    "]),'regtrans':Compose([\n",
    "    GaussianBlur(3),\n",
    "    ColorJitter(brightness=0.2, contrast=0.2, saturation=0.2, hue=0.2),\n",
    "    Resize((256*512//384,256)),\n",
    "    RandomCrop(224),\n",
    "    ToTensor(),\n",
    "    Normalize(mean=(0.485, 0.456, 0.406), std=(0.229, 0.224, 0.225)),\n",
    "]),\n",
    "'uptrans':Compose([\n",
    "    ColorJitter(brightness=0.25, contrast=0),\n",
    "    RandomHorizontalFlip(),\n",
    "    RandomRotation(20),\n",
    "    Resize((256*512//384,256)),\n",
    "    CenterCrop(224),\n",
    "    ToTensor(),\n",
    "    Normalize(mean=(0.485, 0.456, 0.406), std=(0.229, 0.224, 0.225)),\n",
    "])}\n",
    "\n",
    "def make_images(meta,img_dir,train):\n",
    "    images=[]\n",
    "    labels=[]\n",
    "    data=pd.DataFrame({'images':[],'labels':[]})\n",
    "    if train:\n",
    "        for idx in range(len(meta)):\n",
    "            folder_path=os.path.join(img_dir, meta.path.iloc[idx])\n",
    "            for img in os.listdir(folder_path):\n",
    "                if '._' in img:\n",
    "                    continue\n",
    "                images.append(os.path.join(folder_path,img))\n",
    "                labels.append((('incorrect' in img)+('normal' in img)*2)*6+(meta.gender.iloc[idx]=='female')*3+(30<=meta.age.iloc[idx])+(60<=meta.age.iloc[idx]))\n",
    "    else:\n",
    "        for img_id in meta.ImageID:\n",
    "            images.append(os.path.join(img_dir, img_id))\n",
    "        labels=[0 for _ in range(len(images))]\n",
    "    data['images']=images\n",
    "    data['labels']=labels\n",
    "    return data\n",
    "\n",
    "class ImageDataset(Dataset):\n",
    "    def __init__(self,transform=transform,mod='train'):\n",
    "        self.mod=mod\n",
    "        self.train=mod!='test'\n",
    "        self.md=['info','train']\n",
    "        self.path=[os.path.join(cwd,'input/data/eval'),os.path.join(cwd,'input/data/train')]\n",
    "        self.meta=pd.read_csv(os.path.join(self.path[self.train], f'{self.md[self.train]}.csv'))\n",
    "        self.img_dir=os.path.join(self.path[self.train],'images')\n",
    "        self.classes=[('Wear','Incorrect','Not Wear'),('남','여'),('<30','>=30 and <60','>=60')]\n",
    "        self.trans=transform\n",
    "        \n",
    "        if self.train:\n",
    "            self.criteria=1*(self.meta['age']>=30)+1*(self.meta['age']>=60)+3*(self.meta['gender']=='female')\n",
    "            self.train_data,self.val_data=train_test_split(self.meta,test_size=0.2,stratify=self.criteria)\n",
    "            self.data_dict={'train':self.train_data,'valid':self.val_data}\n",
    "            self.data=make_images(self.data_dict[self.mod],self.img_dir,self.train)\n",
    "        else:\n",
    "            self.data=make_images(self.meta,self.img_dir,self.train)\n",
    "    \n",
    "    def __len__(self):\n",
    "        return len(self.data)\n",
    "        \n",
    "    \n",
    "    def __getitem__(self, idx):\n",
    "        images=self.data['images']\n",
    "        labels=self.data['labels']\n",
    "\n",
    "        label=labels.iloc[idx]\n",
    "        image=Image.open(images.iloc[idx])\n",
    "        \n",
    "        if self.mod=='train':\n",
    "            if label%3==2:\n",
    "                image=self.trans['uptrans'](image)\n",
    "                return image,label\n",
    "            else:\n",
    "                image=self.trans['regtrans'](image)\n",
    "        else:\n",
    "            image=self.trans['trans'](image)\n",
    "        return image,label\n",
    "def conf_mat(y_true,y_pred):\n",
    "    cm=confusion_matrix(y_true,y_pred)\n",
    "    norm_cm=cm/np.sum(cm, axis=1)[:,None]\n",
    "    cm=pd.DataFrame(norm_cm,index=['mask<30','mask<>','mask60','inc<30','inc<>','inc60','nom<30','nom<>','nom60'],columns=['mask<30','mask45','mask60','inc<30','inc<>','inc60','nom<30','nom<>','nom60'])\n",
    "    fig=plt.figure(figsize=(20,16))\n",
    "    sns.heatmap(cm,annot=True)\n",
    "    return fig\n"
   ]
  },
  {
   "cell_type": "markdown",
   "id": "1bfd9967-6a87-47e7-bf9c-8a365a3b3958",
   "metadata": {},
   "source": [
    "# 합친 모델 학습과 결과저장"
   ]
  },
  {
   "cell_type": "code",
   "execution_count": null,
   "id": "60931df2-c7e9-49d9-9ecd-1e789fc2fcf2",
   "metadata": {},
   "outputs": [],
   "source": [
    "net_mask = timm.create_model('efficientnet_b3a', pretrained=True, num_classes=3)\n",
    "net_gender = timm.create_model('efficientnet_b3a', pretrained=True, num_classes=2)\n",
    "net_age = timm.create_model('efficientnet_b3a', pretrained=True, num_classes=3)\n",
    "\n",
    "net_mask.to(device)\n",
    "net_gender.to(device)\n",
    "net_age.to(device)\n",
    "\n",
    "print('done')"
   ]
  },
  {
   "cell_type": "code",
   "execution_count": 38,
   "id": "27242977-5523-49b9-9e36-fd58a470f42c",
   "metadata": {},
   "outputs": [],
   "source": [
    "#모델 구축\n",
    "class MyModel(nn.Module):\n",
    "    def __init__(self):\n",
    "        super().__init__()\n",
    "        self.mask=net_mask\n",
    "        self.gender=net_gender\n",
    "        self.age=net_age\n",
    "        \n",
    "    def forward(self,x):\n",
    "        mask=(nn.Softmax(dim=1)(self.mask(x))).view(x.size(0),3,1,1)\n",
    "        gender=(nn.Softmax(dim=1)(self.gender(x))).view(x.size(0),1,2,1)\n",
    "        age=(nn.Softmax(dim=1)(self.age(x))).view(x.size(0),1,1,3)\n",
    "        return (mask*gender*age).view(x.size(0),18)\n",
    "    \n",
    "class AgePredictor(nn.Module):\n",
    "    def __init__():\n",
    "        super().__init__()\n",
    "        self.stage1=nn.Sequential([\n",
    "            nn.Linear(3,16),\n",
    "            nn.BatchNorm1d(16)\n",
    "            nn.ReLU(),\n",
    "        ])\n",
    "        self.stage2=nn.Sequential([\n",
    "            nn.Linear(16,256),\n",
    "            nn.BatchNorm1d(256)\n",
    "            nn.ReLU(),\n",
    "        ])\n",
    "        self.stage3=nn.Sequential([\n",
    "            nn.Linear(256,256),\n",
    "            nn.BatchNorm1d(256)\n",
    "            nn.ReLU(),\n",
    "        ])\n",
    "        self.stage4=nn.Sequential([\n",
    "            nn.Linear(256,256),\n",
    "            nn.BatchNorm1d(256)\n",
    "            nn.ReLU(),\n",
    "        ])\n",
    "        self.stage5=nn.Sequential([\n",
    "            nn.Linear(256,1024),\n",
    "            nn.BatchNorm1d(1024),\n",
    "            nn.ReLU(),\n",
    "        ])\n",
    "        self.fc=nn.Linear(1024,53)\n",
    "    \n",
    "    def forward(self,x):\n",
    "        out=self.stage1(x)\n",
    "        out=self.stage2(out)\n",
    "        out=self.stage3(out)\n",
    "        out=self.stage4(out)\n",
    "        out=self.stage5(out)\n",
    "        out=self.fc(out)\n",
    "        return out\n",
    "\n",
    "class PredDist(nn.Module):\n",
    "    def __init__():\n",
    "        super().__init__()\n",
    "        self.age0=Normal(mean=18\n",
    "        self.age1=\n",
    "        self.age2=\n",
    "        "
   ]
  },
  {
   "cell_type": "code",
   "execution_count": 39,
   "id": "01b1ea23-2dca-4bd9-8638-4e2b88151c61",
   "metadata": {},
   "outputs": [],
   "source": [
    "#모델 설정하기\n",
    "target=MyModel()\n",
    "model=AgePredictor()\n",
    "target_id=sorted(os.listdir(target_dir))[-1]\n",
    "target=torch.load(os.path.join(target_dir,target_id))\n",
    "target.load_state_dict(target['model_state_dict'])\n",
    "target.to(device)\n",
    "optim=optm.Adam(model.parameters())\n",
    "optim.load_state_dict(target['optimizer_state_dict'])\n",
    "scheduler = optm.lr_scheduler.StepLR(optim, step_size=1, gamma=0.75)\n",
    "epoch=target['epoch']"
   ]
  },
  {
   "cell_type": "code",
   "execution_count": 40,
   "id": "79ec9cda-06c3-4bd8-a7bf-084f22783aa1",
   "metadata": {},
   "outputs": [],
   "source": [
    "#학습 설정하기\n",
    "num_epochs=20\n",
    "batch_size=60\n",
    "learning_rate=0.0005\n",
    "best_f1=0.\n",
    "stopper=0\n",
    "weight=torch.tensor([18900/49410,18900/36900,18900/7470,18900/65880,18900/73530,18900/9810,18900/9882,18900/7380,18900/1494,18900/13176,18900/14706,18900/1962,18900/9882,18900/7380,18900/1494,18900/13176,18900/14706,18900/1962]).to(device)\n",
    "loss_fn=nn.CrossEntropyLoss(weight=weight)\n",
    "config={'epochs':num_epochs,'batch_size':batch_size,'learning_rate':learning_rate}"
   ]
  },
  {
   "cell_type": "code",
   "execution_count": null,
   "id": "6e41d536-d33d-481a-961b-5d61ad833cb6",
   "metadata": {},
   "outputs": [
    {
     "data": {
      "text/html": [
       "Finishing last run (ID:w3ds7zjg) before initializing another..."
      ],
      "text/plain": [
       "<IPython.core.display.HTML object>"
      ]
     },
     "metadata": {},
     "output_type": "display_data"
    },
    {
     "data": {
      "text/html": [
       "<br/>Waiting for W&B process to finish, PID 25139<br/>Program ended successfully."
      ],
      "text/plain": [
       "<IPython.core.display.HTML object>"
      ]
     },
     "metadata": {},
     "output_type": "display_data"
    },
    {
     "data": {
      "application/vnd.jupyter.widget-view+json": {
       "model_id": "",
       "version_major": 2,
       "version_minor": 0
      },
      "text/plain": [
       "VBox(children=(Label(value=' 0.00MB of 0.00MB uploaded (0.00MB deduped)\\r'), FloatProgress(value=1.0, max=1.0)…"
      ]
     },
     "metadata": {},
     "output_type": "display_data"
    },
    {
     "data": {
      "text/html": [
       "Find user logs for this run at: <code>/opt/ml/image-classification-level1-29/PIS/code/saved/BestEachClassEfficientNetTest/wandb/run-20210827_000949-w3ds7zjg/logs/debug.log</code>"
      ],
      "text/plain": [
       "<IPython.core.display.HTML object>"
      ]
     },
     "metadata": {},
     "output_type": "display_data"
    },
    {
     "data": {
      "text/html": [
       "Find internal logs for this run at: <code>/opt/ml/image-classification-level1-29/PIS/code/saved/BestEachClassEfficientNetTest/wandb/run-20210827_000949-w3ds7zjg/logs/debug-internal.log</code>"
      ],
      "text/plain": [
       "<IPython.core.display.HTML object>"
      ]
     },
     "metadata": {},
     "output_type": "display_data"
    },
    {
     "data": {
      "text/html": [
       "Synced 5 W&B file(s), 0 media file(s), 0 artifact file(s) and 0 other file(s)"
      ],
      "text/plain": [
       "<IPython.core.display.HTML object>"
      ]
     },
     "metadata": {},
     "output_type": "display_data"
    },
    {
     "data": {
      "text/html": [
       "\n",
       "                    <br/>Synced <strong style=\"color:#cdcd00\">fragrant-waterfall-12</strong>: <a href=\"https://wandb.ai/tentoto/BestEachClassEfficientNetTest/runs/w3ds7zjg\" target=\"_blank\">https://wandb.ai/tentoto/BestEachClassEfficientNetTest/runs/w3ds7zjg</a><br/>\n",
       "                "
      ],
      "text/plain": [
       "<IPython.core.display.HTML object>"
      ]
     },
     "metadata": {},
     "output_type": "display_data"
    },
    {
     "data": {
      "text/html": [
       "...Successfully finished last run (ID:w3ds7zjg). Initializing new run:<br/><br/>"
      ],
      "text/plain": [
       "<IPython.core.display.HTML object>"
      ]
     },
     "metadata": {},
     "output_type": "display_data"
    },
    {
     "name": "stderr",
     "output_type": "stream",
     "text": [
      "\u001b[34m\u001b[1mwandb\u001b[0m: wandb version 0.12.1 is available!  To upgrade, please run:\n",
      "\u001b[34m\u001b[1mwandb\u001b[0m:  $ pip install wandb --upgrade\n"
     ]
    }
   ],
   "source": [
    "now='Runned'+'_'.join(str(datetime.now().astimezone(KST))[10:16].split(':'))\n",
    "base_dir=os.path.join('.',f'saved/{project_name}/{date}/{now}')\n",
    "wandb_dir=base_dir\n",
    "checkpoint_dir=''\n",
    "model_dir=''\n",
    "result_dir=''\n",
    "dirs={'model':model_dir,'checkpoint':checkpoint_dir,'result':result_dir}\n",
    "for pth in ['model','checkpoint','result']:\n",
    "    dirs[pth]=os.path.join(base_dir,pth)\n",
    "    if not os.path.isdir(dirs[pth]):\n",
    "        os.makedirs(dirs[pth])\n",
    "\n",
    "\n",
    "wandb.init(project=project_name,config=config,dir=wandb_dir)\n",
    "for e in range(epoch,epoch+num_epochs):   \n",
    "    for mod in ['test','train','valid',]:\n",
    "        print('mod:',mod)\n",
    "        data=ImageDataset(mod=mod)\n",
    "\n",
    "        if mod=='train':\n",
    "            dataloader=DataLoader(data,batch_size=batch_size,shuffle=True)\n",
    "            model.train()\n",
    "        else:\n",
    "            submission = pd.read_csv(os.path.join(data.path[0], 'info.csv'))\n",
    "            dataloader=DataLoader(data,shuffle=False)\n",
    "            model.eval()\n",
    "\n",
    "        with tqdm(dataloader) as pbar:\n",
    "            running_loss=0.\n",
    "            running_acc=0.\n",
    "            tot_pred=torch.tensor([]).to(device)\n",
    "            tot_label=torch.tensor([]).to(device)\n",
    "            cm_pred=torch.tensor([]).to(device)\n",
    "            cm_label=torch.tensor([]).to(device)\n",
    "            for n,(image,label) in enumerate(pbar):\n",
    "                image=image.to(device)\n",
    "                label=label.to(device)\n",
    "                \n",
    "                logit=model(image)\n",
    "                _,pred=torch.max(logit,1)\n",
    "                \n",
    "                if data.train:\n",
    "                    loss=loss_fn(logit,label)\n",
    "                    running_loss+=loss.item()*image.size(0)\n",
    "                    running_acc+=torch.sum(pred==label)/image.size(0)\n",
    "\n",
    "                if mod=='train':\n",
    "                    optim.zero_grad()\n",
    "                    loss.backward()\n",
    "                    optim.step()                    \n",
    "\n",
    "                tot_pred=torch.hstack((tot_pred,pred))\n",
    "                tot_label=torch.hstack((tot_label,label))\n",
    "                cm_pred=torch.hstack((cm_pred,pred+3*classes['mask']))\n",
    "                cm_label=torch.hstack((cm_label,label+3*classes['mask']))\n",
    "                if data.train:\n",
    "                    pbar.set_postfix({'epoch' : e, 'loss' : running_loss/(n+1), 'accuracy' : float(running_acc)/(n+1),'F1 score':f1_score(tot_label.cpu(),tot_pred.cpu(),average='macro')})\n",
    "                    if mod=='train':\n",
    "                        wandb.log({f'running loss {e}' : running_loss/(n+1), f'running accuracy {e}' : float(running_acc)/(n+1),f'running f1 score {e}':f1_score(tot_label.cpu(),tot_pred.cpu(),average='macro')})\n",
    "            if data.train:\n",
    "                epoch_loss=running_loss/len(dataloader.dataset)\n",
    "                epoch_acc=running_acc*image.size(0)/len(dataloader.dataset)\n",
    "                epoch_f1=f1_score(tot_label.cpu(),tot_pred.cpu(),average='macro')\n",
    "                print(f\"현재 epoch-{e}의 평균 Loss : {epoch_loss:.3f}, 평균 Accuracy : {epoch_acc:.3f}, F1 score : {epoch_f1:.3f}\")\n",
    "            elif mod=='test':\n",
    "                submission['ans'] = tot_pred.cpu().numpy().astype('int64')\n",
    "                submission.to_csv(os.path.join(result_dir, f'submission_{project_name}_{e}_{epoch_f1}.csv'), index=False)\n",
    "                \n",
    "    if mod=='valid':\n",
    "        now=str(datetime.now().astimezone(KST))[:16]\n",
    "        cm=conf_mat(cm_label.cpu(),cm_pred.cpu())\n",
    "        cm.savefig(f'./saved/{project_name}/checkpoint/checkpoint_{key}_{now}_{e}.jpg')\n",
    "        wandb.log({'confusion_matrix':wandb.Image(cm),'loss' : epoch_loss, 'accuracy' : epoch_acc,'f1 score':f1_score(tot_label.cpu(),tot_pred.cpu(),average='macro')})\n",
    "        if best_f1<epoch_f1:\n",
    "            stopper=0\n",
    "            best_f1=epoch_f1\n",
    "            torch.save({'epoch':e,'loss':loss,'model_state_dict':model.state_dict(),'optimizer_state_dict':optim.state_dict()},f\"{dirs['checkpoint'}/checkpoint_{e.zfill(3)}_{epoch_loss:.3f}_{epoch_acc:.3f}_{epoch_f1:.3f}.pt\")\n",
    "        elif stopper==3:\n",
    "            break\n",
    "        else:\n",
    "            stopper+=1\n",
    "wandb.finish()"
   ]
  },
  {
   "cell_type": "code",
   "execution_count": null,
   "id": "d087a6a9-87e3-4f67-8e0e-7ae4bafdccfd",
   "metadata": {},
   "outputs": [],
   "source": []
  },
  {
   "cell_type": "code",
   "execution_count": null,
   "id": "9d747d58-0b2a-4b26-8d7c-e29b9bab8528",
   "metadata": {},
   "outputs": [],
   "source": []
  }
 ],
 "metadata": {
  "kernelspec": {
   "display_name": "Python 3 (ipykernel)",
   "language": "python",
   "name": "python3"
  },
  "language_info": {
   "codemirror_mode": {
    "name": "ipython",
    "version": 3
   },
   "file_extension": ".py",
   "mimetype": "text/x-python",
   "name": "python",
   "nbconvert_exporter": "python",
   "pygments_lexer": "ipython3",
   "version": "3.8.5"
  }
 },
 "nbformat": 4,
 "nbformat_minor": 5
}
