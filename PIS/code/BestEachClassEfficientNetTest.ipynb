{
 "cells": [
  {
   "cell_type": "code",
   "execution_count": 1,
   "id": "cubic-scoop",
   "metadata": {},
   "outputs": [],
   "source": [
    "import os\n",
    "import numpy as np\n",
    "import pandas as pd\n",
    "from PIL import Image\n",
    "import random\n",
    "import wandb\n",
    "import copy\n",
    "import time\n",
    "from datetime import datetime\n",
    "from pytz import timezone\n",
    "import seaborn as sns\n",
    "\n",
    "import cv2\n",
    "\n",
    "from torchvision.transforms import ToTensor,Compose,ColorJitter,RandomRotation,RandomHorizontalFlip,Resize,CenterCrop,Normalize,GaussianBlur,RandomCrop\n",
    "\n",
    "import timm\n",
    "\n",
    "import torch\n",
    "import torch.nn as nn\n",
    "import torch.optim as optm\n",
    "import torch.nn.functional as F\n",
    "import torch.distributions as dist\n",
    "from torch.utils.data import Dataset, DataLoader\n",
    "\n",
    "import torchvision\n",
    "\n",
    "from sklearn.metrics import f1_score\n",
    "from sklearn.model_selection import train_test_split\n",
    "from sklearn.metrics import confusion_matrix\n",
    "\n",
    "import matplotlib.pyplot as plt\n",
    "from matplotlib.pyplot import imshow\n",
    "from matplotlib import gridspec\n",
    "\n",
    "from torchinfo import summary\n",
    "from tqdm.auto import tqdm\n",
    "\n",
    "%matplotlib inline\n",
    "device = 'cuda' if torch.cuda.is_available() else 'cpu'\n",
    "cwd=os.path.dirname(os.getcwd())\n",
    "KST=timezone('Asia/Seoul')\n",
    "date=str(datetime.now().astimezone(KST))[:10]"
   ]
  },
  {
   "cell_type": "code",
   "execution_count": 2,
   "id": "5ee68bde-02bc-45c4-afaa-bf90cbf7f4ee",
   "metadata": {},
   "outputs": [],
   "source": [
    "#프로젝트 이름 설정과 저장경로\n",
    "project_name='BestEachClassEfficientNetTest'\n"
   ]
  },
  {
   "cell_type": "code",
   "execution_count": 3,
   "id": "1af0aee3-bfc0-4aa0-b724-9a9f10b62cb8",
   "metadata": {},
   "outputs": [],
   "source": [
    "#Randomness 제어\n",
    "random_seed=2021\n",
    "torch.manual_seed(random_seed)\n",
    "torch.cuda.manual_seed(random_seed)\n",
    "torch.backends.cudnn.deterministic = True\n",
    "torch.backends.cudnn.benchmark = False\n",
    "np.random.seed(random_seed)\n",
    "random.seed(random_seed)"
   ]
  },
  {
   "cell_type": "code",
   "execution_count": 4,
   "id": "667bcb95-ce17-4d41-b2cc-107c72c9c785",
   "metadata": {},
   "outputs": [],
   "source": [
    "transform={'trans':Compose([\n",
    "    Resize((256*512//384,256)),\n",
    "    CenterCrop(224),\n",
    "    ToTensor(),\n",
    "    Normalize(mean=(0.485, 0.456, 0.406), std=(0.229, 0.224, 0.225)),\n",
    "]),'regtrans':Compose([\n",
    "    Resize((256*512//384,256)),\n",
    "    GaussianBlur(3),\n",
    "    ColorJitter(brightness=0.2, contrast=0.2, saturation=0.2, hue=0.2),\n",
    "    RandomCrop(224),\n",
    "    ToTensor(),\n",
    "    Normalize(mean=(0.485, 0.456, 0.406), std=(0.229, 0.224, 0.225)),\n",
    "]),'uptrans':Compose([\n",
    "    Resize((256*512//384,256)),\n",
    "    RandomHorizontalFlip(),\n",
    "    RandomRotation(20),\n",
    "    CenterCrop(224),\n",
    "    ToTensor(),\n",
    "    Normalize(mean=(0.485, 0.456, 0.406), std=(0.229, 0.224, 0.225)),\n",
    "])}\n",
    "\n",
    "def make_images(meta,img_dir,train):\n",
    "    images=[]\n",
    "    labels=[]\n",
    "    ages=[]\n",
    "    data=pd.DataFrame({'images':[],'labels':[]})\n",
    "    if train:\n",
    "        for idx in range(len(meta)):\n",
    "            folder_path=os.path.join(img_dir, meta.path.iloc[idx])\n",
    "            for img in os.listdir(folder_path):\n",
    "                if '._' in img:\n",
    "                    continue\n",
    "                images.append(os.path.join(folder_path,img))\n",
    "                labels.append((('incorrect' in img)+('normal' in img)*2)*6+(meta.gender.iloc[idx]=='female')*3+(30<=meta.age.iloc[idx])+(60<=meta.age.iloc[idx]))\n",
    "                ages.append(meta.age.iloc[idx])\n",
    "    else:\n",
    "        for img_id in meta.ImageID:\n",
    "            images.append(os.path.join(img_dir, img_id))\n",
    "        labels=[0 for _ in range(len(images))]\n",
    "    data['images']=images\n",
    "    data['labels']=labels\n",
    "    return data\n",
    "\n",
    "class ImageDataset(Dataset):\n",
    "    def __init__(self,transform=transform,mod='train'):\n",
    "        self.mod=mod\n",
    "        self.train=mod!='test'\n",
    "        self.md=['info','train']\n",
    "        self.path=['/opt/ml/image-classification-level1-29/team/input/data/eval','/opt/ml/image-classification-level1-29/team/input/data/train']\n",
    "        self.meta=pd.read_csv(os.path.join(self.path[self.train], f'{self.md[self.train]}.csv'))\n",
    "        self.img_dir=os.path.join(self.path[self.train],'images')\n",
    "        self.classes=[('Wear','Incorrect','Not Wear'),('남','여'),('<30','>=30 and <60','>=60')]\n",
    "        self.trans=transform\n",
    "        \n",
    "        if self.train:\n",
    "            self.criteria=1*(self.meta['age']>=30)+1*(self.meta['age']>=60)+3*(self.meta['gender']=='female')\n",
    "            self.train_data,self.val_data=train_test_split(self.meta,test_size=0.2,stratify=self.criteria)\n",
    "            self.train_data=make_images(self.train_data,self.img_dir,self.train)\n",
    "            self.val_data=make_images(self.val_data,self.img_dir,self.train)\n",
    "        else:\n",
    "            self.data=make_images(self.meta,self.img_dir,self.train)\n",
    "    \n",
    "    def __len__(self):\n",
    "        if self.mod=='train':\n",
    "            l=len(self.train_data)\n",
    "        elif self.mod=='valid':\n",
    "            l=len(self.val_data)\n",
    "        else:\n",
    "            l=len(self.data)\n",
    "        return  l\n",
    "        \n",
    "    \n",
    "    def __getitem__(self, idx):\n",
    "        if self.mod=='valid':\n",
    "            images=self.val_data['images']\n",
    "            labels=self.val_data['labels']\n",
    "        elif self.mod=='train':\n",
    "            images=self.train_data['images']\n",
    "            labels=self.train_data['labels']\n",
    "        else:\n",
    "            images=self.data['images']\n",
    "            labels=self.data['labels']\n",
    "            \n",
    "\n",
    "        label=labels.iloc[idx]\n",
    "        image=Image.open(images.iloc[idx])\n",
    "        \n",
    "        if self.mod=='train':\n",
    "            if True:\n",
    "                image=self.trans['uptrans'](image)\n",
    "                return image,label\n",
    "            else:\n",
    "                image=self.trans['regtrans'](image)\n",
    "                return image,label\n",
    "        else:\n",
    "            image=self.trans['trans'](image)\n",
    "            return image,label\n",
    "        return image,0,0\n",
    "\n",
    "def conf_mat(y_true,y_pred):\n",
    "    cm=confusion_matrix(y_true,y_pred)\n",
    "    norm_cm=cm/np.sum(cm, axis=1)[:,None]\n",
    "    indices=['wear,m,<30','wear,m,mask<>','wear,m,mask60','wear,f,<30','wear,f,<>','wear,f,60','inc,m,<30','inc,m,<>','inc,m,60','inc,f,<30','inc,f,<>','inc,f,60','nom,m,<30','nom,m,<>','nom,m,60','nom,f,<30','nom,f,<>','nom,f,60']\n",
    "    cm=pd.DataFrame(norm_cm,index=indices,columns=indices)\n",
    "    fig=plt.figure(figsize=(11,9))\n",
    "    sns.heatmap(cm,annot=True)\n",
    "    return fig\n",
    "\n",
    "\n",
    "class SkewNormal(dist.normal.Normal):\n",
    "    def __init__(self,mean=0,std=1,skew=0):\n",
    "        super().__init__(loc=mean,scale=std)\n",
    "        self.skew=skew\n",
    "    def skewcdf(self,x):\n",
    "        return 0.5 * (1 + torch.erf(self.skew*(x - self.loc) * self.scale.reciprocal() / np.sqrt(2)))\n",
    "\n",
    "    def log_p(self,x):\n",
    "        return self.log_prob(x)+torch.log(self.skewcdf(x))-torch.log(torch.tensor(2.))\n",
    "\n",
    "def label_smoothing(label):\n",
    "    label-=18\n",
    "    label_0=SkewNormal(11.,7,-20).log_p\n",
    "    label_11=SkewNormal(12.,7,20).log_p\n",
    "    label_12=SkewNormal(41,7,-20).log_p\n",
    "    label_2=dist.Normal(43.7,.65).log_prob\n",
    "    return torch.exp(torch.vstack((label_0(label),torch.log(torch.exp(label_11(label))+torch.exp(label_12(label))),label_2(label))).T)"
   ]
  },
  {
   "cell_type": "markdown",
   "id": "1bfd9967-6a87-47e7-bf9c-8a365a3b3958",
   "metadata": {},
   "source": [
    "# 합친 모델 학습과 결과저장"
   ]
  },
  {
   "cell_type": "code",
   "execution_count": 5,
   "id": "60931df2-c7e9-49d9-9ecd-1e789fc2fcf2",
   "metadata": {},
   "outputs": [
    {
     "name": "stdout",
     "output_type": "stream",
     "text": [
      "done\n"
     ]
    }
   ],
   "source": [
    "net_mask = timm.create_model('efficientnet_b3a', pretrained=True, num_classes=3)\n",
    "net_gender = timm.create_model('efficientnet_b3a', pretrained=True, num_classes=2)\n",
    "net_mage = timm.create_model('efficientnet_b3a', pretrained=True, num_classes=3)\n",
    "net_fage = timm.create_model('efficientnet_b3a', pretrained=True, num_classes=3)\n",
    "\n",
    "#부분 모델 불러오기\n",
    "checkpoint_dir=os.path.join('.',f'saved/{project_name}/checkpoint')\n",
    "model_id=sorted([i for i in os.listdir(checkpoint_dir) if 'mask' in i])[-1]\n",
    "checkpoint=torch.load(os.path.join(checkpoint_dir,model_id))\n",
    "net_mask.load_state_dict(checkpoint['model_state_dict'])\n",
    "model_id=sorted([i for i in os.listdir(checkpoint_dir) if 'gender' in i])[-1]\n",
    "checkpoint=torch.load(os.path.join(checkpoint_dir,model_id))\n",
    "net_gender.load_state_dict(checkpoint['model_state_dict'])\n",
    "model_id=sorted([i for i in os.listdir(checkpoint_dir) if ('2018' in i)])[-1]\n",
    "checkpoint=torch.load(os.path.join(checkpoint_dir,model_id))\n",
    "net_mage.load_state_dict(checkpoint['mmodel_state_dict'])\n",
    "net_fage.load_state_dict(checkpoint['fmodel_state_dict'])\n",
    "\n",
    "net_mask.to(device)\n",
    "net_gender.to(device)\n",
    "net_mage.to(device)\n",
    "net_fage.to(device)\n",
    "\n",
    "print('done')"
   ]
  },
  {
   "cell_type": "code",
   "execution_count": 14,
   "id": "27242977-5523-49b9-9e36-fd58a470f42c",
   "metadata": {},
   "outputs": [],
   "source": [
    "#모델 구축\n",
    "class MyModel(nn.Module):\n",
    "    def __init__(self):\n",
    "        super().__init__()\n",
    "        self.mask=net_mask\n",
    "        self.gender=net_gender\n",
    "        self.mage=net_mage\n",
    "        self.fage=net_fage\n",
    "        \n",
    "    def forward(self, x):\n",
    "        mask=nn.Softmax(dim=1)(self.mask(x))\n",
    "        gender=nn.Softmax(dim=1)(self.gender(x))\n",
    "        age=nn.Softmax(dim=1)((1-torch.max(gender,1)[1]).view(x.size(0),1)*self.mage(x)+torch.max(gender,1)[1].view(x.size(0),1)*self.fage(x))\n",
    "        return (mask.view(x.size(0),3,1,1)*gender.view(x.size(0),1,2,1)*age.view(x.size(0),1,1,3)).view(x.size(0),-1)\n",
    "    \n"
   ]
  },
  {
   "cell_type": "code",
   "execution_count": 15,
   "id": "01b1ea23-2dca-4bd9-8638-4e2b88151c61",
   "metadata": {},
   "outputs": [],
   "source": [
    "#모델 설정하기\n",
    "model=MyModel()\n",
    "model.to(device)\n",
    "optim=optm.Adam(model.parameters())\n",
    "scheduler = optm.lr_scheduler.StepLR(optim, step_size=1, gamma=0.75)"
   ]
  },
  {
   "cell_type": "code",
   "execution_count": 16,
   "id": "79ec9cda-06c3-4bd8-a7bf-084f22783aa1",
   "metadata": {},
   "outputs": [],
   "source": [
    "#학습 설정하기\n",
    "num_epochs=1\n",
    "batch_size=15\n",
    "learning_rate=0.000001\n",
    "best_f1=0.\n",
    "stopper=0\n",
    "weight=(torch.tensor([7/15,7/3,7/3]).view(3,1,1)*torch.tensor([2700/(2*1042),2700/(2*1658)]).view(1,2,1)*torch.tensor([900/1281*12,900/1227*15,900/192]).view(1,1,3)).view(-1).to(device)\n",
    "loss_fn=nn.CrossEntropyLoss(weight=weight)\n",
    "config={'epochs':num_epochs,'transform':'uptrans','batch_size':batch_size,'learning_rate':learning_rate, 'weight':weight,'f1_avg':'weighted'}"
   ]
  },
  {
   "cell_type": "code",
   "execution_count": 17,
   "id": "6e41d536-d33d-481a-961b-5d61ad833cb6",
   "metadata": {},
   "outputs": [
    {
     "name": "stderr",
     "output_type": "stream",
     "text": [
      "\u001b[34m\u001b[1mwandb\u001b[0m: wandb version 0.12.1 is available!  To upgrade, please run:\n",
      "\u001b[34m\u001b[1mwandb\u001b[0m:  $ pip install wandb --upgrade\n",
      "\n",
      "CondaEnvException: Unable to determine environment\n",
      "\n",
      "Please re-run this command with one of the following options:\n",
      "\n",
      "* Provide an environment name via --name or -n\n",
      "* Re-run this command inside an activated conda environment.\n",
      "\n"
     ]
    },
    {
     "data": {
      "text/html": [
       "\n",
       "                Tracking run with wandb version 0.12.0<br/>\n",
       "                Syncing run <strong style=\"color:#cdcd00\">easy-butterfly-46</strong> to <a href=\"https://wandb.ai\" target=\"_blank\">Weights & Biases</a> <a href=\"https://docs.wandb.com/integrations/jupyter.html\" target=\"_blank\">(Documentation)</a>.<br/>\n",
       "                Project page: <a href=\"https://wandb.ai/tentoto/BestEachClassEfficientNetTest\" target=\"_blank\">https://wandb.ai/tentoto/BestEachClassEfficientNetTest</a><br/>\n",
       "                Run page: <a href=\"https://wandb.ai/tentoto/BestEachClassEfficientNetTest/runs/2hmwirs7\" target=\"_blank\">https://wandb.ai/tentoto/BestEachClassEfficientNetTest/runs/2hmwirs7</a><br/>\n",
       "                Run data is saved locally in <code>./saved/BestEachClassEfficientNetTest/2021-08-30/Runned 23_02/wandb/run-20210830_140249-2hmwirs7</code><br/><br/>\n",
       "            "
      ],
      "text/plain": [
       "<IPython.core.display.HTML object>"
      ]
     },
     "metadata": {},
     "output_type": "display_data"
    },
    {
     "name": "stdout",
     "output_type": "stream",
     "text": [
      "mod: test\n"
     ]
    },
    {
     "data": {
      "application/vnd.jupyter.widget-view+json": {
       "model_id": "bd7c83ac213d468989bed3a1ba92010d",
       "version_major": 2,
       "version_minor": 0
      },
      "text/plain": [
       "HBox(children=(HTML(value=''), FloatProgress(value=0.0, max=840.0), HTML(value='')))"
      ]
     },
     "metadata": {},
     "output_type": "display_data"
    },
    {
     "name": "stdout",
     "output_type": "stream",
     "text": [
      "\n"
     ]
    },
    {
     "data": {
      "text/html": [
       "<br/>Waiting for W&B process to finish, PID 10455<br/>Program ended successfully."
      ],
      "text/plain": [
       "<IPython.core.display.HTML object>"
      ]
     },
     "metadata": {},
     "output_type": "display_data"
    },
    {
     "data": {
      "application/vnd.jupyter.widget-view+json": {
       "model_id": "",
       "version_major": 2,
       "version_minor": 0
      },
      "text/plain": [
       "VBox(children=(Label(value=' 0.00MB of 0.00MB uploaded (0.00MB deduped)\\r'), FloatProgress(value=1.0, max=1.0)…"
      ]
     },
     "metadata": {},
     "output_type": "display_data"
    },
    {
     "data": {
      "text/html": [
       "Find user logs for this run at: <code>./saved/BestEachClassEfficientNetTest/2021-08-30/Runned 23_02/wandb/run-20210830_140249-2hmwirs7/logs/debug.log</code>"
      ],
      "text/plain": [
       "<IPython.core.display.HTML object>"
      ]
     },
     "metadata": {},
     "output_type": "display_data"
    },
    {
     "data": {
      "text/html": [
       "Find internal logs for this run at: <code>./saved/BestEachClassEfficientNetTest/2021-08-30/Runned 23_02/wandb/run-20210830_140249-2hmwirs7/logs/debug-internal.log</code>"
      ],
      "text/plain": [
       "<IPython.core.display.HTML object>"
      ]
     },
     "metadata": {},
     "output_type": "display_data"
    },
    {
     "data": {
      "text/html": [
       "Synced 5 W&B file(s), 0 media file(s), 0 artifact file(s) and 0 other file(s)"
      ],
      "text/plain": [
       "<IPython.core.display.HTML object>"
      ]
     },
     "metadata": {},
     "output_type": "display_data"
    },
    {
     "data": {
      "text/html": [
       "\n",
       "                    <br/>Synced <strong style=\"color:#cdcd00\">easy-butterfly-46</strong>: <a href=\"https://wandb.ai/tentoto/BestEachClassEfficientNetTest/runs/2hmwirs7\" target=\"_blank\">https://wandb.ai/tentoto/BestEachClassEfficientNetTest/runs/2hmwirs7</a><br/>\n",
       "                "
      ],
      "text/plain": [
       "<IPython.core.display.HTML object>"
      ]
     },
     "metadata": {},
     "output_type": "display_data"
    }
   ],
   "source": [
    "now='Runned'+'_'.join(str(datetime.now().astimezone(KST))[10:16].split(':'))\n",
    "base_dir=os.path.join('.',f'saved/{project_name}/{date}/{now}')\n",
    "wandb_dir=base_dir\n",
    "\n",
    "dirs={'model':'','checkpoint':'','result':''}\n",
    "for pth in ['model','checkpoint','result']:\n",
    "    dirs[pth]=os.path.join(base_dir,pth)\n",
    "    if not os.path.isdir(dirs[pth]):\n",
    "        os.makedirs(dirs[pth])\n",
    "\n",
    "\n",
    "wandb.init(project=project_name,config=config,dir=wandb_dir)\n",
    "best_f1=0.\n",
    "best_epoch=0\n",
    "stopper=0\n",
    "for e in range(num_epochs):   \n",
    "    for mod in ['train','valid','test']:\n",
    "        print('mod:',mod)\n",
    "        data=ImageDataset(mod=mod)\n",
    "\n",
    "        if mod=='train':\n",
    "            dataloader=DataLoader(data,batch_size=batch_size,shuffle=True,pin_memory=True)\n",
    "            model.train()\n",
    "        else:\n",
    "            submission = pd.read_csv(os.path.join(data.path[0], 'info.csv'))\n",
    "            dataloader=DataLoader(data,batch_size=batch_size,shuffle=False,num_workers=4)\n",
    "            model.eval()\n",
    "\n",
    "        with tqdm(dataloader) as pbar:\n",
    "            running_loss=0.\n",
    "            running_acc=0.\n",
    "            tot_pred=torch.tensor([]).to(device)\n",
    "            tot_label=torch.tensor([]).to(device)\n",
    "            cm_pred=torch.tensor([]).to(device)\n",
    "            cm_label=torch.tensor([]).to(device)\n",
    "            for n,(image,label) in enumerate(pbar):\n",
    "                image=image.to(device)\n",
    "                label=label.to(device)\n",
    "                \n",
    "                logit=model(image)\n",
    "                _,pred=torch.max(logit,1)\n",
    "                \n",
    "                if data.train:\n",
    "                    loss=loss_fn(logit,label)\n",
    "                    running_loss+=loss.item()*image.size(0)\n",
    "                    running_acc+=torch.sum(pred==label)/image.size(0)\n",
    "\n",
    "                if mod=='train':\n",
    "                    optim.zero_grad()\n",
    "                    loss.backward()\n",
    "                    optim.step()                    \n",
    "\n",
    "                tot_pred=torch.hstack((tot_pred,pred))\n",
    "                tot_label=torch.hstack((tot_label,label))\n",
    "                if data.train:\n",
    "                    pbar.set_postfix({'epoch' : e, 'loss' : running_loss/(n+1), 'accuracy' : float(running_acc)/(n+1),'F1 score':f1_score(tot_label.cpu(),tot_pred.cpu(),average='weighted')})\n",
    "                    if mod=='train':\n",
    "                        wandb.log({f'{str(e).zfill(3)} running loss' : running_loss/(n+1), f'{str(e).zfill(3)} running accuracy' : float(running_acc)/(n+1),f'{str(e).zfill(3)} running f1 score':f1_score(tot_label.cpu(),tot_pred.cpu(),average='weighted')})\n",
    "            if data.train:\n",
    "                epoch_loss=running_loss/len(dataloader.dataset)\n",
    "                epoch_acc=running_acc*image.size(0)/len(dataloader.dataset)\n",
    "                epoch_f1=f1_score(tot_label.cpu(),tot_pred.cpu(),average='weighted')\n",
    "                print(f\"현재 epoch-{e}의 평균 Loss : {epoch_loss:.3f}, 평균 Accuracy : {epoch_acc:.3f}, F1 score : {epoch_f1:.3f}\")\n",
    "            elif mod=='test':\n",
    "                submission['ans'] = tot_pred.cpu().numpy().astype('int64')\n",
    "                submission.to_csv(os.path.join(dirs['result'], f'submission_{project_name}_{str(e).zfill(3)}.csv'), index=False)\n",
    "        if mod=='valid':\n",
    "            cm=conf_mat(tot_label.cpu(),tot_pred.cpu())\n",
    "            cm.savefig(f'./saved/{project_name}/{date}/{now}/checkpoint/checkpoint_{str(e).zfill(3)}.jpg')\n",
    "            wandb.log({f'{str(e).zfill(3)}_confusion_matrix':wandb.Image(cm),'loss' : epoch_loss, 'accuracy' : epoch_acc,'f1 score':epoch_f1})\n",
    "            plt.close()\n",
    "            if best_f1<epoch_f1:\n",
    "                stopper=0\n",
    "                best_epoch=e\n",
    "                best_f1=epoch_f1\n",
    "                torch.save({'epoch':e,'loss':loss,'model_state_dict':model.state_dict(),'optimizer_state_dict':optim.state_dict()},f\"{dirs['checkpoint']}/{str(e).zfill(3)}_checkpoint_best_{epoch_f1:.5f}_{epoch_loss:.3f}_{epoch_acc:.3f}.pt\")\n",
    "            elif (prev_f1<epoch_f1):\n",
    "                torch.save({'epoch':e,'loss':loss,'model_state_dict':model.state_dict(),'optimizer_state_dict':optim.state_dict()},f\"{dirs['checkpoint']}/{str(e).zfill(3)}_checkpoint_{epoch_acc:.5f}_{epoch_f1:.3f}_{epoch_loss:.3f}.pt\")\n",
    "                stopper+=1\n",
    "            else:\n",
    "                stopper+=1\n",
    "        elif mod=='test' and stopper==15:\n",
    "            break\n",
    "    if mod=='test' and stopper==15:\n",
    "            break\n",
    "wandb.finish()"
   ]
  },
  {
   "cell_type": "code",
   "execution_count": 1,
   "id": "d087a6a9-87e3-4f67-8e0e-7ae4bafdccfd",
   "metadata": {},
   "outputs": [],
   "source": [
    "import gc\n",
    "import torch\n",
    "gc.collect()\n",
    "torch.cuda.empty_cache()"
   ]
  },
  {
   "cell_type": "code",
   "execution_count": 2,
   "id": "9d747d58-0b2a-4b26-8d7c-e29b9bab8528",
   "metadata": {},
   "outputs": [
    {
     "name": "stdout",
     "output_type": "stream",
     "text": [
      "Tue Aug 31 02:10:06 2021       \n",
      "+-----------------------------------------------------------------------------+\n",
      "| NVIDIA-SMI 450.80.02    Driver Version: 450.80.02    CUDA Version: 11.0     |\n",
      "|-------------------------------+----------------------+----------------------+\n",
      "| GPU  Name        Persistence-M| Bus-Id        Disp.A | Volatile Uncorr. ECC |\n",
      "| Fan  Temp  Perf  Pwr:Usage/Cap|         Memory-Usage | GPU-Util  Compute M. |\n",
      "|                               |                      |               MIG M. |\n",
      "|===============================+======================+======================|\n",
      "|   0  Tesla V100-PCIE...  Off  | 00000000:00:05.0 Off |                  Off |\n",
      "| N/A   37C    P0    37W / 250W |  10869MiB / 32510MiB |      0%      Default |\n",
      "|                               |                      |                  N/A |\n",
      "+-------------------------------+----------------------+----------------------+\n",
      "                                                                               \n",
      "+-----------------------------------------------------------------------------+\n",
      "| Processes:                                                                  |\n",
      "|  GPU   GI   CI        PID   Type   Process name                  GPU Memory |\n",
      "|        ID   ID                                                   Usage      |\n",
      "|=============================================================================|\n",
      "+-----------------------------------------------------------------------------+\n"
     ]
    }
   ],
   "source": [
    "!nvidia-smi"
   ]
  },
  {
   "cell_type": "code",
   "execution_count": null,
   "id": "08868231-90a2-4a78-acd8-db1b89863cad",
   "metadata": {},
   "outputs": [],
   "source": [
    "print(pred)"
   ]
  },
  {
   "cell_type": "code",
   "execution_count": null,
   "id": "71a744d1-6272-4e87-99cf-cf9b5ab024f7",
   "metadata": {},
   "outputs": [],
   "source": [
    "if mod=='valid':\n",
    "        print(1)"
   ]
  },
  {
   "cell_type": "code",
   "execution_count": null,
   "id": "a1cd31e5-24b0-414c-913c-1f4ccd5b9bc1",
   "metadata": {},
   "outputs": [],
   "source": [
    "cm=conf_mat(cm_label.cpu(),cm_pred.cpu())"
   ]
  },
  {
   "cell_type": "code",
   "execution_count": 15,
   "id": "50fb4be1-e0f7-4d91-8451-e5be546ff529",
   "metadata": {},
   "outputs": [],
   "source": [
    "cm.savefig(f'./saved/{project_name}/{date}/{now}/checkpoint/checkpoint_{str(e).zfill(3)}.jpg')"
   ]
  },
  {
   "cell_type": "code",
   "execution_count": null,
   "id": "ead9b043-cd86-40f6-9ef3-9dca5f791563",
   "metadata": {},
   "outputs": [],
   "source": []
  }
 ],
 "metadata": {
  "kernelspec": {
   "display_name": "Python 3 (ipykernel)",
   "language": "python",
   "name": "python3"
  },
  "language_info": {
   "codemirror_mode": {
    "name": "ipython",
    "version": 3
   },
   "file_extension": ".py",
   "mimetype": "text/x-python",
   "name": "python",
   "nbconvert_exporter": "python",
   "pygments_lexer": "ipython3",
   "version": "3.8.5"
  }
 },
 "nbformat": 4,
 "nbformat_minor": 5
}
