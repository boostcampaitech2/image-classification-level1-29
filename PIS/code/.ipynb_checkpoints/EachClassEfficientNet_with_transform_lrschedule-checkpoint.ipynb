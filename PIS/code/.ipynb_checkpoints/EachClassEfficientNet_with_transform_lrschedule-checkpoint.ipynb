{
 "cells": [
  {
   "cell_type": "code",
   "execution_count": 2,
   "id": "cubic-scoop",
   "metadata": {},
   "outputs": [],
   "source": [
    "import os\n",
    "import numpy as np\n",
    "import pandas as pd\n",
    "from PIL import Image\n",
    "import random\n",
    "import wandb\n",
    "import copy\n",
    "import time\n",
    "from datetime import datetime\n",
    "from pytz import timezone\n",
    "import seaborn as sns\n",
    "\n",
    "import cv2\n",
    "\n",
    "from torchvision.transforms import ToTensor,Compose,ColorJitter,RandomRotation,RandomHorizontalFlip,Resize,CenterCrop,Normalize,GaussianBlur,RandomCrop\n",
    "\n",
    "import timm\n",
    "\n",
    "import torch\n",
    "import torch.nn as nn\n",
    "import torch.optim as optm\n",
    "import torch.nn.functional as F\n",
    "from torch.utils.data import Dataset, DataLoader\n",
    "\n",
    "import torchvision\n",
    "\n",
    "from sklearn.metrics import f1_score\n",
    "from sklearn.model_selection import train_test_split\n",
    "from sklearn.metrics import confusion_matrix\n",
    "\n",
    "import matplotlib.pyplot as plt\n",
    "from matplotlib.pyplot import imshow\n",
    "from matplotlib import gridspec\n",
    "\n",
    "from torchinfo import summary\n",
    "from tqdm.auto import tqdm\n",
    "\n",
    "%matplotlib inline\n",
    "device = 'cuda' if torch.cuda.is_available() else 'cpu'\n",
    "cwd=os.path.dirname(os.getcwd())\n",
    "KST=timezone('Asia/Seoul')"
   ]
  },
  {
   "cell_type": "code",
   "execution_count": 3,
   "id": "5ee68bde-02bc-45c4-afaa-bf90cbf7f4ee",
   "metadata": {},
   "outputs": [],
   "source": [
    "#프로젝트 이름 설정과 저장경로\n",
    "project_name='BestEachClassEfficientNetTest'\n",
    "model_dir=os.path.join(os.getcwd(),f'saved/{project_name}/model')\n",
    "checkpoint_dir=os.path.join(os.getcwd(),f'saved/{project_name}/checkpoint')\n",
    "result_dir=os.path.join(os.path.dirname(checkpoint_dir),'result')\n",
    "wandb_dir=os.path.dirname(checkpoint_dir)\n",
    "if not os.path.isdir(checkpoint_dir):\n",
    "    os.makedirs(checkpoint_dir)\n",
    "if not os.path.isdir(result_dir):\n",
    "    os.makedirs(result_dir)\n",
    "if not os.path.isdir(model_dir):\n",
    "    os.makedirs(model_dir)"
   ]
  },
  {
   "cell_type": "code",
   "execution_count": 4,
   "id": "1af0aee3-bfc0-4aa0-b724-9a9f10b62cb8",
   "metadata": {},
   "outputs": [],
   "source": [
    "#Randomness 제어\n",
    "random_seed=2021\n",
    "torch.manual_seed(random_seed)\n",
    "torch.cuda.manual_seed(random_seed)\n",
    "torch.backends.cudnn.deterministic = True\n",
    "torch.backends.cudnn.benchmark = False\n",
    "np.random.seed(random_seed)\n",
    "random.seed(random_seed)"
   ]
  },
  {
   "cell_type": "code",
   "execution_count": 5,
   "id": "667bcb95-ce17-4d41-b2cc-107c72c9c785",
   "metadata": {},
   "outputs": [],
   "source": [
    "transform={'trans':Compose([\n",
    "    Resize((256*512//384,256)),\n",
    "    CenterCrop(224),\n",
    "    ToTensor(),\n",
    "    Normalize(mean=(0.485, 0.456, 0.406), std=(0.229, 0.224, 0.225)),\n",
    "]),'regtrans':Compose([\n",
    "    GaussianBlur(3),\n",
    "    ColorJitter(brightness=0.2, contrast=0.2, saturation=0.2, hue=0.2),\n",
    "    Resize((256*512//384,256)),\n",
    "    RandomCrop(224),\n",
    "    ToTensor(),\n",
    "    Normalize(mean=(0.485, 0.456, 0.406), std=(0.229, 0.224, 0.225)),\n",
    "]),\n",
    "'uptrans':Compose([\n",
    "    ColorJitter(brightness=0.25, contrast=0),\n",
    "    RandomHorizontalFlip(),\n",
    "    RandomRotation(20),\n",
    "    Resize((256*512//384,256)),\n",
    "    CenterCrop(224),\n",
    "    ToTensor(),\n",
    "    Normalize(mean=(0.485, 0.456, 0.406), std=(0.229, 0.224, 0.225)),\n",
    "])}\n",
    "\n",
    "def make_images(meta,img_dir,train):\n",
    "    images=[]\n",
    "    labels=[]\n",
    "    data=pd.DataFrame({'images':[],'labels':[]})\n",
    "    if train:\n",
    "        for idx in range(len(meta)):\n",
    "            folder_path=os.path.join(img_dir, meta.path.iloc[idx])\n",
    "            for img in os.listdir(folder_path):\n",
    "                if '._' in img:\n",
    "                    continue\n",
    "                images.append(os.path.join(folder_path,img))\n",
    "                labels.append((('incorrect' in img)+('normal' in img)*2)*6+(meta.gender.iloc[idx]=='female')*3+(30<=meta.age.iloc[idx])+(60<=meta.age.iloc[idx]))\n",
    "    else:\n",
    "        for img_id in meta.ImageID:\n",
    "            images.append(os.path.join(img_dir, img_id))\n",
    "        labels=[0 for _ in range(len(images))]\n",
    "    data['images']=images\n",
    "    data['labels']=labels\n",
    "    return data\n",
    "\n",
    "class ImageDataset(Dataset):\n",
    "    def __init__(self,transform=transform,mod='train'):\n",
    "        self.mod=mod\n",
    "        self.train=mod!='test'\n",
    "        self.md=['info','train']\n",
    "        self.path=[os.path.join(cwd,'input/data/eval'),os.path.join(cwd,'input/data/train')]\n",
    "        self.meta=pd.read_csv(os.path.join(self.path[self.train], f'{self.md[self.train]}.csv'))\n",
    "        self.img_dir=os.path.join(self.path[self.train],'images')\n",
    "        self.classes=[('Wear','Incorrect','Not Wear'),('남','여'),('<30','>=30 and <60','>=60')]\n",
    "        self.trans=transform\n",
    "        self.criteria=1*(self.meta['age']>=30)+1*(self.meta['age']>=60)+3*(self.meta['gender']=='female')\n",
    "        if self.train:\n",
    "            self.train_data,self.val_data=train_test_split(self.meta,test_size=0.2,stratify=self.criteria)\n",
    "        self.data_dict={'train':self.train_data,'valid':self.val_data,'test':self.meta}\n",
    "        self.data=make_images(self.data_dict[self.mod],self.img_dir,self.train)\n",
    "    \n",
    "    def __len__(self):\n",
    "        return len(self.data)\n",
    "        \n",
    "    \n",
    "    def __getitem__(self, idx):\n",
    "        images=self.data['images']\n",
    "        labels=self.data['labels']\n",
    "\n",
    "        label=labels.iloc[idx]\n",
    "        image=Image.open(images.iloc[idx])\n",
    "        \n",
    "        if self.mod=='train':\n",
    "            if label%3==2:\n",
    "                image=self.trans['uptrans'](image)\n",
    "                return image,label\n",
    "            else:\n",
    "                image=self.trans['regtrans'](image)\n",
    "        else:\n",
    "            image=self.trans['trans'](image)\n",
    "        return image,label\n",
    "\n",
    "def conf_mat(y_true,y_pred):\n",
    "    cm=confusion_matrix(y_true,y_pred)\n",
    "    norm_cm=cm/np.sum(cm, axis=1)[:,None]\n",
    "    cm=pd.DataFrame(norm_cm,index=['mask<30','mask<>','mask60','inc<30','inc<>','inc60','nom<30','nom<>','nom60'],columns=['mask<30','mask45','mask60','inc<30','inc<>','inc60','nom<30','nom<>','nom60'])\n",
    "    fig=plt.figure(figsize=(20,16))\n",
    "    sns.heatmap(cm,annot=True)\n",
    "    return fig\n"
   ]
  },
  {
   "cell_type": "markdown",
   "id": "746a4f67-c4d1-4b99-90f2-ecc873149784",
   "metadata": {},
   "source": [
    "# 부분 모델 학습과 모델저장"
   ]
  },
  {
   "cell_type": "code",
   "execution_count": 7,
   "id": "587e4613-547a-415e-8532-5c2e51a96670",
   "metadata": {},
   "outputs": [],
   "source": [
    "#사용할 부분 모델 불러오기\n",
    "net_mask = timm.create_model('efficientnet_b3a', pretrained=True, num_classes=3)\n",
    "net_gender = timm.create_model('efficientnet_b3a', pretrained=True, num_classes=2)\n",
    "net_age = timm.create_model('efficientnet_b3a', pretrained=True, num_classes=3)"
   ]
  },
  {
   "cell_type": "code",
   "execution_count": 8,
   "id": "642357d7-6199-47e1-bcc7-9682e5efe8b7",
   "metadata": {},
   "outputs": [],
   "source": [
    "#학습 설정하기\n",
    "num_epochs=20\n",
    "batch_size=60\n",
    "learning_rate=0.001\n",
    "loss_fn=nn.CrossEntropyLoss()\n",
    "models={'mask':net_mask,'gender':net_gender,'age':net_age}\n",
    "weight=torch.tensor([18900/49410,18900/36900,18900/7470,18900/65880,18900/73530,18900/9810,18900/9882,18900/7380,18900/1494,18900/13176,18900/14706,18900/1962,18900/9882,18900/7380,18900/1494,18900/13176,18900/14706,18900/1962]).to(device)\n",
    "config={'epochs':num_epochs,'batch_size':batch_size,'learning_rate':learning_rate}"
   ]
  },
  {
   "cell_type": "code",
   "execution_count": null,
   "id": "4a1a0082-d99a-468a-80f5-8a2706ccb91f",
   "metadata": {},
   "outputs": [
    {
     "name": "stderr",
     "output_type": "stream",
     "text": [
      "\u001b[34m\u001b[1mwandb\u001b[0m: Currently logged in as: \u001b[33mtentoto\u001b[0m (use `wandb login --relogin` to force relogin)\n",
      "\n",
      "CondaEnvException: Unable to determine environment\n",
      "\n",
      "Please re-run this command with one of the following options:\n",
      "\n",
      "* Provide an environment name via --name or -n\n",
      "* Re-run this command inside an activated conda environment.\n",
      "\n"
     ]
    },
    {
     "data": {
      "text/html": [
       "\n",
       "                Tracking run with wandb version 0.12.0<br/>\n",
       "                Syncing run <strong style=\"color:#cdcd00\">still-donkey-4</strong> to <a href=\"https://wandb.ai\" target=\"_blank\">Weights & Biases</a> <a href=\"https://docs.wandb.com/integrations/jupyter.html\" target=\"_blank\">(Documentation)</a>.<br/>\n",
       "                Project page: <a href=\"https://wandb.ai/tentoto/EachClassEfficientNet_corrected_validation_age\" target=\"_blank\">https://wandb.ai/tentoto/EachClassEfficientNet_corrected_validation_age</a><br/>\n",
       "                Run page: <a href=\"https://wandb.ai/tentoto/EachClassEfficientNet_corrected_validation_age/runs/lvqp2h47\" target=\"_blank\">https://wandb.ai/tentoto/EachClassEfficientNet_corrected_validation_age/runs/lvqp2h47</a><br/>\n",
       "                Run data is saved locally in <code>/opt/ml/image-classification-level1-29/PIS/code/saved/EachClassEfficientNet_corrected_validation/wandb/run-20210826_134327-lvqp2h47</code><br/><br/>\n",
       "            "
      ],
      "text/plain": [
       "<IPython.core.display.HTML object>"
      ]
     },
     "metadata": {},
     "output_type": "display_data"
    },
    {
     "name": "stdout",
     "output_type": "stream",
     "text": [
      "training: age\n",
      "mod: train\n",
      "15120\n"
     ]
    },
    {
     "data": {
      "application/vnd.jupyter.widget-view+json": {
       "model_id": "add8c00bc5824c5ca907823e2d1968ca",
       "version_major": 2,
       "version_minor": 0
      },
      "text/plain": [
       "HBox(children=(HTML(value=''), FloatProgress(value=0.0, max=252.0), HTML(value='')))"
      ]
     },
     "metadata": {},
     "output_type": "display_data"
    },
    {
     "name": "stdout",
     "output_type": "stream",
     "text": [
      "\n",
      "현재 epoch-0의 평균 Loss : 0.230, 평균 Accuracy : 0.936, F1 score : 0.925\n",
      "mod: valid\n",
      "3780\n"
     ]
    },
    {
     "data": {
      "application/vnd.jupyter.widget-view+json": {
       "model_id": "b6e91ad35b204addb58205f94d11eda9",
       "version_major": 2,
       "version_minor": 0
      },
      "text/plain": [
       "HBox(children=(HTML(value=''), FloatProgress(value=0.0, max=3780.0), HTML(value='')))"
      ]
     },
     "metadata": {},
     "output_type": "display_data"
    }
   ],
   "source": [
    "#부분 모델 사전 학습\n",
    "for key in ['age']:\n",
    "    wandb.init(project=project_name+'_'+key,config=config,dir=wandb_dir)\n",
    "    print('training:',key)\n",
    "    model=models[key]\n",
    "    model.to(device)\n",
    "    optim=optm.Adam(model.parameters())\n",
    "    scheduler = optm.lr_scheduler.StepLR(optim, step_size=1, gamma=0.75)\n",
    "    loss_fn=nn.CrossEntropyLoss(weight=weight)\n",
    "    best_f1=0.\n",
    "    stopper=0\n",
    "    for e in range(num_epochs):   \n",
    "        for mod in ['train','valid']:\n",
    "            print('mod:',mod)\n",
    "            data=ImageDataset(mod=mod)\n",
    "\n",
    "            if mod=='train':\n",
    "                dataloader=DataLoader(data,batch_size=batch_size,shuffle=True)\n",
    "                model.train()\n",
    "            else:\n",
    "                dataloader=DataLoader(data,shuffle=False)\n",
    "                model.eval()\n",
    "\n",
    "            with tqdm(dataloader) as pbar:\n",
    "                running_loss=0.\n",
    "                running_acc=0.\n",
    "                tot_pred=torch.tensor([]).to(device)\n",
    "                tot_label=torch.tensor([]).to(device)\n",
    "                for n,(image,label) in enumerate(pbar):\n",
    "                    image=image.to(device)\n",
    "                    classes={'mask':label//6,'gender':(label//3)%2,'age':label%3}\n",
    "                    label=classes[key].to(device)\n",
    "\n",
    "                    logit=model(image)\n",
    "                    _,pred=torch.max(logit,1)\n",
    "\n",
    "                    if mod=='train':\n",
    "                        optim.zero_grad()\n",
    "                        loss=loss_fn(logit,label)\n",
    "                        loss.backward()\n",
    "                        optim.step()\n",
    "                    if data.train:\n",
    "                        running_loss+=loss.item()*image.size(0)\n",
    "                        running_acc+=torch.sum(pred==label)/image.size(0)\n",
    "                        \n",
    "                    tot_pred=torch.hstack((tot_pred,pred))\n",
    "                    tot_label=torch.hstack((tot_label,label))\n",
    "                    \n",
    "                    if data.train:\n",
    "                        pbar.set_postfix({'epoch' : e, 'loss' : running_loss/(n+1), 'accuracy' : float(running_acc)/(n+1),'F1 score':f1_score(tot_label.cpu(),tot_pred.cpu(),average='macro')})\n",
    "                        if mod=='train':\n",
    "                            wandb.log({f'running loss {e}' : running_loss/(n+1), f'running accuracy {e}' : float(running_acc)/(n+1),f'running f1 score {e}':f1_score(tot_label.cpu(),tot_pred.cpu(),average='macro')})\n",
    "                if data.train:\n",
    "                    epoch_loss=running_loss/len(dataloader.dataset)\n",
    "                    epoch_acc=running_acc*image.size(0)/len(dataloader.dataset)\n",
    "                    epoch_f1=f1_score(tot_label.cpu(),tot_pred.cpu(),average='macro')\n",
    "                    print(f\"현재 epoch-{e}의 평균 Loss : {epoch_loss:.3f}, 평균 Accuracy : {epoch_acc:.3f}, F1 score : {epoch_f1:.3f}\")\n",
    "        if mod=='valid':\n",
    "            wandb.log({'loss' : epoch_loss, 'accuracy' : epoch_acc,'f1 score':f1_score(tot_label.cpu(),tot_pred.cpu(),average='macro')})\n",
    "            if best_f1<epoch_f1:\n",
    "                stopper=0\n",
    "                best_f1=epoch_f1\n",
    "                torch.save({'epoch':e,'loss':loss,'model_state_dict':model.state_dict(),'optimizer_state_dict':optim.state_dict()},f\"{checkpoint_dir}/checkpoint_{key}_{str(datetime.now().astimezone(KST))[:16]}_{e}_{epoch_loss:.3f}_{epoch_acc:.3f}_{f1_score(tot_label.cpu(),tot_pred.cpu(),average='macro')}.pt\")\n",
    "            elif stopper==3:\n",
    "                break\n",
    "            else:\n",
    "                stopper+=1\n",
    "    wandb.finish()"
   ]
  },
  {
   "cell_type": "code",
   "execution_count": null,
   "id": "37f5186f-a802-4e5a-9c1f-f1672fe53760",
   "metadata": {},
   "outputs": [],
   "source": []
  },
  {
   "cell_type": "markdown",
   "id": "1bfd9967-6a87-47e7-bf9c-8a365a3b3958",
   "metadata": {},
   "source": [
    "# 합친 모델 학습과 결과저장"
   ]
  },
  {
   "cell_type": "code",
   "execution_count": null,
   "id": "60931df2-c7e9-49d9-9ecd-1e789fc2fcf2",
   "metadata": {},
   "outputs": [],
   "source": [
    "net_mask = timm.create_model('efficientnet_b3a', pretrained=True, num_classes=3)\n",
    "net_gender = timm.create_model('efficientnet_b3a', pretrained=True, num_classes=2)\n",
    "net_age = timm.create_model('efficientnet_b3a', pretrained=True, num_classes=3)\n",
    "\n",
    "net_mask.to(device)\n",
    "net_gender.to(device)\n",
    "net_age.to(device)"
   ]
  },
  {
   "cell_type": "code",
   "execution_count": 12,
   "id": "a1c313f6-effc-480c-bdfa-2202b254de37",
   "metadata": {},
   "outputs": [
    {
     "name": "stdout",
     "output_type": "stream",
     "text": [
      "/opt/ml/image-classification-level1-29/PIS/code/saved/EachClassEfficientNet_with_transform_lrschedule/checkpoint/checkpoint_age_2021-08-26 18:38_0_0.026_0.917_0.8367410747268823.pt\n"
     ]
    },
    {
     "data": {
      "text/plain": [
       "<All keys matched successfully>"
      ]
     },
     "execution_count": 12,
     "metadata": {},
     "output_type": "execute_result"
    }
   ],
   "source": [
    "#부분 모델 불러오기\n",
    "model_id=sorted([i for i in os.listdir(checkpoint_dir) if 'mask' in i])[-1]\n",
    "checkpoint=torch.load(os.path.join(checkpoint_dir,model_id))\n",
    "net_mask.load_state_dict(checkpoint['model_state_dict'])\n",
    "model_id=sorted([i for i in os.listdir(checkpoint_dir) if 'gender' in i])[-1]\n",
    "checkpoint=torch.load(os.path.join(checkpoint_dir,model_id))\n",
    "net_gender.load_state_dict(checkpoint['model_state_dict'])\n",
    "model_id=sorted([i for i in os.listdir(checkpoint_dir) if ('age' in i) and ('tensor' not in i)])[-1]\n",
    "checkpoint=torch.load(os.path.join(checkpoint_dir,model_id))\n",
    "net_age.load_state_dict(checkpoint['model_state_dict'])"
   ]
  },
  {
   "cell_type": "code",
   "execution_count": 13,
   "id": "27242977-5523-49b9-9e36-fd58a470f42c",
   "metadata": {},
   "outputs": [],
   "source": [
    "#모델 구축\n",
    "class MyModel(nn.Module):\n",
    "    def __init__(self):\n",
    "        super().__init__()\n",
    "        self.mask=net_mask\n",
    "        self.gender=net_gender\n",
    "        self.age=net_age\n",
    "        \n",
    "    def forward(self,x):\n",
    "        mask=nn.softmax(self.mask(x)).view(x.size(0),3,1,1)\n",
    "        gender=nn.softmax(self.gender(x)).view(x.size(0),1,2,1)\n",
    "        age=nn.softmax(self.age(x)).view(x.size(0),1,1,3)\n",
    "        return (mask*gender*age).view(x.size(0),-1)"
   ]
  },
  {
   "cell_type": "code",
   "execution_count": 14,
   "id": "01b1ea23-2dca-4bd9-8638-4e2b88151c61",
   "metadata": {},
   "outputs": [],
   "source": [
    "#모델 설정하기\n",
    "model=MyModel()\n",
    "model_id=sorted(os.listdir(model_dir))[-1]\n",
    "checkpoint=torch.load(os.path.join(model_dir,model_id))\n",
    "model.load_state_dict(checkpoint['model_state_dict'])\n",
    "model.to(device)\n",
    "optim=optm.Adam(model.parameters(),lr=learning_rate)\n",
    "optim.load_state_dict(checkpoint['optim_state_dict'])\n",
    "scheduler = optm.lr_scheduler.StepLR(optim, step_size=1, gamma=0.5)\n",
    "loss_fn=nn.CrossEntropyLoss()"
   ]
  },
  {
   "cell_type": "code",
   "execution_count": 15,
   "id": "79ec9cda-06c3-4bd8-a7bf-084f22783aa1",
   "metadata": {},
   "outputs": [],
   "source": [
    "#학습 설정하기\n",
    "num_epochs=20\n",
    "batch_size=60\n",
    "learning_rate=0.0005\n",
    "best_f1=0.\n",
    "stopper=0\n",
    "weight=torch.tensor([18900/49410,18900/36900,18900/7470,18900/65880,18900/73530,18900/9810,18900/9882,18900/7380,18900/1494,18900/13176,18900/14706,18900/1962,18900/9882,18900/7380,18900/1494,18900/13176,18900/14706,18900/1962]).to(device)\n",
    "config={'epochs':num_epochs,'batch_size':batch_size,'learning_rate':learning_rate}"
   ]
  },
  {
   "cell_type": "code",
   "execution_count": null,
   "id": "6e41d536-d33d-481a-961b-5d61ad833cb6",
   "metadata": {},
   "outputs": [
    {
     "data": {
      "text/html": [
       "Finishing last run (ID:2s9w6981) before initializing another..."
      ],
      "text/plain": [
       "<IPython.core.display.HTML object>"
      ]
     },
     "metadata": {},
     "output_type": "display_data"
    },
    {
     "data": {
      "text/html": [
       "<br/>Waiting for W&B process to finish, PID 23418<br/>Program ended successfully."
      ],
      "text/plain": [
       "<IPython.core.display.HTML object>"
      ]
     },
     "metadata": {},
     "output_type": "display_data"
    },
    {
     "data": {
      "application/vnd.jupyter.widget-view+json": {
       "model_id": "",
       "version_major": 2,
       "version_minor": 0
      },
      "text/plain": [
       "VBox(children=(Label(value=' 0.00MB of 0.00MB uploaded (0.00MB deduped)\\r'), FloatProgress(value=1.0, max=1.0)…"
      ]
     },
     "metadata": {},
     "output_type": "display_data"
    },
    {
     "data": {
      "text/html": [
       "Find user logs for this run at: <code>/opt/ml/image-classification-level1-29/PIS/code/saved/EachClassEfficientNet_with_transform_lrschedule/wandb/run-20210826_103407-2s9w6981/logs/debug.log</code>"
      ],
      "text/plain": [
       "<IPython.core.display.HTML object>"
      ]
     },
     "metadata": {},
     "output_type": "display_data"
    },
    {
     "data": {
      "text/html": [
       "Find internal logs for this run at: <code>/opt/ml/image-classification-level1-29/PIS/code/saved/EachClassEfficientNet_with_transform_lrschedule/wandb/run-20210826_103407-2s9w6981/logs/debug-internal.log</code>"
      ],
      "text/plain": [
       "<IPython.core.display.HTML object>"
      ]
     },
     "metadata": {},
     "output_type": "display_data"
    },
    {
     "data": {
      "text/html": [
       "<h3>Run summary:</h3><br/><style>\n",
       "    table.wandb td:nth-child(1) { padding: 0 10px; text-align: right }\n",
       "    </style><table class=\"wandb\">\n",
       "<tr><td>running loss 0</td><td>200.20627</td></tr><tr><td>running accuracy 0</td><td>0.91574</td></tr><tr><td>running f1 score 0</td><td>0.90123</td></tr><tr><td>_runtime</td><td>724</td></tr><tr><td>_timestamp</td><td>1629974775</td></tr><tr><td>_step</td><td>251</td></tr></table>"
      ],
      "text/plain": [
       "<IPython.core.display.HTML object>"
      ]
     },
     "metadata": {},
     "output_type": "display_data"
    },
    {
     "data": {
      "text/html": [
       "<h3>Run history:</h3><br/><style>\n",
       "    table.wandb td:nth-child(1) { padding: 0 10px; text-align: right }\n",
       "    </style><table class=\"wandb\">\n",
       "<tr><td>running loss 0</td><td>█▆▄▃▃▂▂▂▂▂▂▂▂▁▁▁▁▁▁▁▁▁▁▁▁▁▁▁▁▁▁▁▁▁▁▁▁▁▁▁</td></tr><tr><td>running accuracy 0</td><td>▁▆▆▆▇▆▇▇▇▇▇▇▇▇▇▇▇▇▇▇▇▇▇▇▇███████████████</td></tr><tr><td>running f1 score 0</td><td>▁▅▆▆▆▆▆▆▆▆▆▇▇▇▇▇▇▇▇▇▇▇▇▇▇▇██████████████</td></tr><tr><td>_runtime</td><td>▁▁▁▂▂▂▂▂▂▃▃▃▃▃▃▄▄▄▄▄▅▅▅▅▅▅▆▆▆▆▆▇▇▇▇▇▇███</td></tr><tr><td>_timestamp</td><td>▁▁▁▂▂▂▂▂▂▃▃▃▃▃▃▄▄▄▄▄▅▅▅▅▅▅▆▆▆▆▆▇▇▇▇▇▇███</td></tr><tr><td>_step</td><td>▁▁▁▂▂▂▂▂▂▃▃▃▃▃▃▄▄▄▄▄▅▅▅▅▅▅▆▆▆▆▆▇▇▇▇▇▇███</td></tr></table><br/>"
      ],
      "text/plain": [
       "<IPython.core.display.HTML object>"
      ]
     },
     "metadata": {},
     "output_type": "display_data"
    },
    {
     "data": {
      "text/html": [
       "Synced 5 W&B file(s), 0 media file(s), 0 artifact file(s) and 0 other file(s)"
      ],
      "text/plain": [
       "<IPython.core.display.HTML object>"
      ]
     },
     "metadata": {},
     "output_type": "display_data"
    },
    {
     "data": {
      "text/html": [
       "\n",
       "                    <br/>Synced <strong style=\"color:#cdcd00\">peachy-pyramid-3</strong>: <a href=\"https://wandb.ai/tentoto/EachClassEfficientNet_with_transform_lrschedule/runs/2s9w6981\" target=\"_blank\">https://wandb.ai/tentoto/EachClassEfficientNet_with_transform_lrschedule/runs/2s9w6981</a><br/>\n",
       "                "
      ],
      "text/plain": [
       "<IPython.core.display.HTML object>"
      ]
     },
     "metadata": {},
     "output_type": "display_data"
    },
    {
     "data": {
      "text/html": [
       "...Successfully finished last run (ID:2s9w6981). Initializing new run:<br/><br/>"
      ],
      "text/plain": [
       "<IPython.core.display.HTML object>"
      ]
     },
     "metadata": {},
     "output_type": "display_data"
    },
    {
     "name": "stderr",
     "output_type": "stream",
     "text": [
      "\n",
      "CondaEnvException: Unable to determine environment\n",
      "\n",
      "Please re-run this command with one of the following options:\n",
      "\n",
      "* Provide an environment name via --name or -n\n",
      "* Re-run this command inside an activated conda environment.\n",
      "\n"
     ]
    },
    {
     "data": {
      "text/html": [
       "\n",
       "                Tracking run with wandb version 0.12.0<br/>\n",
       "                Syncing run <strong style=\"color:#cdcd00\">quiet-pine-4</strong> to <a href=\"https://wandb.ai\" target=\"_blank\">Weights & Biases</a> <a href=\"https://docs.wandb.com/integrations/jupyter.html\" target=\"_blank\">(Documentation)</a>.<br/>\n",
       "                Project page: <a href=\"https://wandb.ai/tentoto/EachClassEfficientNet_with_transform_lrschedule\" target=\"_blank\">https://wandb.ai/tentoto/EachClassEfficientNet_with_transform_lrschedule</a><br/>\n",
       "                Run page: <a href=\"https://wandb.ai/tentoto/EachClassEfficientNet_with_transform_lrschedule/runs/3qpnjdci\" target=\"_blank\">https://wandb.ai/tentoto/EachClassEfficientNet_with_transform_lrschedule/runs/3qpnjdci</a><br/>\n",
       "                Run data is saved locally in <code>/opt/ml/image-classification-level1-29/PIS/code/saved/EachClassEfficientNet_with_transform_lrschedule/wandb/run-20210826_114304-3qpnjdci</code><br/><br/>\n",
       "            "
      ],
      "text/plain": [
       "<IPython.core.display.HTML object>"
      ]
     },
     "metadata": {},
     "output_type": "display_data"
    },
    {
     "name": "stdout",
     "output_type": "stream",
     "text": [
      "mod: test\n"
     ]
    },
    {
     "data": {
      "application/vnd.jupyter.widget-view+json": {
       "model_id": "bccb5e6698c14e9fbc28d9559b9b5166",
       "version_major": 2,
       "version_minor": 0
      },
      "text/plain": [
       "HBox(children=(HTML(value=''), FloatProgress(value=0.0, max=12600.0), HTML(value='')))"
      ]
     },
     "metadata": {},
     "output_type": "display_data"
    },
    {
     "name": "stdout",
     "output_type": "stream",
     "text": [
      "\n",
      "mod: train\n"
     ]
    },
    {
     "data": {
      "application/vnd.jupyter.widget-view+json": {
       "model_id": "bfa8470155064c768d7e3a95ac08ae17",
       "version_major": 2,
       "version_minor": 0
      },
      "text/plain": [
       "HBox(children=(HTML(value=''), FloatProgress(value=0.0, max=252.0), HTML(value='')))"
      ]
     },
     "metadata": {},
     "output_type": "display_data"
    },
    {
     "name": "stdout",
     "output_type": "stream",
     "text": [
      "\n",
      "현재 epoch-0의 평균 Loss : 0.176, 평균 Accuracy : 0.963, F1 score : 0.957\n",
      "mod: valid\n"
     ]
    },
    {
     "data": {
      "application/vnd.jupyter.widget-view+json": {
       "model_id": "4c8a6cf6aa324f619ed0de0f3d06f93a",
       "version_major": 2,
       "version_minor": 0
      },
      "text/plain": [
       "HBox(children=(HTML(value=''), FloatProgress(value=0.0, max=3780.0), HTML(value='')))"
      ]
     },
     "metadata": {},
     "output_type": "display_data"
    },
    {
     "name": "stdout",
     "output_type": "stream",
     "text": [
      "\n",
      "현재 epoch-0의 평균 Loss : 0.054, 평균 Accuracy : 0.887, F1 score : 0.800\n",
      "mod: test\n"
     ]
    },
    {
     "data": {
      "application/vnd.jupyter.widget-view+json": {
       "model_id": "6f128e8743134c47ab531a48857bf7a1",
       "version_major": 2,
       "version_minor": 0
      },
      "text/plain": [
       "HBox(children=(HTML(value=''), FloatProgress(value=0.0, max=12600.0), HTML(value='')))"
      ]
     },
     "metadata": {},
     "output_type": "display_data"
    },
    {
     "name": "stdout",
     "output_type": "stream",
     "text": [
      "\n",
      "mod: train\n"
     ]
    },
    {
     "data": {
      "application/vnd.jupyter.widget-view+json": {
       "model_id": "42247d93c01e430f8e45afceeb30cde8",
       "version_major": 2,
       "version_minor": 0
      },
      "text/plain": [
       "HBox(children=(HTML(value=''), FloatProgress(value=0.0, max=252.0), HTML(value='')))"
      ]
     },
     "metadata": {},
     "output_type": "display_data"
    },
    {
     "name": "stdout",
     "output_type": "stream",
     "text": [
      "\n",
      "현재 epoch-1의 평균 Loss : 0.080, 평균 Accuracy : 0.980, F1 score : 0.976\n",
      "mod: valid\n"
     ]
    },
    {
     "data": {
      "application/vnd.jupyter.widget-view+json": {
       "model_id": "e9c1ca951a4b4f0fa0ec57a1864955e7",
       "version_major": 2,
       "version_minor": 0
      },
      "text/plain": [
       "HBox(children=(HTML(value=''), FloatProgress(value=0.0, max=3780.0), HTML(value='')))"
      ]
     },
     "metadata": {},
     "output_type": "display_data"
    }
   ],
   "source": [
    "wandb.init(project=project_name,config=config,dir=wandb_dir)\n",
    "for e in range(num_epochs):   \n",
    "    for mod in ['test','train','valid']:\n",
    "        print('mod:',mod)\n",
    "        data=ImageDataset(mod=mod)\n",
    "\n",
    "        if mod=='train':\n",
    "            dataloader=DataLoader(data,batch_size=batch_size,shuffle=True)\n",
    "            model.train()\n",
    "        else:\n",
    "            submission = pd.read_csv(os.path.join(data.path[0], 'info.csv'))\n",
    "            dataloader=DataLoader(data,shuffle=False)\n",
    "            model.eval()\n",
    "\n",
    "        with tqdm(dataloader) as pbar:\n",
    "            running_loss=0.\n",
    "            running_acc=0.\n",
    "            tot_pred=torch.tensor([]).to(device)\n",
    "            tot_label=torch.tensor([]).to(device)\n",
    "            cm_pred=torch.tensor([]).to(device)\n",
    "            cm_label=torch.tensor([]).to(device)\n",
    "            for n,(image,label) in enumerate(pbar):\n",
    "                image=image.to(device)\n",
    "                label=label.to(device)\n",
    "\n",
    "                logit=model(image)\n",
    "                _,pred=torch.max(logit,1)\n",
    "\n",
    "                if mod=='train':\n",
    "                    optim.zero_grad()\n",
    "                    loss=loss_fn(logit,label)\n",
    "                    loss.backward()\n",
    "                    optim.step()\n",
    "                if data.train:\n",
    "                    running_loss+=loss.item()*image.size(0)\n",
    "                    running_acc+=torch.sum(pred==label)/image.size(0)\n",
    "                    pbar.set_postfix({'epoch' : e, 'loss' : running_loss/(n+1), 'accuracy' : float(running_acc)/(n+1),'F1 score':f1_score(label.cpu(),pred.cpu(),average='macro')})\n",
    "\n",
    "                tot_pred=torch.hstack((tot_pred,pred))\n",
    "                tot_label=torch.hstack((tot_label,label))\n",
    "                cm_pred=torch.hstack((cm_pred,pred+3*classes['mask']))\n",
    "                cm_label=torch.hstack((cm_label,label+3*classes['mask']))\n",
    "                if data.train:\n",
    "                        pbar.set_postfix({'epoch' : e, 'loss' : running_loss/(n+1), 'accuracy' : float(running_acc)/(n+1),'F1 score':f1_score(tot_label.cpu(),tot_pred.cpu(),average='macro')})\n",
    "                        if mod=='train':\n",
    "                            wandb.log({f'running loss {e}' : running_loss/(n+1), f'running accuracy {e}' : float(running_acc)/(n+1),f'running f1 score {e}':f1_score(tot_label.cpu(),tot_pred.cpu(),average='macro')})\n",
    "            if data.train:\n",
    "                epoch_loss=running_loss/len(dataloader.dataset)\n",
    "                epoch_acc=running_acc*image.size(0)/len(dataloader.dataset)\n",
    "                epoch_f1=f1_score(tot_label.cpu(),tot_pred.cpu(),average='macro')\n",
    "                print(f\"현재 epoch-{e}의 평균 Loss : {epoch_loss:.3f}, 평균 Accuracy : {epoch_acc:.3f}, F1 score : {epoch_f1:.3f}\")\n",
    "            elif mod=='test':\n",
    "                submission['ans'] = tot_pred.cpu().numpy().astype('int64')\n",
    "                submission.to_csv(os.path.join(result_dir, f'submission_{project_name}_{e}_{epoch_f1}.csv'), index=False)\n",
    "                \n",
    "    if mod=='valid':\n",
    "        now=str(datetime.now().astimezone(KST))[:16]\n",
    "        cm=conf_mat(cm_label.cpu(),cm_pred.cpu())\n",
    "        cm.savefig(f'./saved/{project_name}/checkpoint/checkpoint_{key}_{now}_{e}.jpg')\n",
    "        wandb.log({'confusion_matrix':wandb.Image(cm),'loss' : epoch_loss, 'accuracy' : epoch_acc,'f1 score':f1_score(tot_label.cpu(),tot_pred.cpu(),average='macro')})\n",
    "        if best_f1<epoch_f1:\n",
    "            stopper=0\n",
    "            best_f1=epoch_f1\n",
    "            torch.save({'epoch':e,'loss':loss,'model_state_dict':model.state_dict(),'optimizer_state_dict':optim.state_dict()},f\"{model_dir}/model_coposed_{now}_{e}_{epoch_loss:.3f}_{epoch_acc:.3f}_{f1_score(tot_label.cpu(),tot_pred.cpu(),average='macro')}.pt\")\n",
    "        elif stopper==3:\n",
    "            break\n",
    "        else:\n",
    "            stopper+=1\n",
    "wandb.finish()"
   ]
  },
  {
   "cell_type": "code",
   "execution_count": null,
   "id": "12467a08-5c52-4723-ae90-80ffcca3344c",
   "metadata": {},
   "outputs": [],
   "source": []
  }
 ],
 "metadata": {
  "kernelspec": {
   "display_name": "Python 3 (ipykernel)",
   "language": "python",
   "name": "python3"
  },
  "language_info": {
   "codemirror_mode": {
    "name": "ipython",
    "version": 3
   },
   "file_extension": ".py",
   "mimetype": "text/x-python",
   "name": "python",
   "nbconvert_exporter": "python",
   "pygments_lexer": "ipython3",
   "version": "3.8.5"
  }
 },
 "nbformat": 4,
 "nbformat_minor": 5
}
