{
 "cells": [
  {
   "cell_type": "code",
   "execution_count": 1,
   "id": "cubic-scoop",
   "metadata": {},
   "outputs": [],
   "source": [
    "import os\n",
    "import pandas as pd\n",
    "from PIL import Image\n",
    "import random\n",
    "import wandb\n",
    "import copy\n",
    "\n",
    "import torch\n",
    "import torch.nn as nn\n",
    "import torch.optim as optm\n",
    "import torch.nn.functional as F\n",
    "from torch.utils.data import Dataset, DataLoader\n",
    "\n",
    "import torchvision\n",
    "from torchvision import transforms\n",
    "from torchvision.transforms import Resize, ToTensor, Normalize\n",
    "\n",
    "from sklearn.metrics import f1_score\n",
    "import numpy as np\n",
    "\n",
    "import matplotlib.pyplot as plt\n",
    "from matplotlib.pyplot import imshow\n",
    "from matplotlib import gridspec\n",
    "\n",
    "from torchinfo import summary\n",
    "from tqdm.auto import tqdm\n",
    "\n",
    "%matplotlib inline\n",
    "device = 'cuda' if torch.cuda.is_available() else 'cpu'\n",
    "cwd=os.path.dirname(os.getcwd())"
   ]
  },
  {
   "cell_type": "code",
   "execution_count": 2,
   "id": "5ee68bde-02bc-45c4-afaa-bf90cbf7f4ee",
   "metadata": {},
   "outputs": [],
   "source": [
    "#프로젝트 이름 설정과 저장경로\n",
    "project_name='wandb_tutorial'\n",
    "model_dir=os.path.join(os.getcwd(),f'saved/{project_name}/checkpoint')\n",
    "result_dir=os.path.join(os.path.dirname(model_dir),'result')\n",
    "wandb_dir=os.path.dirname(model_dir)\n",
    "if not os.path.isdir(model_dir):\n",
    "    os.makedirs(model_dir)\n",
    "if not os.path.isdir(result_dir):\n",
    "    os.makedirs(result_dir)"
   ]
  },
  {
   "cell_type": "code",
   "execution_count": 3,
   "id": "1af0aee3-bfc0-4aa0-b724-9a9f10b62cb8",
   "metadata": {},
   "outputs": [],
   "source": [
    "#Randomness 제어\n",
    "random_seed=2021\n",
    "torch.manual_seed(random_seed)\n",
    "torch.cuda.manual_seed(random_seed)\n",
    "torch.backends.cudnn.deterministic = True\n",
    "torch.backends.cudnn.benchmark = False\n",
    "np.random.seed(random_seed)\n",
    "random.seed(random_seed)\n"
   ]
  },
  {
   "cell_type": "code",
   "execution_count": 3,
   "id": "667bcb95-ce17-4d41-b2cc-107c72c9c785",
   "metadata": {},
   "outputs": [],
   "source": [
    "transform={'trans':transforms.Compose([\n",
    "    transforms.Resize(256),\n",
    "    transforms.CenterCrop(224),\n",
    "    transforms.ToTensor(),\n",
    "    transforms.Normalize(mean=[0.485, 0.456, 0.406], std=[0.229, 0.224, 0.225]),\n",
    "]),\n",
    "'pretrans':transforms.Compose([\n",
    "    transforms.Resize(256),\n",
    "    transforms.CenterCrop(224),\n",
    "    transforms.ToTensor(),\n",
    "]),\n",
    "'posttrans':transforms.Normalize(mean=[0.485, 0.456, 0.406], std=[0.229, 0.224, 0.225])}\n",
    "\n",
    "def make_images(meta,img_dir,train):\n",
    "    images=[]\n",
    "    labels=[]\n",
    "    if train:\n",
    "        for idx in range(len(meta)):\n",
    "            folder_path=os.path.join(img_dir, meta.path[idx])\n",
    "            for img in os.listdir(folder_path):\n",
    "                if '._' in img:\n",
    "                    continue\n",
    "                images.append(os.path.join(folder_path,img))\n",
    "                labels.append((('incorrect' in img)+('normal' in img)*2)*6+(meta.gender[idx]=='female')*3+(30<=meta.age[idx])+(60<=meta.age[idx]))\n",
    "    else:\n",
    "        for img_id in meta.ImageID:\n",
    "            images.append(os.path.join(img_dir, img_id))\n",
    "    return images,labels\n",
    "\n",
    "class ImageDataset(Dataset):\n",
    "    def __init__(self,transform=transform,train=True):\n",
    "        self.train=train\n",
    "        self.md=['info','train']\n",
    "        self.path=[os.path.join(cwd,'input/data/eval'),os.path.join(cwd,'input/data/train')]\n",
    "        self.meta=pd.read_csv(os.path.join(self.path[train], f'{self.md[train]}.csv'))\n",
    "        self.img_dir=os.path.join(self.path[train],'images')\n",
    "        self.classes=[('Wear','Incorrect','Not Wear'),('남','여'),('<30','>=30 and <60','>=60')]\n",
    "        self.trans=transform['trans']\n",
    "        \n",
    "        self.images,self.labels=make_images(self.meta,self.img_dir,train)\n",
    "\n",
    "    def __len__(self):\n",
    "        return len(self.images)\n",
    "    \n",
    "    def __getitem__(self, idx):\n",
    "        image=Image.open(self.images[idx])\n",
    "        image=self.trans(image)\n",
    "        if self.train:\n",
    "            label=self.labels[idx]\n",
    "        else:\n",
    "            label=0\n",
    "        return image,label\n",
    "\n",
    "def make_images_mask_avg(meta,img_dir,train):\n",
    "    images=[]\n",
    "    labels=[]\n",
    "    if train:\n",
    "        for idx in range(len(meta)):\n",
    "            folder_path=os.path.join(img_dir, meta.path[idx])\n",
    "            for keyward in ['mask','incorrect_mask','normal']:\n",
    "                file_list=[os.path.join(folder_path,img) for img in os.listdir(folder_path) if (keyward in img)and (len(img)-len(keyward)<=5)]\n",
    "                images.append(file_list)\n",
    "                labels.append((('incorrect'==keyward)+('normal'==keyward)*2)*6+(meta.gender[idx]=='female')*3+(30<=meta.age[idx])+(60<=meta.age[idx]))\n",
    "    else:\n",
    "        for img_id in meta.ImageID:\n",
    "            images.append(os.path.join(img_dir, img_id))\n",
    "    return images, labels\n",
    "\n",
    "def img_avg(trans,paths):\n",
    "    if len(paths)==1:\n",
    "        return trans['pretrans'](Image.open(paths[0]))\n",
    "    image=torch.zeros_like(trans['pretrans'](Image.open(paths[0])))\n",
    "    for path in paths:\n",
    "        image+=trans['pretrans'](Image.open(path))\n",
    "    return image/len(paths)\n",
    "\n",
    "class ImageAvgDataset(Dataset):\n",
    "    def __init__(self,transform=transform,train=True):\n",
    "        self.train=train\n",
    "        self.md=['info','train']\n",
    "        self.path=[os.path.join(cwd,'input/data/eval'),os.path.join(cwd,'input/data/train')]\n",
    "        self.meta=pd.read_csv(os.path.join(self.path[train], f'{self.md[train]}.csv'))\n",
    "        self.img_dir=os.path.join(self.path[train],'images')\n",
    "        self.classes=[('Wear','Incorrect','Not Wear'),('남','여'),('<30','>=30 and <60','>=60')]\n",
    "        self.trans=transform\n",
    "        \n",
    "        self.images,self.labels=make_images_mask_avg(self.meta,self.img_dir,train)\n",
    "\n",
    "    def __len__(self):\n",
    "        return len(self.images)\n",
    "    \n",
    "    def __getitem__(self, idx):\n",
    "        if self.train:\n",
    "            label=self.labels[idx]\n",
    "            image=img_avg(self.trans,self.images[idx])\n",
    "            image=self.trans['posttrans'](image)\n",
    "        else:\n",
    "            image=Image.open(self.images[idx])\n",
    "            image=self.trans['trans'](image)\n",
    "            label=0\n",
    "        return image,label\n"
   ]
  },
  {
   "cell_type": "code",
   "execution_count": 4,
   "id": "587e4613-547a-415e-8532-5c2e51a96670",
   "metadata": {},
   "outputs": [
    {
     "data": {
      "text/plain": [
       "tensor([-0.0050, -0.0199, -0.0156])"
      ]
     },
     "execution_count": 4,
     "metadata": {},
     "output_type": "execute_result"
    }
   ],
   "source": [
    "#사용할 부분 모델 불러오기\n",
    "net_mask = torchvision.models.resnext50_32x4d(pretrained=True)\n",
    "net_gender = torchvision.models.resnext50_32x4d(pretrained=True)\n",
    "net_age = torchvision.models.resnet50(pretrained=True)\n",
    "\n",
    "#초기화 하기\n",
    "net_mask.fc=torch.nn.Linear(in_features=2048, out_features=3, bias=True)\n",
    "net_gender.fc=torch.nn.Linear(in_features=2048, out_features=2, bias=True)\n",
    "net_age.fc=torch.nn.Linear(in_features=2048, out_features=3, bias=True)\n",
    "\n",
    "\n",
    "torch.nn.init.xavier_uniform_(net_mask.fc.weight)\n",
    "torch.nn.init.xavier_uniform_(net_gender.fc.weight)\n",
    "torch.nn.init.xavier_uniform_(net_age.fc.weight)\n",
    "\n",
    "stdv=1/np.sqrt(2048)\n",
    "net_mask.fc.bias.data.uniform_(-stdv, stdv)\n",
    "net_gender.fc.bias.data.uniform_(-stdv, stdv)\n",
    "net_age.fc.bias.data.uniform_(-stdv, stdv)"
   ]
  },
  {
   "cell_type": "code",
   "execution_count": 5,
   "id": "27242977-5523-49b9-9e36-fd58a470f42c",
   "metadata": {},
   "outputs": [],
   "source": [
    "#모델 구축\n",
    "class MyModel(nn.Module):\n",
    "    def __init__(self):\n",
    "        super().__init__()\n",
    "        self.mask=net_mask\n",
    "        self.gender=net_gender\n",
    "        self.age=net_age\n",
    "        \n",
    "    def forward(self,x):\n",
    "        mask=self.mask(x).view(x.size(0),3,1,1)\n",
    "        gender=self.gender(x).view(x.size(0),1,2,1)\n",
    "        age=self.age(x).view(x.size(0),1,1,3)\n",
    "        return (mask*gender*age).view(x.size(0),-1)"
   ]
  },
  {
   "cell_type": "code",
   "execution_count": 6,
   "id": "01b1ea23-2dca-4bd9-8638-4e2b88151c61",
   "metadata": {},
   "outputs": [],
   "source": [
    "#모델 설정하기\n",
    "\n",
    "model=MyModel()\n",
    "model.to(device)\n",
    "optim=optm.Adam(model.parameters())\n",
    "if os.listdir(model_dir):\n",
    "    latest_model_id=sorted(os.listdir(model_dir))[-1]\n",
    "    checkpoint=torch.load(os.path.join(model_dir,latest_model_id))\n",
    "    model.load_state_dict(checkpoint['model_state_dict'])\n",
    "    optim.load_state_dict(checkpoint['optimizer_state_dict'])\n",
    "    epoch=checkpoint['epoch']+1\n",
    "    loss=checkpoint['loss']\n",
    "else:\n",
    "    epoch=1"
   ]
  },
  {
   "cell_type": "code",
   "execution_count": 7,
   "id": "642357d7-6199-47e1-bcc7-9682e5efe8b7",
   "metadata": {},
   "outputs": [],
   "source": [
    "#학습 설정하기\n",
    "num_epochs=3\n",
    "batch_size=50\n",
    "learning_rate=0.001\n",
    "weight_loss=True\n",
    "config={'epochs':num_epochs,'batch_size':batch_size,'learning_rate':learning_rate}\n",
    "\n",
    "weight=torch.tensor([1,1.2,4.5,0.8,0.7,4.5]+2*[5, 6.0, 22.5, 4.0, 3.5, 22.5]).to(device)\n",
    "loss_fn_weight=nn.CrossEntropyLoss(weight=weight)\n",
    "loss_fn=nn.CrossEntropyLoss()"
   ]
  },
  {
   "cell_type": "code",
   "execution_count": 8,
   "id": "63919205-1752-450b-b03e-ce692fa6aa6e",
   "metadata": {},
   "outputs": [],
   "source": [
    "model_weight=copy.deepcopy(model)\n",
    "optim_weight=copy.deepcopy(optim)"
   ]
  },
  {
   "cell_type": "code",
   "execution_count": null,
   "id": "4a1a0082-d99a-468a-80f5-8a2706ccb91f",
   "metadata": {},
   "outputs": [
    {
     "name": "stderr",
     "output_type": "stream",
     "text": [
      "\u001b[34m\u001b[1mwandb\u001b[0m: Currently logged in as: \u001b[33mtentoto\u001b[0m (use `wandb login --relogin` to force relogin)\n",
      "\n",
      "CondaEnvException: Unable to determine environment\n",
      "\n",
      "Please re-run this command with one of the following options:\n",
      "\n",
      "* Provide an environment name via --name or -n\n",
      "* Re-run this command inside an activated conda environment.\n",
      "\n"
     ]
    },
    {
     "data": {
      "text/html": [
       "\n",
       "                Tracking run with wandb version 0.12.0<br/>\n",
       "                Syncing run <strong style=\"color:#cdcd00\">jolly-brook-8</strong> to <a href=\"https://wandb.ai\" target=\"_blank\">Weights & Biases</a> <a href=\"https://docs.wandb.com/integrations/jupyter.html\" target=\"_blank\">(Documentation)</a>.<br/>\n",
       "                Project page: <a href=\"https://wandb.ai/tentoto/wandb_tutorial\" target=\"_blank\">https://wandb.ai/tentoto/wandb_tutorial</a><br/>\n",
       "                Run page: <a href=\"https://wandb.ai/tentoto/wandb_tutorial/runs/t278fcen\" target=\"_blank\">https://wandb.ai/tentoto/wandb_tutorial/runs/t278fcen</a><br/>\n",
       "                Run data is saved locally in <code>/opt/ml/image-classification-level1-29/PIS/code/saved/wandb_tutorial/wandb/run-20210825_044915-t278fcen</code><br/><br/>\n",
       "            "
      ],
      "text/plain": [
       "<IPython.core.display.HTML object>"
      ]
     },
     "metadata": {},
     "output_type": "display_data"
    },
    {
     "data": {
      "application/vnd.jupyter.widget-view+json": {
       "model_id": "145b20f5eb55420ba596fedf9d5ab15b",
       "version_major": 2,
       "version_minor": 0
      },
      "text/plain": [
       "HBox(children=(HTML(value=''), FloatProgress(value=0.0, max=378.0), HTML(value='')))"
      ]
     },
     "metadata": {},
     "output_type": "display_data"
    },
    {
     "name": "stdout",
     "output_type": "stream",
     "text": [
      "\n"
     ]
    },
    {
     "data": {
      "application/vnd.jupyter.widget-view+json": {
       "model_id": "30a6add66dab41459a6e93e42cb65590",
       "version_major": 2,
       "version_minor": 0
      },
      "text/plain": [
       "HBox(children=(HTML(value=''), FloatProgress(value=0.0, max=378.0), HTML(value='')))"
      ]
     },
     "metadata": {},
     "output_type": "display_data"
    },
    {
     "name": "stdout",
     "output_type": "stream",
     "text": [
      "\n"
     ]
    },
    {
     "data": {
      "application/vnd.jupyter.widget-view+json": {
       "model_id": "560c2ad4149840dcbb2792a3873a8916",
       "version_major": 2,
       "version_minor": 0
      },
      "text/plain": [
       "HBox(children=(HTML(value=''), FloatProgress(value=0.0, max=378.0), HTML(value='')))"
      ]
     },
     "metadata": {},
     "output_type": "display_data"
    }
   ],
   "source": [
    "wandb.init(project=project_name,config=config,dir=wandb_dir)\n",
    "for e in range(epoch,epoch+num_epochs):   \n",
    "    for train in [True]:\n",
    "        data=ImageDataset(train=train)\n",
    "\n",
    "        if train:\n",
    "            dataloader=DataLoader(data,batch_size=batch_size,shuffle=True)\n",
    "            model.train()\n",
    "        else:\n",
    "            submission = pd.read_csv(os.path.join(data.path[0], 'info.csv'))\n",
    "            dataloader=DataLoader(data,shuffle=False)\n",
    "            model.eval()\n",
    "\n",
    "        with tqdm(dataloader) as pbar:\n",
    "            running_loss=0.\n",
    "            running_acc=0.\n",
    "            tot_pred=torch.tensor([]).to(device)\n",
    "            tot_label=torch.tensor([]).to(device)\n",
    "            for n,(image,label) in enumerate(pbar):\n",
    "                image=image.to(device)\n",
    "                label=label.to(device)\n",
    "\n",
    "                logit=model(image)\n",
    "                _,pred=torch.max(logit,1)\n",
    "\n",
    "                if train:\n",
    "                    optim.zero_grad()\n",
    "                    loss=loss_fn(logit,label)\n",
    "                    loss.backward()\n",
    "                    optim.step()\n",
    "                    running_loss+=loss.item()*image.size(0)\n",
    "                    running_acc+=torch.sum(pred==label)\n",
    "                    pbar.set_postfix({'epoch' : epoch, 'loss' : running_loss/(n+1), 'accuracy' : float(running_acc)/(n+1),'F1 score':f1_score(label.cpu(),pred.cpu(),average='macro')})\n",
    "\n",
    "                tot_pred=torch.hstack((tot_pred,pred))\n",
    "                tot_label=torch.hstack((tot_label,label))\n",
    "                \n",
    "            if train:\n",
    "                epoch_loss=running_loss/len(dataloader.dataset)\n",
    "                epoch_acc=running_acc/len(dataloader.dataset)\n",
    "                wandb.log({'loss' : running_loss/(n+1), 'accuracy' : float(running_acc)/(n+1),'f1 score':f1_score(tot_label.cpu(),tot_pred.cpu(),average='macro')})\n",
    "                #torch.save({'epoch':e,'loss':loss,'model_state_dict':model.state_dict(),'optimizer_state_dict':optim.state_dict()},f\"{model_dir}checkpoint_{e}_{epoch_loss:.3f}_{epoch_acc:.3f}_{f1_score(tot_label.cpu(),tot_pred.cpu(),average='macro')}.pt\")\n",
    "            else:\n",
    "                pass\n",
    "                #submission['ans'] = tot_pred.cpu().numpy().astype('int64')\n",
    "                #submission.to_csv(os.path.join(result_dir, f'submission_{project_name}_{e}.csv'), index=False)"
   ]
  },
  {
   "cell_type": "code",
   "execution_count": null,
   "id": "0becbddf-58c2-43dc-b699-df7ef46b1182",
   "metadata": {},
   "outputs": [],
   "source": [
    "wandb.init(project=project_name,config=config,dir=wandb_dir)\n",
    "for e in range(epoch,epoch+num_epochs):   \n",
    "    for train in [True]:\n",
    "        data=ImageDataset(train=train)\n",
    "\n",
    "        if train:\n",
    "            dataloader=DataLoader(data,batch_size=batch_size,shuffle=True)\n",
    "            model_weight.train()\n",
    "        else:\n",
    "            submission = pd.read_csv(os.path.join(data.path[0], 'info.csv'))\n",
    "            dataloader=DataLoader(data,shuffle=False)\n",
    "            model_weight.eval()\n",
    "\n",
    "        with tqdm(dataloader) as pbar:\n",
    "            running_loss=0.\n",
    "            running_acc=0.\n",
    "            tot_pred=torch.tensor([]).to(device)\n",
    "            tot_label=torch.tensor([]).to(device)\n",
    "            for n,(image,label) in enumerate(pbar):\n",
    "                image=image.to(device)\n",
    "                label=label.to(device)\n",
    "\n",
    "                logit=model_weight(image)\n",
    "                _,pred=torch.max(logit,1)\n",
    "\n",
    "                if train:\n",
    "                    optim_weight.zero_grad()\n",
    "                    loss=loss_fn(logit,label)\n",
    "                    loss.backward()\n",
    "                    optim_weight.step()\n",
    "                    running_loss+=loss.item()*image.size(0)\n",
    "                    running_acc+=torch.sum(pred==label)\n",
    "                    pbar.set_postfix({'epoch' : epoch, 'loss' : running_loss/(n+1), 'accuracy' : float(running_acc)/(n+1),'F1 score':f1_score(label.cpu(),pred.cpu(),average='macro')})\n",
    "\n",
    "                tot_pred=torch.hstack((tot_pred,pred))\n",
    "                tot_label=torch.hstack((tot_label,label))\n",
    "                \n",
    "            if train:\n",
    "                epoch_loss=running_loss/len(dataloader.dataset)\n",
    "                epoch_acc=running_acc/len(dataloader.dataset)\n",
    "                wandb.log({'loss' : running_loss/(n+1), 'accuracy' : float(running_acc)/(n+1),'f1 score':f1_score(tot_label.cpu(),tot_pred.cpu(),average='macro')})\n",
    "                #torch.save({'epoch':e,'loss':loss,'model_state_dict':model_weight.state_dict(),'optimizer_state_dict':optim_weight.state_dict()},f\"{model_dir}checkpoint_{e}_{epoch_loss:.3f}_{epoch_acc:.3f}_{f1_score(tot_label.cpu(),tot_pred.cpu(),average='macro')}.pt\")\n",
    "            else:\n",
    "                pass\n",
    "                #submission['ans'] = tot_pred.cpu().numpy().astype('int64')\n",
    "                #submission.to_csv(os.path.join(result_dir, f'submission_{project_name}_{e}.csv'), index=False)"
   ]
  }
 ],
 "metadata": {
  "kernelspec": {
   "display_name": "Python 3 (ipykernel)",
   "language": "python",
   "name": "python3"
  },
  "language_info": {
   "codemirror_mode": {
    "name": "ipython",
    "version": 3
   },
   "file_extension": ".py",
   "mimetype": "text/x-python",
   "name": "python",
   "nbconvert_exporter": "python",
   "pygments_lexer": "ipython3",
   "version": "3.8.5"
  }
 },
 "nbformat": 4,
 "nbformat_minor": 5
}
