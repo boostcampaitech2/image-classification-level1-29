{
 "cells": [
  {
   "cell_type": "code",
   "execution_count": 1,
   "id": "cubic-scoop",
   "metadata": {},
   "outputs": [],
   "source": [
    "import os\n",
    "import numpy as np\n",
    "import pandas as pd\n",
    "from PIL import Image\n",
    "import random\n",
    "import wandb\n",
    "import copy\n",
    "import time\n",
    "from datetime import datetime\n",
    "from pytz import timezone\n",
    "import seaborn as sns\n",
    "\n",
    "import cv2\n",
    "\n",
    "from torchvision.transforms import ToTensor,Compose,ColorJitter,RandomRotation,RandomHorizontalFlip,Resize,CenterCrop,Normalize,GaussianBlur,RandomCrop\n",
    "\n",
    "import timm\n",
    "\n",
    "import torch\n",
    "import torch.nn as nn\n",
    "import torch.optim as optm\n",
    "import torch.nn.functional as F\n",
    "import torch.distributions as dist\n",
    "from torch.utils.data import Dataset, DataLoader\n",
    "\n",
    "import torchvision\n",
    "\n",
    "from sklearn.metrics import f1_score\n",
    "from sklearn.model_selection import train_test_split\n",
    "from sklearn.metrics import confusion_matrix\n",
    "\n",
    "import matplotlib.pyplot as plt\n",
    "from matplotlib.pyplot import imshow\n",
    "from matplotlib import gridspec\n",
    "\n",
    "from torchinfo import summary\n",
    "from tqdm.auto import tqdm\n",
    "\n",
    "%matplotlib inline\n",
    "device = 'cuda' if torch.cuda.is_available() else 'cpu'\n",
    "cwd=os.path.dirname(os.getcwd())\n",
    "KST=timezone('Asia/Seoul')\n",
    "date=str(datetime.now().astimezone(KST))[:10]"
   ]
  },
  {
   "cell_type": "code",
   "execution_count": 2,
   "id": "5ee68bde-02bc-45c4-afaa-bf90cbf7f4ee",
   "metadata": {},
   "outputs": [],
   "source": [
    "#프로젝트 이름 설정과 저장경로\n",
    "project_name='ageefficientnet_with_label_smoothing'"
   ]
  },
  {
   "cell_type": "code",
   "execution_count": 3,
   "id": "1af0aee3-bfc0-4aa0-b724-9a9f10b62cb8",
   "metadata": {},
   "outputs": [],
   "source": [
    "#Randomness 제어\n",
    "random_seed=2021\n",
    "torch.manual_seed(random_seed)\n",
    "torch.cuda.manual_seed(random_seed)\n",
    "torch.backends.cudnn.deterministic = True\n",
    "torch.backends.cudnn.benchmark = False\n",
    "np.random.seed(random_seed)\n",
    "random.seed(random_seed)"
   ]
  },
  {
   "cell_type": "code",
   "execution_count": 4,
   "id": "667bcb95-ce17-4d41-b2cc-107c72c9c785",
   "metadata": {},
   "outputs": [],
   "source": [
    "transform={'trans':Compose([\n",
    "    Resize((256*512//384,256)),\n",
    "    CenterCrop(224),\n",
    "    ToTensor(),\n",
    "    Normalize(mean=(0.485, 0.456, 0.406), std=(0.229, 0.224, 0.225)),\n",
    "]),'regtrans':Compose([\n",
    "    Resize((256*512//384,256)),\n",
    "    GaussianBlur(3),\n",
    "    ColorJitter(brightness=0.2, contrast=0.2, saturation=0.2, hue=0.2),\n",
    "    RandomCrop(224),\n",
    "    ToTensor(),\n",
    "    Normalize(mean=(0.485, 0.456, 0.406), std=(0.229, 0.224, 0.225)),\n",
    "]),'uptrans':Compose([\n",
    "    Resize((256*512//384,256)),\n",
    "    RandomHorizontalFlip(),\n",
    "    RandomRotation(20),\n",
    "    CenterCrop(224),\n",
    "    ToTensor(),\n",
    "    Normalize(mean=(0.485, 0.456, 0.406), std=(0.229, 0.224, 0.225)),\n",
    "])}\n",
    "\n",
    "def make_images(meta,img_dir,train):\n",
    "    images=[]\n",
    "    labels=[]\n",
    "    ages=[]\n",
    "    data=pd.DataFrame({'images':[],'labels':[]})\n",
    "    if train:\n",
    "        for idx in range(len(meta)):\n",
    "            folder_path=os.path.join(img_dir, meta.path.iloc[idx])\n",
    "            for img in os.listdir(folder_path):\n",
    "                if '._' in img:\n",
    "                    continue\n",
    "                images.append(os.path.join(folder_path,img))\n",
    "                labels.append((('incorrect' in img)+('normal' in img)*2)*6+(meta.gender.iloc[idx]=='female')*3+(30<=meta.age.iloc[idx])+(60<=meta.age.iloc[idx]))\n",
    "                ages.append(meta.age.iloc[idx])\n",
    "    else:\n",
    "        for img_id in meta.ImageID:\n",
    "            images.append(os.path.join(img_dir, img_id))\n",
    "        labels=[0 for _ in range(len(images))]\n",
    "    data['images']=images\n",
    "    data['labels']=labels\n",
    "    data['ages']=ages\n",
    "    return data\n",
    "\n",
    "class ImageDataset(Dataset):\n",
    "    def __init__(self,transform=transform,mod='train'):\n",
    "        self.mod=mod\n",
    "        self.train=mod!='test'\n",
    "        self.md=['info','train']\n",
    "        self.path=[os.path.join(cwd,'input/data/eval'),os.path.join(cwd,'input/data/train')]\n",
    "        self.meta=pd.read_csv(os.path.join(self.path[self.train], f'{self.md[self.train]}.csv'))\n",
    "        self.img_dir=os.path.join(self.path[self.train],'images')\n",
    "        self.classes=[('Wear','Incorrect','Not Wear'),('남','여'),('<30','>=30 and <60','>=60')]\n",
    "        self.trans=transform\n",
    "        self.criteria=1*(self.meta['age']>=30)+1*(self.meta['age']>=60)+3*(self.meta['gender']=='female')\n",
    "        if self.train:\n",
    "            self.train_data,self.val_data=train_test_split(self.meta,test_size=0.2,stratify=self.criteria)\n",
    "            self.train_data=make_images(self.train_data,self.img_dir,self.train)\n",
    "            self.val_data=make_images(self.val_data,self.img_dir,self.train)\n",
    "    \n",
    "    def __len__(self):\n",
    "        return len(self.train_data) if self.mod=='train' else len(self.val_data)\n",
    "        \n",
    "    \n",
    "    def __getitem__(self, idx):\n",
    "        if self.mod=='valid':\n",
    "            images=self.val_data['images']\n",
    "            labels=self.val_data['labels']\n",
    "            ages=self.val_data['ages']\n",
    "            age=ages.iloc[idx]\n",
    "        elif self.mod=='train':\n",
    "            images=self.train_data['images']\n",
    "            labels=self.train_data['labels']\n",
    "            ages=self.train_data['ages']\n",
    "            age=ages.iloc[idx]\n",
    "\n",
    "        label=labels.iloc[idx]\n",
    "        image=Image.open(images.iloc[idx])\n",
    "        \n",
    "        if self.mod=='train':\n",
    "            if True:\n",
    "                image=self.trans['uptrans'](image)\n",
    "                return image,label,age\n",
    "            else:\n",
    "                image=self.trans['regtrans'](image)\n",
    "                return image,label,age\n",
    "        else:\n",
    "            image=self.trans['trans'](image)\n",
    "            return image,label,age\n",
    "        return image,label\n",
    "\n",
    "def conf_mat(y_true,y_pred):\n",
    "    cm=confusion_matrix(y_true,y_pred)\n",
    "    norm_cm=cm/np.sum(cm, axis=1)[:,None]\n",
    "    indices=['wear,m,<30','wear,m,mask<>','wear,m,mask60','wear,f,<30','wear,f,<>','wear,f,60','inc,m,<30','inc,m,<>','inc,m,60','inc,f,<30','inc,f,<>','inc,f,60','nom,m,<30','nom,m,<>','nom,m,60','nom,f,<30','nom,f,<>','nom,f,60']\n",
    "    cm=pd.DataFrame(norm_cm,index=indices,columns=indices)\n",
    "    fig=plt.figure(figsize=(11,9))\n",
    "    sns.heatmap(cm,annot=True)\n",
    "    return fig\n",
    "\n",
    "\n",
    "class SkewNormal(dist.normal.Normal):\n",
    "    def __init__(self,mean=0,std=1,skew=0):\n",
    "        super().__init__(loc=mean,scale=std)\n",
    "        self.skew=skew\n",
    "    def skewcdf(self,x):\n",
    "        return 0.5 * (1 + torch.erf(self.skew*(x - self.loc) * self.scale.reciprocal() / np.sqrt(2)))\n",
    "\n",
    "    def log_p(self,x):\n",
    "        return self.log_prob(x)+torch.log(self.skewcdf(x))-torch.log(torch.tensor(2.))\n",
    "\n",
    "def label_smoothing(label):\n",
    "    label-=18\n",
    "    label_0=SkewNormal(11.,7,-20).log_p\n",
    "    label_11=SkewNormal(12.,7,20).log_p\n",
    "    label_12=SkewNormal(41,7,-20).log_p\n",
    "    label_2=dist.Normal(43.7,.65).log_prob\n",
    "    return torch.exp(torch.vstack((label_0(label),torch.log(torch.exp(label_11(label))+torch.exp(label_12(label))),label_2(label))).T)"
   ]
  },
  {
   "cell_type": "code",
   "execution_count": 5,
   "id": "a08b975c-ad86-4a61-8dc3-a392bf34ab6b",
   "metadata": {},
   "outputs": [
    {
     "data": {
      "text/plain": [
       "tensor([[8.2901e-03, 1.0123e-09, 0.0000e+00],\n",
       "        [1.4248e-02, 6.3214e-05, 0.0000e+00],\n",
       "        [6.0288e-05, 1.4253e-02, 0.0000e+00],\n",
       "        [0.0000e+00, 1.4253e-02, 1.0996e-04],\n",
       "        [0.0000e+00, 6.3214e-05, 2.0075e-02]])"
      ]
     },
     "execution_count": 5,
     "metadata": {},
     "output_type": "execute_result"
    }
   ],
   "source": [
    "label_smoothing(torch.tensor([18,29,30,59,60]))"
   ]
  },
  {
   "cell_type": "markdown",
   "id": "746a4f67-c4d1-4b99-90f2-ecc873149784",
   "metadata": {},
   "source": [
    "# 부분 모델 학습과 모델저장"
   ]
  },
  {
   "cell_type": "code",
   "execution_count": 6,
   "id": "587e4613-547a-415e-8532-5c2e51a96670",
   "metadata": {},
   "outputs": [],
   "source": [
    "#사용할 부분 모델 불러오기\n",
    "net_mask = timm.create_model('efficientnet_b3a', pretrained=True, num_classes=3)\n",
    "net_gender = timm.create_model('efficientnet_b3a', pretrained=True, num_classes=2)\n",
    "net_age = timm.create_model('efficientnet_b3a', pretrained=True, num_classes=3)"
   ]
  },
  {
   "cell_type": "code",
   "execution_count": 7,
   "id": "642357d7-6199-47e1-bcc7-9682e5efe8b7",
   "metadata": {},
   "outputs": [],
   "source": [
    "#학습 설정하기\n",
    "num_epochs=1000\n",
    "batch_size=60\n",
    "learning_rate=0.0001\n",
    "models={'mask':net_mask,'gender':net_gender,'age':net_age}\n",
    "weights={'age': torch.tensor([900/1281*10.8,900/1227*11,900/192]).to(device),'mask':torch.tensor([7/15,7/3,7/3]).to(device),'gender':torch.tensor([2700/(2*1042),2700/(2*1658)]).to(device)}\n"
   ]
  },
  {
   "cell_type": "code",
   "execution_count": null,
   "id": "4a1a0082-d99a-468a-80f5-8a2706ccb91f",
   "metadata": {},
   "outputs": [
    {
     "name": "stderr",
     "output_type": "stream",
     "text": [
      "\u001b[34m\u001b[1mwandb\u001b[0m: Currently logged in as: \u001b[33mtentoto\u001b[0m (use `wandb login --relogin` to force relogin)\n",
      "\u001b[34m\u001b[1mwandb\u001b[0m: wandb version 0.12.1 is available!  To upgrade, please run:\n",
      "\u001b[34m\u001b[1mwandb\u001b[0m:  $ pip install wandb --upgrade\n",
      "\n",
      "CondaEnvException: Unable to determine environment\n",
      "\n",
      "Please re-run this command with one of the following options:\n",
      "\n",
      "* Provide an environment name via --name or -n\n",
      "* Re-run this command inside an activated conda environment.\n",
      "\n"
     ]
    },
    {
     "data": {
      "text/html": [
       "\n",
       "                Tracking run with wandb version 0.12.0<br/>\n",
       "                Syncing run <strong style=\"color:#cdcd00\">fluent-forest-18</strong> to <a href=\"https://wandb.ai\" target=\"_blank\">Weights & Biases</a> <a href=\"https://docs.wandb.com/integrations/jupyter.html\" target=\"_blank\">(Documentation)</a>.<br/>\n",
       "                Project page: <a href=\"https://wandb.ai/tentoto/ageefficientnet_with_label_smoothing_age\" target=\"_blank\">https://wandb.ai/tentoto/ageefficientnet_with_label_smoothing_age</a><br/>\n",
       "                Run page: <a href=\"https://wandb.ai/tentoto/ageefficientnet_with_label_smoothing_age/runs/30j21sex\" target=\"_blank\">https://wandb.ai/tentoto/ageefficientnet_with_label_smoothing_age/runs/30j21sex</a><br/>\n",
       "                Run data is saved locally in <code>./saved/ageefficientnet_with_label_smoothing/Runned2021-08-30 03_15_age/wandb/run-20210829_181556-30j21sex</code><br/><br/>\n",
       "            "
      ],
      "text/plain": [
       "<IPython.core.display.HTML object>"
      ]
     },
     "metadata": {},
     "output_type": "display_data"
    },
    {
     "name": "stdout",
     "output_type": "stream",
     "text": [
      "training: age\n",
      "mod: train\n"
     ]
    },
    {
     "data": {
      "application/vnd.jupyter.widget-view+json": {
       "model_id": "395778e54d084e6a92b3caadecf04345",
       "version_major": 2,
       "version_minor": 0
      },
      "text/plain": [
       "HBox(children=(HTML(value=''), FloatProgress(value=0.0, max=252.0), HTML(value='')))"
      ]
     },
     "metadata": {},
     "output_type": "display_data"
    },
    {
     "name": "stdout",
     "output_type": "stream",
     "text": [
      "\n",
      "현재 epoch-0의 평균 Loss : 0.161, 평균 Accuracy : 0.871, F1 score macro: 0.703, F1 score weight: 0.703\n",
      "mod: valid\n"
     ]
    },
    {
     "data": {
      "application/vnd.jupyter.widget-view+json": {
       "model_id": "f204e3d9a4334730a9d2b9c152c9c446",
       "version_major": 2,
       "version_minor": 0
      },
      "text/plain": [
       "HBox(children=(HTML(value=''), FloatProgress(value=0.0, max=3780.0), HTML(value='')))"
      ]
     },
     "metadata": {},
     "output_type": "display_data"
    },
    {
     "name": "stdout",
     "output_type": "stream",
     "text": [
      "\n",
      "현재 epoch-0의 평균 Loss : 0.145, 평균 Accuracy : 0.893, F1 score macro: 0.724, F1 score weight: 0.724\n",
      "mod: train\n"
     ]
    },
    {
     "data": {
      "application/vnd.jupyter.widget-view+json": {
       "model_id": "7425f3ca27894f0993be33565b575a85",
       "version_major": 2,
       "version_minor": 0
      },
      "text/plain": [
       "HBox(children=(HTML(value=''), FloatProgress(value=0.0, max=252.0), HTML(value='')))"
      ]
     },
     "metadata": {},
     "output_type": "display_data"
    }
   ],
   "source": [
    "#실행 파일 저장 경로\n",
    "\n",
    "        \n",
    "#부분 모델 사전 학습\n",
    "for key in ['age']:\n",
    "    \n",
    "    now='Runned'+date+'_'.join(str(datetime.now().astimezone(KST))[10:16].split(':'))\n",
    "    base_dir=os.path.join('.',f'saved/{project_name}/{now}_{key}')\n",
    "    wandb_dir=base_dir\n",
    "    checkpoint_dir=''\n",
    "    model_dir=''\n",
    "    result_dir=''\n",
    "    dirs={'model':model_dir,'checkpoint':checkpoint_dir,'result':result_dir}\n",
    "    for pth in ['model','checkpoint','result']:\n",
    "        dirs[pth]=os.path.join(base_dir,pth)\n",
    "        if not os.path.isdir(dirs[pth]):\n",
    "            os.makedirs(dirs[pth])\n",
    "    \n",
    "    weight=weights[key]\n",
    "    config={'epochs':num_epochs,'transform':'uptrans','batch_size':batch_size,'learning_rate':learning_rate,'gamma':0.75,'weight':weight,'f1_avg':'weighted','norm1':[11,7,-20],'norm2':[(12,41.7),7,20],'norm3':[43.7,.65]}\n",
    "    data=ImageDataset()\n",
    "    wandb.init(project=project_name+'_'+key,config=config,dir=wandb_dir)\n",
    "    print('training:',key)\n",
    "    model=models[key]\n",
    "    model.to(device)\n",
    "    optim=optm.Adam(model.parameters())\n",
    "    scheduler = optm.lr_scheduler.StepLR(optim, step_size=1, gamma=config['gamma'])\n",
    "    if key!='age':\n",
    "        loss_fn=nn.CrossEntropyLoss(weight=weight)\n",
    "    else:\n",
    "        loss_fn=nn.BCEWithLogitsLoss(pos_weight=weight)\n",
    "    best_f1=0.\n",
    "    best_epoch=0\n",
    "    stopper=0\n",
    "    for e in range(num_epochs):   \n",
    "        for mod in ['train','valid']:\n",
    "            print('mod:',mod)\n",
    "            data.mod=mod\n",
    "\n",
    "            if mod=='train':\n",
    "                dataloader=DataLoader(data,batch_size=batch_size,shuffle=True,pin_memory=True,num_workers=2)\n",
    "                model.train()\n",
    "            else:\n",
    "                dataloader=DataLoader(data,shuffle=False)\n",
    "                model.eval()\n",
    "\n",
    "            with tqdm(dataloader) as pbar:\n",
    "                running_loss=0.\n",
    "                running_acc=0.\n",
    "                prev_f1=0.\n",
    "                tot_pred=torch.tensor([]).to(device)\n",
    "                tot_label=torch.tensor([]).to(device)\n",
    "                cm_pred=torch.tensor([]).to(device)\n",
    "                cm_label=torch.tensor([]).to(device)\n",
    "                \n",
    "                for n,(image,label,age) in enumerate(pbar):\n",
    "                    image=image.to(device)\n",
    "                    label=label.to(device)\n",
    "                    age=age.to(device)\n",
    "                    classes={'mask':label//6,'gender':(label//3)%2,'age':label%3}\n",
    "                    class_ind={'age':(1,6*classes['mask']+3*classes['gender']),'gender':(3,6*classes['mask']+classes['age']),'mask':(6,classes['age']+3*classes['gender'])}\n",
    "                    cls_label=classes[key]\n",
    "                    \n",
    "                    \n",
    "                    logit=model(image)\n",
    "                    _,pred=torch.max(logit,1)\n",
    "                    pred=class_ind[key][0]*pred+class_ind[key][1]\n",
    "                    if data.train:\n",
    "                        if key=='age':\n",
    "                            loss=loss_fn(logit,label_smoothing(age))\n",
    "                        else:\n",
    "                            loss=loss_fn(logit,cls_label)\n",
    "                        running_loss+=loss.item()*image.size(0)\n",
    "                        running_acc+=torch.sum(pred==label)/image.size(0)\n",
    "                        \n",
    "                    if mod=='train':\n",
    "                        optim.zero_grad()\n",
    "                        loss.backward()\n",
    "                        optim.step()\n",
    "                        \n",
    "                    tot_pred=torch.hstack((tot_pred,pred))\n",
    "                    tot_label=torch.hstack((tot_label,label))\n",
    "                    cm_pred=torch.hstack((cm_pred,pred))\n",
    "                    cm_label=torch.hstack((cm_label,label))\n",
    "                    if data.train:\n",
    "                        pbar.set_postfix({'epoch' : e, 'loss' : running_loss/(n+1), 'accuracy' : float(running_acc)/(n+1),'F1 score':f1_score(tot_label.cpu(),tot_pred.cpu(),average='weighted')})\n",
    "                        \n",
    "                            \n",
    "                if data.train:\n",
    "                    epoch_loss=running_loss/len(dataloader.dataset)\n",
    "                    epoch_acc=running_acc*image.size(0)/len(dataloader.dataset)\n",
    "                    epoch_f1_w=f1_score(tot_label.cpu(),tot_pred.cpu(),average='weighted')\n",
    "                    epoch_f1_m=f1_score(tot_label.cpu(),tot_pred.cpu(),average='macro')\n",
    "                    print(f\"현재 epoch-{e}의 평균 Loss : {epoch_loss:.3f}, 평균 Accuracy : {epoch_acc:.3f}, F1 score macro: {epoch_f1_m:.3f}, F1 score weight: {epoch_f1_m:.3f}\")\n",
    "                    if mod=='train':\n",
    "                        scheduler.step()\n",
    "                        wandb.log({'training loss' : epoch_loss, 'training accuracy':epoch_acc,'training f1 score macro':epoch_f1_m,'training f1 score':epoch_f1_w})\n",
    "                    \n",
    "        if mod=='valid':\n",
    "            cm=conf_mat(cm_label.cpu(),cm_pred.cpu())\n",
    "            cm.savefig(f'./saved/{project_name}/{now}_{key}/checkpoint/checkpoint_{key}_2{str(e).zfill(3)}.jpg')\n",
    "            wandb.log({f'{str(e).zfill(3)}_confusion_matrix':wandb.Image(cm),'loss' : epoch_loss, 'accuracy':epoch_acc,'f1 score macro':epoch_f1_m,'f1 score':epoch_f1_w})\n",
    "            plt.close()\n",
    "            if (prev_f1<epoch_f1_w) and not (best_f1<epoch_f1_w):\n",
    "                torch.save({'epoch':e,'loss':loss,'model_state_dict':model.state_dict(),'optimizer_state_dict':optim.state_dict()},f\"{dirs['checkpoint']}/{'2'+str(e).zfill(3)}_checkpoint_{key}_{epoch_f1_w:.5f}_{epoch_acc:.3f}_{epoch_loss:.3f}.pt\")\n",
    "            if best_f1<epoch_f1_w:\n",
    "                stopper=0\n",
    "                best_epoch=e\n",
    "                best_f1=epoch_f1_w\n",
    "                torch.save({'epoch':e,'loss':loss,'model_state_dict':model.state_dict(),'optimizer_state_dict':optim.state_dict()},f\"{dirs['checkpoint']}/{'2'+str(e).zfill(3)}_checkpoint_{key}_best_{epoch_f1_w:.5f}_{epoch_loss:.3f}_{epoch_acc:.3f}.pt\")\n",
    "            elif stopper==5:\n",
    "                break\n",
    "            else:\n",
    "                stopper+=1\n",
    "    print(best_epoch)\n",
    "    wandb.finish()"
   ]
  },
  {
   "cell_type": "code",
   "execution_count": null,
   "id": "d70c6c82-f225-4749-ad7b-a2b213089608",
   "metadata": {},
   "outputs": [],
   "source": []
  },
  {
   "cell_type": "code",
   "execution_count": null,
   "id": "a57f682d-9462-49e0-b45b-bc17daab2014",
   "metadata": {},
   "outputs": [],
   "source": []
  },
  {
   "cell_type": "code",
   "execution_count": null,
   "id": "b792daa9-d803-4cf4-ab2e-9a8ca67f03a0",
   "metadata": {},
   "outputs": [],
   "source": []
  }
 ],
 "metadata": {
  "kernelspec": {
   "display_name": "Python 3 (ipykernel)",
   "language": "python",
   "name": "python3"
  },
  "language_info": {
   "codemirror_mode": {
    "name": "ipython",
    "version": 3
   },
   "file_extension": ".py",
   "mimetype": "text/x-python",
   "name": "python",
   "nbconvert_exporter": "python",
   "pygments_lexer": "ipython3",
   "version": "3.8.5"
  }
 },
 "nbformat": 4,
 "nbformat_minor": 5
}
