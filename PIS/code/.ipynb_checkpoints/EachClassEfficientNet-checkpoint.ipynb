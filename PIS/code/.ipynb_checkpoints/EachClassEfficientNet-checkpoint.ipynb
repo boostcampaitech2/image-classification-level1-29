{
 "cells": [
  {
   "cell_type": "code",
   "execution_count": 2,
   "id": "cubic-scoop",
   "metadata": {},
   "outputs": [],
   "source": [
    "import os\n",
    "import numpy as np\n",
    "import pandas as pd\n",
    "from PIL import Image\n",
    "import random\n",
    "import wandb\n",
    "import copy\n",
    "import time\n",
    "from datetime import datetime\n",
    "from pytz import timezone\n",
    "\n",
    "import timm\n",
    "\n",
    "import torch\n",
    "import torch.nn as nn\n",
    "import torch.optim as optm\n",
    "import torch.nn.functional as F\n",
    "from torch.utils.data import Dataset, DataLoader\n",
    "\n",
    "import torchvision\n",
    "from torchvision import transforms\n",
    "from torchvision.transforms import Resize, ToTensor, Normalize\n",
    "\n",
    "from sklearn.metrics import f1_score\n",
    "from sklearn.model_selection import train_test_split\n",
    "\n",
    "from torchsampler import ImbalancedDatasetSampler\n",
    "\n",
    "import matplotlib.pyplot as plt\n",
    "from matplotlib.pyplot import imshow\n",
    "from matplotlib import gridspec\n",
    "\n",
    "from torchinfo import summary\n",
    "from tqdm.auto import tqdm\n",
    "\n",
    "%matplotlib inline\n",
    "device = 'cuda' if torch.cuda.is_available() else 'cpu'\n",
    "cwd=os.path.dirname(os.getcwd())\n",
    "KST=timezone('Asia/Seoul')"
   ]
  },
  {
   "cell_type": "code",
   "execution_count": 2,
   "id": "5ee68bde-02bc-45c4-afaa-bf90cbf7f4ee",
   "metadata": {},
   "outputs": [],
   "source": [
    "#프로젝트 이름 설정과 저장경로\n",
    "project_name='EachClassEfficientNet'\n",
    "model_dir=os.path.join(os.getcwd(),f'saved/{project_name}/model')\n",
    "checkpoint_dir=os.path.join(os.getcwd(),f'saved/{project_name}/checkpoint')\n",
    "result_dir=os.path.join(os.path.dirname(checkpoint_dir),'result')\n",
    "wandb_dir=os.path.dirname(checkpoint_dir)\n",
    "if not os.path.isdir(checkpoint_dir):\n",
    "    os.makedirs(checkpoint_dir)\n",
    "if not os.path.isdir(result_dir):\n",
    "    os.makedirs(result_dir)\n",
    "if not os.path.isdir(result_dir):\n",
    "    os.makedirs(model_dir)"
   ]
  },
  {
   "cell_type": "code",
   "execution_count": 3,
   "id": "1af0aee3-bfc0-4aa0-b724-9a9f10b62cb8",
   "metadata": {},
   "outputs": [],
   "source": [
    "#Randomness 제어\n",
    "random_seed=2021\n",
    "torch.manual_seed(random_seed)\n",
    "torch.cuda.manual_seed(random_seed)\n",
    "torch.backends.cudnn.deterministic = True\n",
    "torch.backends.cudnn.benchmark = False\n",
    "np.random.seed(random_seed)\n",
    "random.seed(random_seed)\n"
   ]
  },
  {
   "cell_type": "code",
   "execution_count": 4,
   "id": "667bcb95-ce17-4d41-b2cc-107c72c9c785",
   "metadata": {},
   "outputs": [],
   "source": [
    "transform={'trans':transforms.Compose([\n",
    "    transforms.Resize(256),\n",
    "    transforms.CenterCrop(224),\n",
    "    transforms.ToTensor(),\n",
    "    transforms.Normalize(mean=[0.485, 0.456, 0.406], std=[0.229, 0.224, 0.225]),\n",
    "]),\n",
    "'pretrans':transforms.Compose([\n",
    "    transforms.Resize(256),\n",
    "    transforms.CenterCrop(224),\n",
    "    transforms.ToTensor(),\n",
    "]),\n",
    "'posttrans':transforms.Normalize(mean=[0.485, 0.456, 0.406], std=[0.229, 0.224, 0.225])}\n",
    "\n",
    "def make_images(meta,img_dir,train):\n",
    "    dic={}\n",
    "    images=[]\n",
    "    labels=[]\n",
    "    if train:\n",
    "        for idx in range(len(meta)):\n",
    "            folder_path=os.path.join(img_dir, meta.path[idx])\n",
    "            for img in os.listdir(folder_path):\n",
    "                if '._' in img:\n",
    "                    continue\n",
    "                images.append(os.path.join(folder_path,img))\n",
    "                labels.append((('incorrect' in img)+('normal' in img)*2)*6+(meta.gender[idx]=='female')*3+(30<=meta.age[idx])+(60<=meta.age[idx]))\n",
    "    else:\n",
    "        for img_id in meta.ImageID:\n",
    "            images.append(os.path.join(img_dir, img_id))\n",
    "    dic['images']=images\n",
    "    dic['labels']=labels\n",
    "    return pd.DataFrame(dic)\n",
    "\n",
    "class ImageDataset(Dataset):\n",
    "    def __init__(self,transform=transform,mod='train'):\n",
    "        self.train=mod!='test'\n",
    "        self.md=['info','train']\n",
    "        self.path={os.path.join(cwd,'input/data/eval'),os.path.join(cwd,'input/data/train')]\n",
    "        self.meta=pd.read_csv(os.path.join(self.path[self.train], f'{self.md[self.train]}.csv'))\n",
    "        self.img_dir=os.path.join(self.path[self.train],'images')\n",
    "        self.classes=[('Wear','Incorrect','Not Wear'),('남','여'),('<30','>=30 and <60','>=60')]\n",
    "        self.trans=transform['trans']\n",
    "        self.whole_data=make_images(self.meta,self.img_dir,self.mod!='test')\n",
    "        self.train_data,self.val_data=train_test_split(self.data,test_size=0.1,stratify=self.data['labels'])\n",
    "        self.data={'train':self.train_data,'valid':self.val_data,'test':self.whole_data}[self.mod]\n",
    "    \n",
    "    def __len__(self):\n",
    "        return len(self.images)\n",
    "    \n",
    "    def __getitem__(self, idx):\n",
    "            image=Image.open(self.data['images'][idx])\n",
    "            image=self.trans(image)\n",
    "            label=self.data['labels'][idx]\n",
    "        return image,label\n",
    "\n",
    "def make_images_mask_avg(meta,img_dir,train):\n",
    "    images=[]\n",
    "    labels=[]\n",
    "    if train:\n",
    "        for idx in range(len(meta)):\n",
    "            folder_path=os.path.join(img_dir, meta.path[idx])\n",
    "            for keyward in ['mask','incorrect_mask','normal']:\n",
    "                file_list=[os.path.join(folder_path,img) for img in os.listdir(folder_path) if (keyward in img)and (len(img)-len(keyward)<=5)]\n",
    "                images.append(file_list)\n",
    "                labels.append((('incorrect'==keyward)+('normal'==keyward)*2)*6+(meta.gender[idx]=='female')*3+(30<=meta.age[idx])+(60<=meta.age[idx]))\n",
    "    else:\n",
    "        for img_id in meta.ImageID:\n",
    "            images.append(os.path.join(img_dir, img_id))\n",
    "    return images, labels\n",
    "\n",
    "def img_avg(trans,paths):\n",
    "    if len(paths)==1:\n",
    "        return trans['pretrans'](Image.open(paths[0]))\n",
    "    image=torch.zeros_like(trans['pretrans'](Image.open(paths[0])))\n",
    "    for path in paths:\n",
    "        image+=trans['pretrans'](Image.open(path))\n",
    "    return image/len(paths)\n",
    "\n",
    "class ImageAvgDataset(Dataset):\n",
    "    def __init__(self,transform=transform,train=True):\n",
    "        self.train=train\n",
    "        self.md=['info','train']\n",
    "        self.path=[os.path.join(cwd,'input/data/eval'),os.path.join(cwd,'input/data/train')]\n",
    "        self.meta=pd.read_csv(os.path.join(self.path[train], f'{self.md[train]}.csv'))\n",
    "        self.img_dir=os.path.join(self.path[train],'images')\n",
    "        self.classes=[('Wear','Incorrect','Not Wear'),('남','여'),('<30','>=30 and <60','>=60')]\n",
    "        self.trans=transform\n",
    "        \n",
    "        self.images,self.labels=make_images_mask_avg(self.meta,self.img_dir,train)\n",
    "\n",
    "    def __len__(self):\n",
    "        return len(self.images)\n",
    "    \n",
    "    def __getitem__(self, idx):\n",
    "        if self.train:\n",
    "            label=self.labels[idx]\n",
    "            image=img_avg(self.trans,self.images[idx])\n",
    "            image=self.trans['posttrans'](image)\n",
    "        else:\n",
    "            image=Image.open(self.images[idx])\n",
    "            image=self.trans['trans'](image)\n",
    "            label=0\n",
    "        return image,label\n"
   ]
  },
  {
   "cell_type": "markdown",
   "id": "746a4f67-c4d1-4b99-90f2-ecc873149784",
   "metadata": {},
   "source": [
    "# 부분 모델 학습과 모델저장"
   ]
  },
  {
   "cell_type": "code",
   "execution_count": 5,
   "id": "587e4613-547a-415e-8532-5c2e51a96670",
   "metadata": {},
   "outputs": [],
   "source": [
    "#사용할 부분 모델 불러오기\n",
    "net_mask = timm.create_model('efficientnet_b3a', pretrained=True, num_classes=3)\n",
    "net_gender = timm.create_model('efficientnet_b3a', pretrained=True, num_classes=2)\n",
    "net_age = timm.create_model('efficientnet_b3a', pretrained=True, num_classes=3)"
   ]
  },
  {
   "cell_type": "code",
   "execution_count": 14,
   "id": "642357d7-6199-47e1-bcc7-9682e5efe8b7",
   "metadata": {},
   "outputs": [],
   "source": [
    "#학습 설정하기\n",
    "num_epochs=2\n",
    "batch_size=50\n",
    "learning_rate=0.001\n",
    "loss_fn=nn.CrossEntropyLoss()\n",
    "models={'mask':net_mask,'gender':net_gender,'age':net_age}\n",
    "weight=torch.tensor([1,1.05,3]).to(device)"
   ]
  },
  {
   "cell_type": "code",
   "execution_count": 21,
   "id": "4a1a0082-d99a-468a-80f5-8a2706ccb91f",
   "metadata": {},
   "outputs": [
    {
     "name": "stdout",
     "output_type": "stream",
     "text": [
      "training: age\n"
     ]
    },
    {
     "data": {
      "application/vnd.jupyter.widget-view+json": {
       "model_id": "dc69fc0762494818b143ca8633ee0a3a",
       "version_major": 2,
       "version_minor": 0
      },
      "text/plain": [
       "HBox(children=(HTML(value=''), FloatProgress(value=0.0, max=378.0), HTML(value='')))"
      ]
     },
     "metadata": {},
     "output_type": "display_data"
    },
    {
     "name": "stdout",
     "output_type": "stream",
     "text": [
      "\n",
      "현재 epoch-0의 평균 Loss : 0.313, 평균 Accuracy : 0.922, F1 score : 0.8671158766829471\n"
     ]
    },
    {
     "data": {
      "application/vnd.jupyter.widget-view+json": {
       "model_id": "05ecd3a7d0654474b58842112140ba91",
       "version_major": 2,
       "version_minor": 0
      },
      "text/plain": [
       "HBox(children=(HTML(value=''), FloatProgress(value=0.0, max=378.0), HTML(value='')))"
      ]
     },
     "metadata": {},
     "output_type": "display_data"
    },
    {
     "name": "stdout",
     "output_type": "stream",
     "text": [
      "\n",
      "현재 epoch-1의 평균 Loss : 0.072, 평균 Accuracy : 0.979, F1 score : 0.9629328103101314\n"
     ]
    }
   ],
   "source": [
    "#부분 모델 사전 학습\n",
    "for key in ['mask','gender','age']:\n",
    "    print('training:',key)\n",
    "    model=models[key]\n",
    "    model.to(device)\n",
    "    optim=optm.Adam(model.parameters())\n",
    "    scheduler = optm.lr_scheduler.StepLR(optim, step_size=1, gamma=0.5)\n",
    "    loss_fn=nn.CrossEntropyLoss(weight=weight)\n",
    "    for e in range(num_epochs):   \n",
    "        for mod in ['train','valid']:\n",
    "            data=ImageDataset(mod=mod)\n",
    "\n",
    "            if mod=='train':\n",
    "                dataloader=DataLoader(data,batch_size=batch_size,shuffle=True)\n",
    "                model.train()\n",
    "            else:\n",
    "                submission = pd.read_csv(os.path.join(data.path[0], 'info.csv'))\n",
    "                dataloader=DataLoader(data,shuffle=False)\n",
    "                model.eval()\n",
    "\n",
    "            with tqdm(dataloader) as pbar:\n",
    "                running_loss=0.\n",
    "                running_acc=0.\n",
    "                tot_pred=torch.tensor([]).to(device)\n",
    "                tot_label=torch.tensor([]).to(device)\n",
    "                for n,(image,label) in enumerate(pbar):\n",
    "                    image=image.to(device)\n",
    "                    classes={'mask':label//6,'gender':(label//3)%2,'age':label%3}\n",
    "                    label=classes[key].to(device)\n",
    "\n",
    "                    logit=model(image)\n",
    "                    _,pred=torch.max(logit,1)\n",
    "\n",
    "                    if data.train:\n",
    "                        optim.zero_grad()\n",
    "                        loss=loss_fn(logit,label)\n",
    "                        loss.backward()\n",
    "                        optim.step()\n",
    "                        running_loss+=loss.item()*image.size(0)\n",
    "                        running_acc+=torch.sum(pred==label)\n",
    "                        pbar.set_postfix({'epoch' : e, 'loss' : running_loss/(n+1), 'accuracy' : float(running_acc)/(n+1),'F1 score':f1_score(label.cpu(),pred.cpu(),average='macro')})\n",
    "\n",
    "                    tot_pred=torch.hstack((tot_pred,pred))\n",
    "                    tot_label=torch.hstack((tot_label,label))\n",
    "\n",
    "                if data.train:\n",
    "                    epoch_loss=running_loss/len(dataloader.dataset)\n",
    "                    epoch_acc=running_acc/len(dataloader.dataset)\n",
    "                    print(f\"현재 epoch-{e}의 평균 Loss : {epoch_loss:.3f}, 평균 Accuracy : {epoch_acc:.3f}, F1 score : {f1_score(tot_label.cpu(),tot_pred.cpu(),average='macro')}\" )\n",
    "                else:\n",
    "                    submission['ans'] = tot_pred.cpu().numpy().astype('int64')\n",
    "                    submission.to_csv(os.path.join(result_dir, f'submission_{project_name}_{e}.csv'), index=False)\n",
    "        if data.train:\n",
    "            torch.save({'epoch':e,'loss':loss,'model_state_dict':model.state_dict(),'optimizer_state_dict':optim.state_dict()},f\"{checkpoint_dir}/checkpoint_{key}_{str(datetime.now().astimezone(KST))[:16]}_{e}_{epoch_loss:.3f}_{epoch_acc:.3f}_{f1_score(tot_label.cpu(),tot_pred.cpu(),average='macro')}.pt\")"
   ]
  },
  {
   "cell_type": "markdown",
   "id": "1bfd9967-6a87-47e7-bf9c-8a365a3b3958",
   "metadata": {},
   "source": [
    "# 합친 모델 학습과 결과저장"
   ]
  },
  {
   "cell_type": "code",
   "execution_count": 8,
   "id": "60931df2-c7e9-49d9-9ecd-1e789fc2fcf2",
   "metadata": {},
   "outputs": [
    {
     "name": "stdout",
     "output_type": "stream",
     "text": [
      "/opt/ml/image-classification-level1-29/PIS/code/saved/EachClassEfficientNet/checkpoint/checkpoint_age_1_0.049_0.983_0.9689416170654122.pt\n"
     ]
    },
    {
     "data": {
      "text/plain": [
       "<All keys matched successfully>"
      ]
     },
     "execution_count": 8,
     "metadata": {},
     "output_type": "execute_result"
    }
   ],
   "source": [
    "net_mask = timm.create_model('efficientnet_b3a', pretrained=True, num_classes=3)\n",
    "net_gender = timm.create_model('efficientnet_b3a', pretrained=True, num_classes=2)\n",
    "net_age = timm.create_model('efficientnet_b3a', pretrained=True, num_classes=3)\n",
    "\n",
    "net_mask.to(device)\n",
    "net_gender.to(device)\n",
    "net_age.to(device)\n",
    "\n",
    "model_id=sorted([i for i in os.listdir(checkpoint_dir) if 'mask' in i])[-1]\n",
    "checkpoint=torch.load(os.path.join(checkpoint_dir,model_id))\n",
    "net_mask.load_state_dict(checkpoint['model_state_dict'])\n",
    "model_id=sorted([i for i in os.listdir(checkpoint_dir) if 'gender' in i])[-1]\n",
    "checkpoint=torch.load(os.path.join(checkpoint_dir,model_id))\n",
    "net_gender.load_state_dict(checkpoint['model_state_dict'])\n",
    "model_id=sorted([i for i in os.listdir(checkpoint_dir) if ('age' in i) and ('tensor' not in i)])[-1]\n",
    "print(os.path.join(checkpoint_dir,model_id))\n",
    "checkpoint=torch.load(os.path.join(checkpoint_dir,model_id))\n",
    "net_age.load_state_dict(checkpoint['model_state_dict'])"
   ]
  },
  {
   "cell_type": "code",
   "execution_count": 10,
   "id": "27242977-5523-49b9-9e36-fd58a470f42c",
   "metadata": {},
   "outputs": [],
   "source": [
    "#모델 구축\n",
    "class MyModel(nn.Module):\n",
    "    def __init__(self):\n",
    "        super().__init__()\n",
    "        self.mask=net_mask\n",
    "        self.gender=net_gender\n",
    "        self.age=net_age\n",
    "        \n",
    "    def forward(self,x):\n",
    "        mask=self.mask(x).view(x.size(0),3,1,1)\n",
    "        gender=self.gender(x).view(x.size(0),1,2,1)\n",
    "        age=self.age(x).view(x.size(0),1,1,3)\n",
    "        return (mask*gender*age).view(x.size(0),-1)"
   ]
  },
  {
   "cell_type": "code",
   "execution_count": 12,
   "id": "79ec9cda-06c3-4bd8-a7bf-084f22783aa1",
   "metadata": {},
   "outputs": [],
   "source": [
    "#학습 설정하기\n",
    "num_epochs=3\n",
    "batch_size=50\n",
    "learning_rate=0.00025\n",
    "config={'epochs':num_epochs,'batch_size':batch_size,'learning_rate':learning_rate}"
   ]
  },
  {
   "cell_type": "code",
   "execution_count": 13,
   "id": "01b1ea23-2dca-4bd9-8638-4e2b88151c61",
   "metadata": {},
   "outputs": [],
   "source": [
    "#모델 설정하기\n",
    "model=MyModel()\n",
    "model.to(device)\n",
    "optim=optm.Adam(model.parameters(),lr=learning_rate)\n",
    "scheduler = optm.lr_scheduler.StepLR(optim, step_size=1, gamma=0.5)\n",
    "loss_fn=nn.CrossEntropyLoss()"
   ]
  },
  {
   "cell_type": "code",
   "execution_count": 15,
   "id": "6e41d536-d33d-481a-961b-5d61ad833cb6",
   "metadata": {},
   "outputs": [
    {
     "data": {
      "text/html": [
       "Finishing last run (ID:3ta10blh) before initializing another..."
      ],
      "text/plain": [
       "<IPython.core.display.HTML object>"
      ]
     },
     "metadata": {},
     "output_type": "display_data"
    },
    {
     "data": {
      "text/html": [
       "<br/>Waiting for W&B process to finish, PID 2695<br/>Program ended successfully."
      ],
      "text/plain": [
       "<IPython.core.display.HTML object>"
      ]
     },
     "metadata": {},
     "output_type": "display_data"
    },
    {
     "data": {
      "application/vnd.jupyter.widget-view+json": {
       "model_id": "",
       "version_major": 2,
       "version_minor": 0
      },
      "text/plain": [
       "VBox(children=(Label(value=' 0.00MB of 0.00MB uploaded (0.00MB deduped)\\r'), FloatProgress(value=1.0, max=1.0)…"
      ]
     },
     "metadata": {},
     "output_type": "display_data"
    },
    {
     "data": {
      "text/html": [
       "Find user logs for this run at: <code>/opt/ml/image-classification-level1-29/PIS/code/saved/EachClassEfficientNet/wandb/run-20210825_100751-3ta10blh/logs/debug.log</code>"
      ],
      "text/plain": [
       "<IPython.core.display.HTML object>"
      ]
     },
     "metadata": {},
     "output_type": "display_data"
    },
    {
     "data": {
      "text/html": [
       "Find internal logs for this run at: <code>/opt/ml/image-classification-level1-29/PIS/code/saved/EachClassEfficientNet/wandb/run-20210825_100751-3ta10blh/logs/debug-internal.log</code>"
      ],
      "text/plain": [
       "<IPython.core.display.HTML object>"
      ]
     },
     "metadata": {},
     "output_type": "display_data"
    },
    {
     "data": {
      "text/html": [
       "Synced 4 W&B file(s), 0 media file(s), 0 artifact file(s) and 0 other file(s)"
      ],
      "text/plain": [
       "<IPython.core.display.HTML object>"
      ]
     },
     "metadata": {},
     "output_type": "display_data"
    },
    {
     "data": {
      "text/html": [
       "\n",
       "                    <br/>Synced <strong style=\"color:#cdcd00\">vibrant-galaxy-3</strong>: <a href=\"https://wandb.ai/tentoto/EachClassEfficientNet/runs/3ta10blh\" target=\"_blank\">https://wandb.ai/tentoto/EachClassEfficientNet/runs/3ta10blh</a><br/>\n",
       "                "
      ],
      "text/plain": [
       "<IPython.core.display.HTML object>"
      ]
     },
     "metadata": {},
     "output_type": "display_data"
    },
    {
     "data": {
      "text/html": [
       "...Successfully finished last run (ID:3ta10blh). Initializing new run:<br/><br/>"
      ],
      "text/plain": [
       "<IPython.core.display.HTML object>"
      ]
     },
     "metadata": {},
     "output_type": "display_data"
    },
    {
     "name": "stderr",
     "output_type": "stream",
     "text": [
      "\n",
      "CondaEnvException: Unable to determine environment\n",
      "\n",
      "Please re-run this command with one of the following options:\n",
      "\n",
      "* Provide an environment name via --name or -n\n",
      "* Re-run this command inside an activated conda environment.\n",
      "\n"
     ]
    },
    {
     "data": {
      "text/html": [
       "\n",
       "                Tracking run with wandb version 0.12.0<br/>\n",
       "                Syncing run <strong style=\"color:#cdcd00\">trim-spaceship-4</strong> to <a href=\"https://wandb.ai\" target=\"_blank\">Weights & Biases</a> <a href=\"https://docs.wandb.com/integrations/jupyter.html\" target=\"_blank\">(Documentation)</a>.<br/>\n",
       "                Project page: <a href=\"https://wandb.ai/tentoto/EachClassEfficientNet\" target=\"_blank\">https://wandb.ai/tentoto/EachClassEfficientNet</a><br/>\n",
       "                Run page: <a href=\"https://wandb.ai/tentoto/EachClassEfficientNet/runs/1jq9ptxe\" target=\"_blank\">https://wandb.ai/tentoto/EachClassEfficientNet/runs/1jq9ptxe</a><br/>\n",
       "                Run data is saved locally in <code>/opt/ml/image-classification-level1-29/PIS/code/saved/EachClassEfficientNet/wandb/run-20210825_100820-1jq9ptxe</code><br/><br/>\n",
       "            "
      ],
      "text/plain": [
       "<IPython.core.display.HTML object>"
      ]
     },
     "metadata": {},
     "output_type": "display_data"
    },
    {
     "data": {
      "application/vnd.jupyter.widget-view+json": {
       "model_id": "4aa2b21b3b2a44cd9dbb28cd97c235ee",
       "version_major": 2,
       "version_minor": 0
      },
      "text/plain": [
       "HBox(children=(HTML(value=''), FloatProgress(value=0.0, max=378.0), HTML(value='')))"
      ]
     },
     "metadata": {},
     "output_type": "display_data"
    },
    {
     "name": "stdout",
     "output_type": "stream",
     "text": [
      "\n",
      "현재 epoch-0의 평균 Loss : 1.146, 평균 Accuracy : 0.989, F1 score : 0.9776759816693134\n"
     ]
    },
    {
     "data": {
      "application/vnd.jupyter.widget-view+json": {
       "model_id": "666b68f2f92748868c14271ebda6a4a8",
       "version_major": 2,
       "version_minor": 0
      },
      "text/plain": [
       "HBox(children=(HTML(value=''), FloatProgress(value=0.0, max=12600.0), HTML(value='')))"
      ]
     },
     "metadata": {},
     "output_type": "display_data"
    },
    {
     "name": "stdout",
     "output_type": "stream",
     "text": [
      "\n"
     ]
    },
    {
     "data": {
      "application/vnd.jupyter.widget-view+json": {
       "model_id": "a7714f58dfb74062823dd438ae9962db",
       "version_major": 2,
       "version_minor": 0
      },
      "text/plain": [
       "HBox(children=(HTML(value=''), FloatProgress(value=0.0, max=378.0), HTML(value='')))"
      ]
     },
     "metadata": {},
     "output_type": "display_data"
    },
    {
     "name": "stdout",
     "output_type": "stream",
     "text": [
      "\n",
      "현재 epoch-1의 평균 Loss : 0.121, 평균 Accuracy : 0.996, F1 score : 0.9943960708565083\n"
     ]
    },
    {
     "data": {
      "application/vnd.jupyter.widget-view+json": {
       "model_id": "00c698a0d2954099aa6a43b9a1e17659",
       "version_major": 2,
       "version_minor": 0
      },
      "text/plain": [
       "HBox(children=(HTML(value=''), FloatProgress(value=0.0, max=12600.0), HTML(value='')))"
      ]
     },
     "metadata": {},
     "output_type": "display_data"
    },
    {
     "name": "stdout",
     "output_type": "stream",
     "text": [
      "\n"
     ]
    },
    {
     "data": {
      "application/vnd.jupyter.widget-view+json": {
       "model_id": "f77a842d65f5464f97aae0b465302974",
       "version_major": 2,
       "version_minor": 0
      },
      "text/plain": [
       "HBox(children=(HTML(value=''), FloatProgress(value=0.0, max=378.0), HTML(value='')))"
      ]
     },
     "metadata": {},
     "output_type": "display_data"
    },
    {
     "name": "stdout",
     "output_type": "stream",
     "text": [
      "\n",
      "현재 epoch-2의 평균 Loss : 0.053, 평균 Accuracy : 0.998, F1 score : 0.9951034832016019\n"
     ]
    },
    {
     "data": {
      "application/vnd.jupyter.widget-view+json": {
       "model_id": "89d88f6a446c4d2f9066fa67fb417c7b",
       "version_major": 2,
       "version_minor": 0
      },
      "text/plain": [
       "HBox(children=(HTML(value=''), FloatProgress(value=0.0, max=12600.0), HTML(value='')))"
      ]
     },
     "metadata": {},
     "output_type": "display_data"
    },
    {
     "name": "stdout",
     "output_type": "stream",
     "text": [
      "\n"
     ]
    },
    {
     "ename": "AttributeError",
     "evalue": "module 'wandb' has no attribute 'close'",
     "output_type": "error",
     "traceback": [
      "\u001b[0;31m---------------------------------------------------------------------------\u001b[0m",
      "\u001b[0;31mAttributeError\u001b[0m                            Traceback (most recent call last)",
      "\u001b[0;32m<ipython-input-15-c114f1010633>\u001b[0m in \u001b[0;36m<module>\u001b[0;34m\u001b[0m\n\u001b[1;32m     45\u001b[0m                 \u001b[0msubmission\u001b[0m\u001b[0;34m[\u001b[0m\u001b[0;34m'ans'\u001b[0m\u001b[0;34m]\u001b[0m \u001b[0;34m=\u001b[0m \u001b[0mtot_pred\u001b[0m\u001b[0;34m.\u001b[0m\u001b[0mcpu\u001b[0m\u001b[0;34m(\u001b[0m\u001b[0;34m)\u001b[0m\u001b[0;34m.\u001b[0m\u001b[0mnumpy\u001b[0m\u001b[0;34m(\u001b[0m\u001b[0;34m)\u001b[0m\u001b[0;34m.\u001b[0m\u001b[0mastype\u001b[0m\u001b[0;34m(\u001b[0m\u001b[0;34m'int64'\u001b[0m\u001b[0;34m)\u001b[0m\u001b[0;34m\u001b[0m\u001b[0;34m\u001b[0m\u001b[0m\n\u001b[1;32m     46\u001b[0m                 \u001b[0msubmission\u001b[0m\u001b[0;34m.\u001b[0m\u001b[0mto_csv\u001b[0m\u001b[0;34m(\u001b[0m\u001b[0mos\u001b[0m\u001b[0;34m.\u001b[0m\u001b[0mpath\u001b[0m\u001b[0;34m.\u001b[0m\u001b[0mjoin\u001b[0m\u001b[0;34m(\u001b[0m\u001b[0mresult_dir\u001b[0m\u001b[0;34m,\u001b[0m \u001b[0;34mf'submission_{project_name}_{e}.csv'\u001b[0m\u001b[0;34m)\u001b[0m\u001b[0;34m,\u001b[0m \u001b[0mindex\u001b[0m\u001b[0;34m=\u001b[0m\u001b[0;32mFalse\u001b[0m\u001b[0;34m)\u001b[0m\u001b[0;34m\u001b[0m\u001b[0;34m\u001b[0m\u001b[0m\n\u001b[0;32m---> 47\u001b[0;31m \u001b[0mwandb\u001b[0m\u001b[0;34m.\u001b[0m\u001b[0mclose\u001b[0m\u001b[0;34m(\u001b[0m\u001b[0;34m)\u001b[0m\u001b[0;34m\u001b[0m\u001b[0;34m\u001b[0m\u001b[0m\n\u001b[0m",
      "\u001b[0;31mAttributeError\u001b[0m: module 'wandb' has no attribute 'close'"
     ]
    }
   ],
   "source": [
    "wandb.init(project=project_name,config=config,dir=wandb_dir)\n",
    "for e in range(num_epochs):   \n",
    "    for mod in ['train','valid','test']:\n",
    "        data=ImageDataset(train=train)\n",
    "\n",
    "        if mod=='train':\n",
    "            dataloader=DataLoader(data,batch_size=batch_size,shuffle=True)\n",
    "            model.train()\n",
    "        else:\n",
    "            submission = pd.read_csv(os.path.join(data.path[0], 'info.csv'))\n",
    "            dataloader=DataLoader(data,shuffle=False)\n",
    "            model.eval()\n",
    "\n",
    "        with tqdm(dataloader) as pbar:\n",
    "            running_loss=0.\n",
    "            running_acc=0.\n",
    "            tot_pred=torch.tensor([]).to(device)\n",
    "            tot_label=torch.tensor([]).to(device)\n",
    "            for n,(image,label) in enumerate(pbar):\n",
    "                image=image.to(device)\n",
    "                label=label.to(device)\n",
    "\n",
    "                logit=model(image)\n",
    "                _,pred=torch.max(logit,1)\n",
    "\n",
    "                if data.train:\n",
    "                    optim.zero_grad()\n",
    "                    loss=loss_fn(logit,label)\n",
    "                    loss.backward()\n",
    "                    optim.step()\n",
    "                    running_loss+=loss.item()*image.size(0)\n",
    "                    running_acc+=torch.sum(pred==label)\n",
    "                    pbar.set_postfix({'epoch' : e, 'loss' : running_loss/(n+1), 'accuracy' : float(running_acc)/(n+1),'F1 score':f1_score(label.cpu(),pred.cpu(),average='macro')})\n",
    "\n",
    "                tot_pred=torch.hstack((tot_pred,pred))\n",
    "                tot_label=torch.hstack((tot_label,label))\n",
    "                \n",
    "            if data.train:\n",
    "                epoch_loss=running_loss/len(dataloader.dataset)\n",
    "                epoch_acc=running_acc/len(dataloader.dataset)\n",
    "                print(f\"현재 epoch-{e}의 평균 Loss : {epoch_loss:.3f}, 평균 Accuracy : {epoch_acc:.3f}, F1 score : {f1_score(tot_label.cpu(),tot_pred.cpu(),average='macro'):.3f}\" )\n",
    "                wandb.log({'loss' : epoch_loss, 'accuracy' : epoch_acc,'f1 score':f1_score(tot_label.cpu(),tot_pred.cpu(),average='macro')})\n",
    "            else:\n",
    "                submission['ans'] = tot_pred.cpu().numpy().astype('int64')\n",
    "                submission.to_csv(os.path.join(result_dir, f'submission_{project_name}_{e}.csv'), index=False)\n",
    "    if mod=='valid':\n",
    "        torch.save({'epoch':e,'loss':loss,'model_state_dict':model.state_dict(),'optimizer_state_dict':optim.state_dict()},f\"{model_dir}/model_composed_{str(datetime.now().astimezone(KST))[:16]}_{e}_{epoch_loss:.3f}_{epoch_acc:.3f}_{f1_score(tot_label.cpu(),tot_pred.cpu(),average='macro'):.3f}.pt\")\n",
    "wandb.finish()"
   ]
  },
  {
   "cell_type": "code",
   "execution_count": null,
   "id": "12467a08-5c52-4723-ae90-80ffcca3344c",
   "metadata": {},
   "outputs": [],
   "source": []
  }
 ],
 "metadata": {
  "kernelspec": {
   "display_name": "Python 3 (ipykernel)",
   "language": "python",
   "name": "python3"
  },
  "language_info": {
   "codemirror_mode": {
    "name": "ipython",
    "version": 3
   },
   "file_extension": ".py",
   "mimetype": "text/x-python",
   "name": "python",
   "nbconvert_exporter": "python",
   "pygments_lexer": "ipython3",
   "version": "3.8.5"
  }
 },
 "nbformat": 4,
 "nbformat_minor": 5
}
