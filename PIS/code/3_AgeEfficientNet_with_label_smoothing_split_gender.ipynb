{
 "cells": [
  {
   "cell_type": "code",
   "execution_count": 1,
   "id": "cubic-scoop",
   "metadata": {},
   "outputs": [],
   "source": [
    "import os\n",
    "import numpy as np\n",
    "import pandas as pd\n",
    "from PIL import Image\n",
    "import random\n",
    "import wandb\n",
    "import copy\n",
    "import time\n",
    "from datetime import datetime\n",
    "from pytz import timezone\n",
    "import seaborn as sns\n",
    "\n",
    "import cv2\n",
    "\n",
    "from torchvision.transforms import ToTensor,Compose,ColorJitter,RandomRotation,RandomHorizontalFlip,Resize,CenterCrop,Normalize,GaussianBlur,RandomCrop\n",
    "\n",
    "import timm\n",
    "\n",
    "import torch\n",
    "import torch.nn as nn\n",
    "import torch.optim as optm\n",
    "import torch.nn.functional as F\n",
    "import torch.distributions as dist\n",
    "from torch.utils.data import Dataset, DataLoader\n",
    "\n",
    "import torchvision\n",
    "\n",
    "from sklearn.metrics import f1_score\n",
    "from sklearn.model_selection import train_test_split\n",
    "from sklearn.metrics import confusion_matrix\n",
    "\n",
    "import matplotlib.pyplot as plt\n",
    "from matplotlib.pyplot import imshow\n",
    "from matplotlib import gridspec\n",
    "\n",
    "from torchinfo import summary\n",
    "from tqdm.auto import tqdm\n",
    "\n",
    "%matplotlib inline\n",
    "device = 'cuda' if torch.cuda.is_available() else 'cpu'\n",
    "cwd=os.path.dirname(os.getcwd())\n",
    "KST=timezone('Asia/Seoul')\n",
    "date=str(datetime.now().astimezone(KST))[:10]"
   ]
  },
  {
   "cell_type": "code",
   "execution_count": 2,
   "id": "5ee68bde-02bc-45c4-afaa-bf90cbf7f4ee",
   "metadata": {},
   "outputs": [],
   "source": [
    "#프로젝트 이름 설정과 저장경로\n",
    "project_name='ageefficientnet_with_label_smoothing_split_gender'"
   ]
  },
  {
   "cell_type": "code",
   "execution_count": 3,
   "id": "1af0aee3-bfc0-4aa0-b724-9a9f10b62cb8",
   "metadata": {},
   "outputs": [],
   "source": [
    "#Randomness 제어\n",
    "random_seed=2021\n",
    "torch.manual_seed(random_seed)\n",
    "torch.cuda.manual_seed(random_seed)\n",
    "torch.backends.cudnn.deterministic = True\n",
    "torch.backends.cudnn.benchmark = False\n",
    "np.random.seed(random_seed)\n",
    "random.seed(random_seed)"
   ]
  },
  {
   "cell_type": "code",
   "execution_count": 4,
   "id": "667bcb95-ce17-4d41-b2cc-107c72c9c785",
   "metadata": {},
   "outputs": [],
   "source": [
    "transform={'trans':Compose([\n",
    "    Resize((256*512//384,256)),\n",
    "    CenterCrop(224),\n",
    "    ToTensor(),\n",
    "    Normalize(mean=(0.485, 0.456, 0.406), std=(0.229, 0.224, 0.225)),\n",
    "]),'regtrans':Compose([\n",
    "    Resize((256*512//384,256)),\n",
    "    GaussianBlur(3),\n",
    "    ColorJitter(brightness=0.2, contrast=0.2, saturation=0.2, hue=0.2),\n",
    "    RandomCrop(224),\n",
    "    ToTensor(),\n",
    "    Normalize(mean=(0.485, 0.456, 0.406), std=(0.229, 0.224, 0.225)),\n",
    "]),'uptrans':Compose([\n",
    "    Resize((256*512//384,256)),\n",
    "    RandomHorizontalFlip(),\n",
    "    RandomRotation(20),\n",
    "    CenterCrop(224),\n",
    "    ToTensor(),\n",
    "    Normalize(mean=(0.485, 0.456, 0.406), std=(0.229, 0.224, 0.225)),\n",
    "])}\n",
    "\n",
    "def make_images(meta,img_dir,train):\n",
    "    images=[]\n",
    "    labels=[]\n",
    "    ages=[]\n",
    "    data=pd.DataFrame({'images':[],'labels':[]})\n",
    "    if train:\n",
    "        for idx in range(len(meta)):\n",
    "            folder_path=os.path.join(img_dir, meta.path.iloc[idx])\n",
    "            for img in os.listdir(folder_path):\n",
    "                if '._' in img:\n",
    "                    continue\n",
    "                images.append(os.path.join(folder_path,img))\n",
    "                labels.append((('incorrect' in img)+('normal' in img)*2)*6+(meta.gender.iloc[idx]=='female')*3+(30<=meta.age.iloc[idx])+(60<=meta.age.iloc[idx]))\n",
    "                ages.append(meta.age.iloc[idx])\n",
    "    else:\n",
    "        for img_id in meta.ImageID:\n",
    "            images.append(os.path.join(img_dir, img_id))\n",
    "        labels=[0 for _ in range(len(images))]\n",
    "    data['images']=images\n",
    "    data['labels']=labels\n",
    "    data['ages']=ages\n",
    "    return data\n",
    "\n",
    "class ImageDataset(Dataset):\n",
    "    def __init__(self,transform=transform,mod='train'):\n",
    "        self.mod=mod\n",
    "        self.train=mod!='test'\n",
    "        self.md=['info','train']\n",
    "        self.path=[os.path.join(cwd,'input/data/eval'),os.path.join(cwd,'input/data/train')]\n",
    "        self.meta=pd.read_csv(os.path.join(self.path[self.train], f'{self.md[self.train]}.csv'))\n",
    "        self.img_dir=os.path.join(self.path[self.train],'images')\n",
    "        self.classes=[('Wear','Incorrect','Not Wear'),('남','여'),('<30','>=30 and <60','>=60')]\n",
    "        self.trans=transform\n",
    "        self.criteria=1*(self.meta['age']>=30)+1*(self.meta['age']>=60)+3*(self.meta['gender']=='female')\n",
    "        if self.train:\n",
    "            self.train_data,self.val_data=train_test_split(self.meta,test_size=0.2,stratify=self.criteria)\n",
    "            self.train_data=make_images(self.train_data,self.img_dir,self.train)\n",
    "            self.val_data=make_images(self.val_data,self.img_dir,self.train)\n",
    "        self.data=make_images(self.meta,self.img_dir,self.train)\n",
    "    \n",
    "    def __len__(self):\n",
    "        return len(self.data)\n",
    "        return len(self.train_data) if self.mod=='train' else len(self.val_data)\n",
    "        \n",
    "    \n",
    "    def __getitem__(self, idx):\n",
    "        if self.mod=='valid':\n",
    "            images=self.val_data['images']\n",
    "            labels=self.val_data['labels']\n",
    "            ages=self.val_data['ages']\n",
    "            age=ages.iloc[idx]\n",
    "        elif self.mod=='train':\n",
    "            images=self.train_data['images']\n",
    "            labels=self.train_data['labels']\n",
    "            ages=self.train_data['ages']\n",
    "            age=ages.iloc[idx]\n",
    "        else:\n",
    "            images=self.data['images']\n",
    "            labels=self.data['labels']\n",
    "            ages=self.data['ages']\n",
    "        age=ages.iloc[idx]\n",
    "        label=labels.iloc[idx]\n",
    "        image=Image.open(images.iloc[idx])\n",
    "        \n",
    "        if self.mod=='train':\n",
    "            if True:\n",
    "                image=self.trans['uptrans'](image)\n",
    "                return image,label,age\n",
    "            else:\n",
    "                image=self.trans['regtrans'](image)\n",
    "                return image,label,age\n",
    "        else:\n",
    "            image=self.trans['trans'](image)\n",
    "            return image,label,age\n",
    "        return image,label\n",
    "\n",
    "def conf_mat(y_true,y_pred):\n",
    "    cm=confusion_matrix(y_true,y_pred)\n",
    "    norm_cm=cm/np.sum(cm, axis=1)[:,None]\n",
    "    mindices=['wear,m,<30','wear,m,<>','wear,m,60','inc,m,<30','inc,m,<>','inc,m,60','nom,m,<30','nom,m,<>','nom,m,60']\n",
    "    findices=['wear,f,<30','wear,f,<>','wear,f,60','inc,f,<30','inc,f,<>','inc,f,60','nom,f,<30','nom,f,<>','nom,f,60']\n",
    "    indices=['wear,m,<30','wear,m,mask<>','wear,m,mask60','wear,f,<30','wear,f,<>','wear,f,60','inc,m,<30','inc,m,<>','inc,m,60','inc,f,<30','inc,f,<>','inc,f,60','nom,m,<30','nom,m,<>','nom,m,60','nom,f,<30','nom,f,<>','nom,f,60']\n",
    "    cm=pd.DataFrame(norm_cm,index=indices,columns=indices)\n",
    "    fig=plt.figure(figsize=(11,9))\n",
    "    sns.heatmap(cm,annot=True)\n",
    "    return fig\n",
    "\n",
    "\n",
    "class SkewNormal(dist.normal.Normal):\n",
    "    def __init__(self,mean=0,std=1,skew=0):\n",
    "        super().__init__(loc=mean,scale=std)\n",
    "        self.skew=skew\n",
    "    def skewcdf(self,x):\n",
    "        return 0.5 * (1 + torch.erf(self.skew*(x - self.loc) * self.scale.reciprocal() / np.sqrt(2)))\n",
    "\n",
    "    def log_p(self,x):\n",
    "        return self.log_prob(x)+torch.log(self.skewcdf(x))-torch.log(torch.tensor(2.))\n",
    "\n",
    "def label_smoothing(label):\n",
    "    label-=18\n",
    "    label_0=SkewNormal(11.,7,-20).log_p\n",
    "    label_11=SkewNormal(12.,7,20).log_p\n",
    "    label_12=SkewNormal(41,7,-20).log_p\n",
    "    label_2=dist.Normal(43.7,.65).log_prob\n",
    "    return torch.exp(torch.vstack((label_0(label),torch.log(torch.exp(label_11(label))+torch.exp(label_12(label))),label_2(label))).T)\n",
    "\n",
    "def label_smoothingNorm(label):\n",
    "    label_0=dist.Normal(18.,5.5,-20).log_prob\n",
    "    label_1=dist.Normal(45.,7.,20).log_prob\n",
    "    label_2=dist.Normal(63,1.5).log_prob\n",
    "    return torch.exp(torch.vstack((label_0(label)-label_0(torch.tensor(18)),label_1(label)-label_1(torch.tensor(45)),label_2(label)-label_2(torch.tensor(63)))).T)"
   ]
  },
  {
   "cell_type": "code",
   "execution_count": null,
   "id": "a08b975c-ad86-4a61-8dc3-a392bf34ab6b",
   "metadata": {},
   "outputs": [],
   "source": [
    "label_smoothingNorm(torch.tensor([18,29,30,59,60]))"
   ]
  },
  {
   "cell_type": "markdown",
   "id": "746a4f67-c4d1-4b99-90f2-ecc873149784",
   "metadata": {},
   "source": [
    "# 부분 모델 학습과 모델저장"
   ]
  },
  {
   "cell_type": "code",
   "execution_count": 6,
   "id": "587e4613-547a-415e-8532-5c2e51a96670",
   "metadata": {},
   "outputs": [],
   "source": [
    "#사용할 부분 모델 불러오기\n",
    "net_age = timm.create_model('efficientnet_b3a', pretrained=True, num_classes=3)"
   ]
  },
  {
   "cell_type": "code",
   "execution_count": 7,
   "id": "642357d7-6199-47e1-bcc7-9682e5efe8b7",
   "metadata": {},
   "outputs": [],
   "source": [
    "#학습 설정하기\n",
    "num_epochs=1000\n",
    "batch_size=60\n",
    "learning_rate=0.0001\n",
    "models={'age':net_age}\n",
    "weights={'mage': torch.tensor([1042/3/549,1042/3/410,1042/3/83]).to(device),'fage': torch.tensor([1658/3/732,1658/3/817,1658/3/109]).to(device),'mask':torch.tensor([7/15,7/3,7/3]).to(device),'gender':torch.tensor([2700/(2*1042),2700/(2*1658)]).to(device)}"
   ]
  },
  {
   "cell_type": "code",
   "execution_count": null,
   "id": "4a1a0082-d99a-468a-80f5-8a2706ccb91f",
   "metadata": {},
   "outputs": [
    {
     "data": {
      "text/html": [
       "Finishing last run (ID:2gev7ft4) before initializing another..."
      ],
      "text/plain": [
       "<IPython.core.display.HTML object>"
      ]
     },
     "metadata": {},
     "output_type": "display_data"
    },
    {
     "data": {
      "text/html": [
       "<br/>Waiting for W&B process to finish, PID 17593<br/>Program ended successfully."
      ],
      "text/plain": [
       "<IPython.core.display.HTML object>"
      ]
     },
     "metadata": {},
     "output_type": "display_data"
    },
    {
     "data": {
      "application/vnd.jupyter.widget-view+json": {
       "model_id": "",
       "version_major": 2,
       "version_minor": 0
      },
      "text/plain": [
       "VBox(children=(Label(value=' 0.06MB of 0.06MB uploaded (0.00MB deduped)\\r'), FloatProgress(value=1.0, max=1.0)…"
      ]
     },
     "metadata": {},
     "output_type": "display_data"
    },
    {
     "data": {
      "text/html": [
       "Find user logs for this run at: <code>./saved/ageefficientnet_with_label_smoothing_split_gender/Runned2021-08-31 11_20_age/wandb/run-20210831_022051-2gev7ft4/logs/debug.log</code>"
      ],
      "text/plain": [
       "<IPython.core.display.HTML object>"
      ]
     },
     "metadata": {},
     "output_type": "display_data"
    },
    {
     "data": {
      "text/html": [
       "Find internal logs for this run at: <code>./saved/ageefficientnet_with_label_smoothing_split_gender/Runned2021-08-31 11_20_age/wandb/run-20210831_022051-2gev7ft4/logs/debug-internal.log</code>"
      ],
      "text/plain": [
       "<IPython.core.display.HTML object>"
      ]
     },
     "metadata": {},
     "output_type": "display_data"
    },
    {
     "data": {
      "text/html": [
       "<h3>Run summary:</h3><br/><style>\n",
       "    table.wandb td:nth-child(1) { padding: 0 10px; text-align: right }\n",
       "    </style><table class=\"wandb\">\n",
       "<tr><td>training loss</td><td>1.8011</td></tr><tr><td>training accuracy</td><td>0.43127</td></tr><tr><td>training f1 score macro</td><td>0.27198</td></tr><tr><td>training f1 score</td><td>0.38175</td></tr><tr><td>_runtime</td><td>102</td></tr><tr><td>_timestamp</td><td>1630376557</td></tr><tr><td>_step</td><td>1</td></tr><tr><td>loss</td><td>1.8011</td></tr><tr><td>accuracy</td><td>0.43127</td></tr><tr><td>f1 score macro</td><td>0.27198</td></tr><tr><td>f1 score</td><td>0.38175</td></tr></table>"
      ],
      "text/plain": [
       "<IPython.core.display.HTML object>"
      ]
     },
     "metadata": {},
     "output_type": "display_data"
    },
    {
     "data": {
      "text/html": [
       "<h3>Run history:</h3><br/><style>\n",
       "    table.wandb td:nth-child(1) { padding: 0 10px; text-align: right }\n",
       "    </style><table class=\"wandb\">\n",
       "<tr><td>training loss</td><td>▁</td></tr><tr><td>training accuracy</td><td>▁</td></tr><tr><td>training f1 score macro</td><td>▁</td></tr><tr><td>training f1 score</td><td>▁</td></tr><tr><td>_runtime</td><td>▁█</td></tr><tr><td>_timestamp</td><td>▁█</td></tr><tr><td>_step</td><td>▁█</td></tr><tr><td>loss</td><td>▁</td></tr><tr><td>accuracy</td><td>▁</td></tr><tr><td>f1 score macro</td><td>▁</td></tr><tr><td>f1 score</td><td>▁</td></tr></table><br/>"
      ],
      "text/plain": [
       "<IPython.core.display.HTML object>"
      ]
     },
     "metadata": {},
     "output_type": "display_data"
    },
    {
     "data": {
      "text/html": [
       "Synced 5 W&B file(s), 1 media file(s), 0 artifact file(s) and 0 other file(s)"
      ],
      "text/plain": [
       "<IPython.core.display.HTML object>"
      ]
     },
     "metadata": {},
     "output_type": "display_data"
    },
    {
     "data": {
      "text/html": [
       "\n",
       "                    <br/>Synced <strong style=\"color:#cdcd00\">tough-star-12</strong>: <a href=\"https://wandb.ai/tentoto/ageefficientnet_with_label_smoothing_split_gender_age/runs/2gev7ft4\" target=\"_blank\">https://wandb.ai/tentoto/ageefficientnet_with_label_smoothing_split_gender_age/runs/2gev7ft4</a><br/>\n",
       "                "
      ],
      "text/plain": [
       "<IPython.core.display.HTML object>"
      ]
     },
     "metadata": {},
     "output_type": "display_data"
    },
    {
     "data": {
      "text/html": [
       "...Successfully finished last run (ID:2gev7ft4). Initializing new run:<br/><br/>"
      ],
      "text/plain": [
       "<IPython.core.display.HTML object>"
      ]
     },
     "metadata": {},
     "output_type": "display_data"
    },
    {
     "name": "stderr",
     "output_type": "stream",
     "text": [
      "\u001b[34m\u001b[1mwandb\u001b[0m: wandb version 0.12.1 is available!  To upgrade, please run:\n",
      "\u001b[34m\u001b[1mwandb\u001b[0m:  $ pip install wandb --upgrade\n",
      "\n",
      "CondaEnvException: Unable to determine environment\n",
      "\n",
      "Please re-run this command with one of the following options:\n",
      "\n",
      "* Provide an environment name via --name or -n\n",
      "* Re-run this command inside an activated conda environment.\n",
      "\n"
     ]
    },
    {
     "data": {
      "text/html": [
       "\n",
       "                Tracking run with wandb version 0.12.0<br/>\n",
       "                Syncing run <strong style=\"color:#cdcd00\">cerulean-morning-13</strong> to <a href=\"https://wandb.ai\" target=\"_blank\">Weights & Biases</a> <a href=\"https://docs.wandb.com/integrations/jupyter.html\" target=\"_blank\">(Documentation)</a>.<br/>\n",
       "                Project page: <a href=\"https://wandb.ai/tentoto/ageefficientnet_with_label_smoothing_split_gender_age\" target=\"_blank\">https://wandb.ai/tentoto/ageefficientnet_with_label_smoothing_split_gender_age</a><br/>\n",
       "                Run page: <a href=\"https://wandb.ai/tentoto/ageefficientnet_with_label_smoothing_split_gender_age/runs/cdu6tj8n\" target=\"_blank\">https://wandb.ai/tentoto/ageefficientnet_with_label_smoothing_split_gender_age/runs/cdu6tj8n</a><br/>\n",
       "                Run data is saved locally in <code>./saved/ageefficientnet_with_label_smoothing_split_gender/Runned2021-08-31 11_40_age/wandb/run-20210831_024003-cdu6tj8n</code><br/><br/>\n",
       "            "
      ],
      "text/plain": [
       "<IPython.core.display.HTML object>"
      ]
     },
     "metadata": {},
     "output_type": "display_data"
    },
    {
     "name": "stdout",
     "output_type": "stream",
     "text": [
      "training: age\n",
      "mod: train\n"
     ]
    },
    {
     "data": {
      "application/vnd.jupyter.widget-view+json": {
       "model_id": "eb2aaf409b19496dbdf59aceadbe623b",
       "version_major": 2,
       "version_minor": 0
      },
      "text/plain": [
       "HBox(children=(HTML(value=''), FloatProgress(value=0.0, max=315.0), HTML(value='')))"
      ]
     },
     "metadata": {},
     "output_type": "display_data"
    },
    {
     "name": "stdout",
     "output_type": "stream",
     "text": [
      "\n",
      "현재 epoch-0의 평균 Loss : 0.041, 평균 Accuracy : 0.786, F1 score macro: 0.706, F1 score weight: 0.706\n",
      "mod: train\n"
     ]
    },
    {
     "data": {
      "application/vnd.jupyter.widget-view+json": {
       "model_id": "85f9debe55d34b2b84f653334f3110a2",
       "version_major": 2,
       "version_minor": 0
      },
      "text/plain": [
       "HBox(children=(HTML(value=''), FloatProgress(value=0.0, max=315.0), HTML(value='')))"
      ]
     },
     "metadata": {},
     "output_type": "display_data"
    },
    {
     "name": "stdout",
     "output_type": "stream",
     "text": [
      "\n",
      "현재 epoch-1의 평균 Loss : 0.030, 평균 Accuracy : 0.938, F1 score macro: 0.899, F1 score weight: 0.899\n",
      "mod: train\n"
     ]
    },
    {
     "data": {
      "application/vnd.jupyter.widget-view+json": {
       "model_id": "4b4375a17e8544a4a5dd96dc6ce19572",
       "version_major": 2,
       "version_minor": 0
      },
      "text/plain": [
       "HBox(children=(HTML(value=''), FloatProgress(value=0.0, max=315.0), HTML(value='')))"
      ]
     },
     "metadata": {},
     "output_type": "display_data"
    },
    {
     "name": "stdout",
     "output_type": "stream",
     "text": [
      "\n",
      "현재 epoch-2의 평균 Loss : 0.029, 평균 Accuracy : 0.970, F1 score macro: 0.958, F1 score weight: 0.958\n",
      "mod: train\n"
     ]
    },
    {
     "data": {
      "application/vnd.jupyter.widget-view+json": {
       "model_id": "bf1601971d9f423bbfb745871f6ec1dc",
       "version_major": 2,
       "version_minor": 0
      },
      "text/plain": [
       "HBox(children=(HTML(value=''), FloatProgress(value=0.0, max=315.0), HTML(value='')))"
      ]
     },
     "metadata": {},
     "output_type": "display_data"
    },
    {
     "name": "stdout",
     "output_type": "stream",
     "text": [
      "\n",
      "현재 epoch-3의 평균 Loss : 0.028, 평균 Accuracy : 0.986, F1 score macro: 0.982, F1 score weight: 0.982\n",
      "mod: train\n"
     ]
    },
    {
     "data": {
      "application/vnd.jupyter.widget-view+json": {
       "model_id": "52c09ba2eebe4879996f8d8f3b1e2ae5",
       "version_major": 2,
       "version_minor": 0
      },
      "text/plain": [
       "HBox(children=(HTML(value=''), FloatProgress(value=0.0, max=315.0), HTML(value='')))"
      ]
     },
     "metadata": {},
     "output_type": "display_data"
    },
    {
     "name": "stdout",
     "output_type": "stream",
     "text": [
      "\n",
      "현재 epoch-4의 평균 Loss : 0.028, 평균 Accuracy : 0.990, F1 score macro: 0.986, F1 score weight: 0.986\n",
      "mod: train\n"
     ]
    },
    {
     "data": {
      "application/vnd.jupyter.widget-view+json": {
       "model_id": "1e9727362f3f427f96e19133789f62d7",
       "version_major": 2,
       "version_minor": 0
      },
      "text/plain": [
       "HBox(children=(HTML(value=''), FloatProgress(value=0.0, max=315.0), HTML(value='')))"
      ]
     },
     "metadata": {},
     "output_type": "display_data"
    },
    {
     "name": "stdout",
     "output_type": "stream",
     "text": [
      "\n",
      "현재 epoch-5의 평균 Loss : 0.028, 평균 Accuracy : 0.993, F1 score macro: 0.993, F1 score weight: 0.993\n",
      "mod: train\n"
     ]
    },
    {
     "data": {
      "application/vnd.jupyter.widget-view+json": {
       "model_id": "05585c2740264c178777391a55e6d71e",
       "version_major": 2,
       "version_minor": 0
      },
      "text/plain": [
       "HBox(children=(HTML(value=''), FloatProgress(value=0.0, max=315.0), HTML(value='')))"
      ]
     },
     "metadata": {},
     "output_type": "display_data"
    },
    {
     "name": "stdout",
     "output_type": "stream",
     "text": [
      "\n",
      "현재 epoch-6의 평균 Loss : 0.028, 평균 Accuracy : 0.995, F1 score macro: 0.995, F1 score weight: 0.995\n",
      "mod: train\n"
     ]
    },
    {
     "data": {
      "application/vnd.jupyter.widget-view+json": {
       "model_id": "b2cead589d154598a469484bb04e9f8b",
       "version_major": 2,
       "version_minor": 0
      },
      "text/plain": [
       "HBox(children=(HTML(value=''), FloatProgress(value=0.0, max=315.0), HTML(value='')))"
      ]
     },
     "metadata": {},
     "output_type": "display_data"
    },
    {
     "name": "stdout",
     "output_type": "stream",
     "text": [
      "\n",
      "현재 epoch-7의 평균 Loss : 0.028, 평균 Accuracy : 0.996, F1 score macro: 0.996, F1 score weight: 0.996\n",
      "mod: train\n"
     ]
    },
    {
     "data": {
      "application/vnd.jupyter.widget-view+json": {
       "model_id": "4b9051168aa743bb8db7d3a9649447c1",
       "version_major": 2,
       "version_minor": 0
      },
      "text/plain": [
       "HBox(children=(HTML(value=''), FloatProgress(value=0.0, max=315.0), HTML(value='')))"
      ]
     },
     "metadata": {},
     "output_type": "display_data"
    },
    {
     "name": "stdout",
     "output_type": "stream",
     "text": [
      "\n",
      "현재 epoch-8의 평균 Loss : 0.028, 평균 Accuracy : 0.997, F1 score macro: 0.997, F1 score weight: 0.997\n",
      "mod: train\n"
     ]
    },
    {
     "data": {
      "application/vnd.jupyter.widget-view+json": {
       "model_id": "a01e4d05fe354c3d9da86558b575efaa",
       "version_major": 2,
       "version_minor": 0
      },
      "text/plain": [
       "HBox(children=(HTML(value=''), FloatProgress(value=0.0, max=315.0), HTML(value='')))"
      ]
     },
     "metadata": {},
     "output_type": "display_data"
    },
    {
     "name": "stdout",
     "output_type": "stream",
     "text": [
      "\n",
      "현재 epoch-9의 평균 Loss : 0.028, 평균 Accuracy : 0.998, F1 score macro: 0.997, F1 score weight: 0.997\n",
      "mod: train\n"
     ]
    },
    {
     "data": {
      "application/vnd.jupyter.widget-view+json": {
       "model_id": "dd9b1fa2c71a42e3b25961e894fbe1c9",
       "version_major": 2,
       "version_minor": 0
      },
      "text/plain": [
       "HBox(children=(HTML(value=''), FloatProgress(value=0.0, max=315.0), HTML(value='')))"
      ]
     },
     "metadata": {},
     "output_type": "display_data"
    },
    {
     "name": "stdout",
     "output_type": "stream",
     "text": [
      "\n",
      "현재 epoch-10의 평균 Loss : 0.028, 평균 Accuracy : 0.998, F1 score macro: 0.998, F1 score weight: 0.998\n",
      "mod: train\n"
     ]
    },
    {
     "data": {
      "application/vnd.jupyter.widget-view+json": {
       "model_id": "677c0f13b8a642c9a8d3ce6a916d4f5c",
       "version_major": 2,
       "version_minor": 0
      },
      "text/plain": [
       "HBox(children=(HTML(value=''), FloatProgress(value=0.0, max=315.0), HTML(value='')))"
      ]
     },
     "metadata": {},
     "output_type": "display_data"
    },
    {
     "name": "stdout",
     "output_type": "stream",
     "text": [
      "\n",
      "현재 epoch-11의 평균 Loss : 0.028, 평균 Accuracy : 0.998, F1 score macro: 0.998, F1 score weight: 0.998\n",
      "mod: train\n"
     ]
    },
    {
     "data": {
      "application/vnd.jupyter.widget-view+json": {
       "model_id": "b27454bf6bc14d91bc5807ce01c0f5b3",
       "version_major": 2,
       "version_minor": 0
      },
      "text/plain": [
       "HBox(children=(HTML(value=''), FloatProgress(value=0.0, max=315.0), HTML(value='')))"
      ]
     },
     "metadata": {},
     "output_type": "display_data"
    },
    {
     "name": "stdout",
     "output_type": "stream",
     "text": [
      "\n",
      "현재 epoch-12의 평균 Loss : 0.028, 평균 Accuracy : 0.999, F1 score macro: 0.998, F1 score weight: 0.998\n",
      "mod: train\n"
     ]
    },
    {
     "data": {
      "application/vnd.jupyter.widget-view+json": {
       "model_id": "8385e0445b554e96953a86fc71b75dd7",
       "version_major": 2,
       "version_minor": 0
      },
      "text/plain": [
       "HBox(children=(HTML(value=''), FloatProgress(value=0.0, max=315.0), HTML(value='')))"
      ]
     },
     "metadata": {},
     "output_type": "display_data"
    },
    {
     "name": "stdout",
     "output_type": "stream",
     "text": [
      "\n",
      "현재 epoch-13의 평균 Loss : 0.028, 평균 Accuracy : 0.998, F1 score macro: 0.999, F1 score weight: 0.999\n",
      "mod: train\n"
     ]
    },
    {
     "data": {
      "application/vnd.jupyter.widget-view+json": {
       "model_id": "3706f1d255f142f6a8e12fb8ca55b667",
       "version_major": 2,
       "version_minor": 0
      },
      "text/plain": [
       "HBox(children=(HTML(value=''), FloatProgress(value=0.0, max=315.0), HTML(value='')))"
      ]
     },
     "metadata": {},
     "output_type": "display_data"
    },
    {
     "name": "stdout",
     "output_type": "stream",
     "text": [
      "\n",
      "현재 epoch-14의 평균 Loss : 0.028, 평균 Accuracy : 0.998, F1 score macro: 0.998, F1 score weight: 0.998\n",
      "mod: train\n"
     ]
    },
    {
     "data": {
      "application/vnd.jupyter.widget-view+json": {
       "model_id": "ca8cc8add2f04afb8aacba3b1d9cbb59",
       "version_major": 2,
       "version_minor": 0
      },
      "text/plain": [
       "HBox(children=(HTML(value=''), FloatProgress(value=0.0, max=315.0), HTML(value='')))"
      ]
     },
     "metadata": {},
     "output_type": "display_data"
    },
    {
     "name": "stdout",
     "output_type": "stream",
     "text": [
      "\n",
      "현재 epoch-15의 평균 Loss : 0.028, 평균 Accuracy : 0.999, F1 score macro: 0.999, F1 score weight: 0.999\n",
      "mod: train\n"
     ]
    },
    {
     "data": {
      "application/vnd.jupyter.widget-view+json": {
       "model_id": "ffdc65fc51944ce3805d91dadcf71c0e",
       "version_major": 2,
       "version_minor": 0
      },
      "text/plain": [
       "HBox(children=(HTML(value=''), FloatProgress(value=0.0, max=315.0), HTML(value='')))"
      ]
     },
     "metadata": {},
     "output_type": "display_data"
    },
    {
     "name": "stdout",
     "output_type": "stream",
     "text": [
      "\n",
      "현재 epoch-16의 평균 Loss : 0.028, 평균 Accuracy : 0.999, F1 score macro: 0.999, F1 score weight: 0.999\n",
      "mod: train\n"
     ]
    },
    {
     "data": {
      "application/vnd.jupyter.widget-view+json": {
       "model_id": "5e2b7b30d5df4161a3f369b5c8170d9c",
       "version_major": 2,
       "version_minor": 0
      },
      "text/plain": [
       "HBox(children=(HTML(value=''), FloatProgress(value=0.0, max=315.0), HTML(value='')))"
      ]
     },
     "metadata": {},
     "output_type": "display_data"
    },
    {
     "name": "stdout",
     "output_type": "stream",
     "text": [
      "\n",
      "현재 epoch-17의 평균 Loss : 0.028, 평균 Accuracy : 0.999, F1 score macro: 0.998, F1 score weight: 0.998\n",
      "mod: train\n"
     ]
    },
    {
     "data": {
      "application/vnd.jupyter.widget-view+json": {
       "model_id": "5bd3f1cedd1841499e18873d3533d117",
       "version_major": 2,
       "version_minor": 0
      },
      "text/plain": [
       "HBox(children=(HTML(value=''), FloatProgress(value=0.0, max=315.0), HTML(value='')))"
      ]
     },
     "metadata": {},
     "output_type": "display_data"
    }
   ],
   "source": [
    "#실행 파일 저장 경로\n",
    "\n",
    "        \n",
    "#부분 모델 사전 학습\n",
    "for key in ['age']:\n",
    "    \n",
    "    now='Runned'+date+'_'.join(str(datetime.now().astimezone(KST))[10:16].split(':'))\n",
    "    base_dir=os.path.join('.',f'saved/{project_name}/{now}_{key}')\n",
    "    wandb_dir=base_dir\n",
    "    checkpoint_dir=''\n",
    "    model_dir=''\n",
    "    result_dir=''\n",
    "    dirs={'model':model_dir,'checkpoint':checkpoint_dir,'result':result_dir}\n",
    "    for pth in ['model','checkpoint','result']:\n",
    "        dirs[pth]=os.path.join(base_dir,pth)\n",
    "        if not os.path.isdir(dirs[pth]):\n",
    "            os.makedirs(dirs[pth])\n",
    "    \n",
    "    fweight=weights['fage']\n",
    "    mweight=weights['mage']\n",
    "    config={'epochs':num_epochs,'transform':'uptrans','batch_size':batch_size,'learning_rate':learning_rate,'gamma':0.75,'mweight':mweight,'fweight':fweight,'f1_avg':'weighted','norm1':[11,7,-20],'norm2':[(12,41.7),7,20],'norm3':[43.7,.65]}\n",
    "    data=ImageDataset()\n",
    "    wandb.init(project=project_name+'_'+key,config=config,dir=wandb_dir)\n",
    "    print('training:',key)\n",
    "    model=models['age']\n",
    "    model.to(device)\n",
    "\n",
    "    optim=optm.Adam(model.parameters())\n",
    "\n",
    "    scheduler = optm.lr_scheduler.StepLR(moptim, step_size=1, gamma=config['gamma'])\n",
    "    if key!='age':\n",
    "        loss_fn_m=nn.CrossEntropyLoss\n",
    "    else:\n",
    "        loss_fn_m=nn.BCEWithLogitsLoss(pos_weight=mweight)\n",
    "        loss_fn_f=nn.BCEWithLogitsLoss(pos_weight=fweight)\n",
    "        \n",
    "    best_f1=0.\n",
    "    best_epoch=0\n",
    "    stopper=0\n",
    "    for e in range(num_epochs):   \n",
    "        for mod in ['train']:\n",
    "            print('mod:',mod)\n",
    "            data.mod=mod\n",
    "\n",
    "            if mod=='train':\n",
    "                dataloader=DataLoader(data,batch_size=batch_size,shuffle=True,pin_memory=True,num_workers=2)\n",
    "                #fmodel.train()\n",
    "                mmodel.train()\n",
    "            else:\n",
    "                dataloader=DataLoader(data,shuffle=False)\n",
    "                mmodel.eval()\n",
    "                #fmodel.eval()\n",
    "\n",
    "            with tqdm(dataloader) as pbar:\n",
    "                running_loss=0.\n",
    "                running_acc=0.\n",
    "                prev_f1=0.\n",
    "                tot_pred=torch.tensor([]).to(device)\n",
    "                tot_label=torch.tensor([]).to(device)\n",
    "                cm_pred=torch.tensor([]).to(device)\n",
    "                cm_label=torch.tensor([]).to(device)\n",
    "                \n",
    "                for n,(image,label,age) in enumerate(pbar):\n",
    "                    image=image.to(device)\n",
    "                    label=label.to(device)\n",
    "                    age=age.to(device)\n",
    "                    gender=(label//3)%2\n",
    "\n",
    "                    if False:\n",
    "                        mlabel=torch.hstack([label[i] for i in range(len(gender)) if gender[i]==0])\n",
    "                        flabel=torch.hstack([label[i] for i in range(len(gender)) if gender[i]==1])\n",
    "                        mimage=torch.vstack([image[i:i+1] for i in range(len(gender)) if gender[i]==0])\n",
    "                        fimage=torch.vstack([image[i:i+1] for i in range(len(gender)) if gender[i]==1])\n",
    "                        mage=torch.hstack([age[i] for i in range(len(gender)) if gender[i]==0])\n",
    "                        fage=torch.hstack([age[i] for i in range(len(gender)) if gender[i]==1])\n",
    "                        logit_f=fmodel(fimage)\n",
    "                        _,fpred=torch.max(logit_f,1)\n",
    "                        logit_m=mmodel(mimage)\n",
    "                        _,mpred=torch.max(logit_m,1)\n",
    "                        mpred=mpred+6*(mlabel//6)\n",
    "                        fpred=fpred+6*(flabel//6)+3\n",
    "                        loss_f=loss_fn_f(logit_f,label_smoothing(fage))\n",
    "                        loss_m=loss_fn_m(logit_m,label_smoothing(mage))\n",
    "                        running_loss+=(loss_m.item()+loss_f.item())*image.size(0)\n",
    "                        running_acc+=(torch.sum(mpred==mlabel)+torch.sum(fpred==flabel))/image.size(0)\n",
    "\n",
    "                    elif True:\n",
    "                        mlabel=label\n",
    "                        mimage=image\n",
    "                        mage=age\n",
    "                        logit_m=mmodel(mimage)\n",
    "                        _,mpred=torch.max(logit_m,1)\n",
    "                        mpred=mpred+6*(mlabel//6)+3*gender\n",
    "                        loss_m=loss_fn_m(logit_m,label_smoothing(mage))\n",
    "                        running_loss+=(loss_m.item())*image.size(0)\n",
    "                        running_acc+=(torch.sum(mpred==mlabel))/image.size(0)\n",
    "\n",
    "                    else:\n",
    "                        flabel=torch.hstack([label[i] for i in range(len(gender)) if gender[i]==1])\n",
    "                        fimage=torch.vstack([image[i:i+1] for i in range(len(gender)) if gender[i]==1])\n",
    "                        fage=torch.hstack([age[i] for i in range(len(gender)) if gender[i]==1])\n",
    "                        logit_f=fmodel(fimage)\n",
    "                        _,fpred=torch.max(logit_f,1)\n",
    "                        fpred=fpred+6*(flabel//6)+3\n",
    "                        loss_f=loss_fn_f(logit_f,label_smoothing(fage))\n",
    "                        running_loss+=(loss_f.item())*image.size(0)\n",
    "                        running_acc+=(torch.sum(fpred==flabel))/image.size(0)\n",
    "                    \n",
    "\n",
    "\n",
    "                        \n",
    "                        \n",
    "                    if True:\n",
    "                        #foptim.zero_grad()\n",
    "                        #loss_f.backward()\n",
    "                        #foptim.step()\n",
    "                        moptim.zero_grad()\n",
    "                        loss_m.backward()\n",
    "                        moptim.step()\n",
    "                        tot_pred=torch.hstack((tot_pred,mpred))\n",
    "                        tot_label=torch.hstack((tot_label,mlabel))\n",
    "                    elif False:\n",
    "                        tot_pred=torch.hstack((tot_pred,mpred))\n",
    "                        tot_label=torch.hstack((tot_label,mlabel))\n",
    "                    else:\n",
    "                        tot_pred=torch.hstack((tot_pred,fpred))\n",
    "                        tot_label=torch.hstack((tot_label,flabel))\n",
    "                        \n",
    "                    \n",
    "                    if data.train:\n",
    "                        pbar.set_postfix({'epoch' : e, 'loss' : running_loss/(n+1), 'accuracy' : float(running_acc)/(n+1),'F1 score':f1_score(tot_label.cpu(),tot_pred.cpu(),average='weighted')})\n",
    "                        \n",
    "                            \n",
    "                if data.train:\n",
    "                    epoch_loss=running_loss/len(dataloader.dataset)\n",
    "                    epoch_acc=running_acc*image.size(0)/len(dataloader.dataset)\n",
    "                    epoch_f1_w=f1_score(tot_label.cpu(),tot_pred.cpu(),average='weighted')\n",
    "                    epoch_f1_m=f1_score(tot_label.cpu(),tot_pred.cpu(),average='macro')\n",
    "                    print(f\"현재 epoch-{e}의 평균 Loss : {epoch_loss:.3f}, 평균 Accuracy : {epoch_acc:.3f}, F1 score macro: {epoch_f1_m:.3f}, F1 score weight: {epoch_f1_m:.3f}\")\n",
    "                    if mod=='train':\n",
    "                        #scheduler_f.step()\n",
    "                        scheduler_m.step()\n",
    "                        wandb.log({'training loss' : epoch_loss, 'training accuracy':epoch_acc,'training f1 score macro':epoch_f1_m,'training f1 score':epoch_f1_w})\n",
    "                    \n",
    "        if mod=='train':\n",
    "            cm=conf_mat(tot_label.cpu(),tot_pred.cpu())\n",
    "            cm.savefig(f'./saved/{project_name}/{now}_{key}/checkpoint/checkpoint_{key}_2{str(e).zfill(3)}.jpg')\n",
    "            wandb.log({f'{str(e).zfill(3)}_confusion_matrix':wandb.Image(cm),'loss' : epoch_loss, 'accuracy':epoch_acc,'f1 score macro':epoch_f1_m,'f1 score':epoch_f1_w})\n",
    "            plt.close()\n",
    "            if (prev_f1<epoch_f1_w) and not (best_f1<epoch_f1_w):\n",
    "                torch.save({'epoch':e,'loss_m':loss_m,'mmodel_state_dict':mmodel.state_dict(),'moptimizer_state_dict':moptim.state_dict()},f\"{dirs['checkpoint']}/{'2'+str(e).zfill(3)}_checkpoint_{key}_{epoch_f1_w:.5f}_{epoch_acc:.3f}_{epoch_loss:.3f}.pt\")\n",
    "            if best_f1<epoch_f1_w:\n",
    "                stopper=0\n",
    "                best_epoch=e\n",
    "                best_f1=epoch_f1_w\n",
    "                torch.save({'epoch':e,'loss_m':loss_m,'mmodel_state_dict':mmodel.state_dict(),'moptimizer_state_dict':moptim.state_dict()},f\"{dirs['checkpoint']}/{'2'+str(e).zfill(3)}_checkpoint_{key}_best_{epoch_f1_w:.5f}_{epoch_loss:.3f}_{epoch_acc:.3f}.pt\")\n",
    "            elif stopper==5:\n",
    "                break\n",
    "            else:\n",
    "                stopper+=1\n",
    "            prev_f1=epoch_f1_w\n",
    "    print(best_epoch)\n",
    "    wandb.finish()"
   ]
  },
  {
   "cell_type": "code",
   "execution_count": null,
   "id": "a57f682d-9462-49e0-b45b-bc17daab2014",
   "metadata": {},
   "outputs": [],
   "source": []
  },
  {
   "cell_type": "code",
   "execution_count": null,
   "id": "e0e8525c-b1e5-42e0-8d9f-e601ea10cc73",
   "metadata": {},
   "outputs": [],
   "source": []
  },
  {
   "cell_type": "code",
   "execution_count": null,
   "id": "c2e3c0ec-a8ee-4843-b2a2-1970152dbdee",
   "metadata": {},
   "outputs": [],
   "source": []
  }
 ],
 "metadata": {
  "kernelspec": {
   "display_name": "Python 3 (ipykernel)",
   "language": "python",
   "name": "python3"
  },
  "language_info": {
   "codemirror_mode": {
    "name": "ipython",
    "version": 3
   },
   "file_extension": ".py",
   "mimetype": "text/x-python",
   "name": "python",
   "nbconvert_exporter": "python",
   "pygments_lexer": "ipython3",
   "version": "3.8.5"
  }
 },
 "nbformat": 4,
 "nbformat_minor": 5
}
